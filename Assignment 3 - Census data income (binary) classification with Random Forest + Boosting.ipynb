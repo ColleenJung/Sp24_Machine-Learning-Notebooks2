{
 "cells": [
  {
   "cell_type": "markdown",
   "id": "6f278f8f",
   "metadata": {},
   "source": [
    "# Boosting and Classification:\n",
    "\n",
    "Data: The data we will use has been taken from here: https://archive.ics.uci.edu/ml/datasets/AdultLinks to an external site.\n",
    "\n",
    "There will be some basic preprocessing work to do, some of which is outlined. But please post on Canvas as questions arise. The goal of this homework is to take census data and predict whether an individual would have an income that exceeds $50k/yr. This is a binary classification problem.\n",
    "\n",
    "\n",
    "# 1. Data Processing\n",
    "\n",
    "a) Import the data from the website directly: https://archive.ics.uci.edu/ml/machine-learning-databases/adult/adult.dataLinks to an external site.\n",
    "\n",
    "We can use pandas to read the data that is stored in csv format. Please note there is no header, so we will build column names in a later step. Also, we are going to remove leading white spaces (which just make things tough later)"
   ]
  },
  {
   "cell_type": "markdown",
   "id": "edcc58ac",
   "metadata": {},
   "source": [
    "b) There is no header included, but information on column names is here: https://archive.ics.uci.edu/ml/machine-learning-databases/adult/adult.namesLinks to an external site.\n",
    "\n",
    "Scroll to the bottom of that link to see the explanation of the columns. You need to build the column names for your dataframe. It is highly encouraged to not include spaces in column names. Finally, call your target variable (the last column of \">50K\" or \"<=50k\") \"salary\".\n",
    "\n",
    "An easy way to do this is to build a list of column names, and pass those into the .columns() attribute.\n",
    "\n",
    "Example below:\n",
    "\n",
    "list_of_columns = [\"column_a\", \"column_b\", \"column_c\"]\n",
    "my_dataframe.columns = list_of_columns"
   ]
  },
  {
   "cell_type": "code",
   "execution_count": 1,
   "id": "9d3db689",
   "metadata": {},
   "outputs": [
    {
     "data": {
      "text/html": [
       "<div>\n",
       "<style scoped>\n",
       "    .dataframe tbody tr th:only-of-type {\n",
       "        vertical-align: middle;\n",
       "    }\n",
       "\n",
       "    .dataframe tbody tr th {\n",
       "        vertical-align: top;\n",
       "    }\n",
       "\n",
       "    .dataframe thead th {\n",
       "        text-align: right;\n",
       "    }\n",
       "</style>\n",
       "<table border=\"1\" class=\"dataframe\">\n",
       "  <thead>\n",
       "    <tr style=\"text-align: right;\">\n",
       "      <th></th>\n",
       "      <th>age</th>\n",
       "      <th>workclass</th>\n",
       "      <th>fnlwgt</th>\n",
       "      <th>education</th>\n",
       "      <th>education_num</th>\n",
       "      <th>marital_status</th>\n",
       "      <th>occupation</th>\n",
       "      <th>relationship</th>\n",
       "      <th>race</th>\n",
       "      <th>sex</th>\n",
       "      <th>capital_gain</th>\n",
       "      <th>capital_loss</th>\n",
       "      <th>hours_per_week</th>\n",
       "      <th>native_country</th>\n",
       "      <th>salary</th>\n",
       "    </tr>\n",
       "  </thead>\n",
       "  <tbody>\n",
       "    <tr>\n",
       "      <th>0</th>\n",
       "      <td>39</td>\n",
       "      <td>State-gov</td>\n",
       "      <td>77516</td>\n",
       "      <td>Bachelors</td>\n",
       "      <td>13</td>\n",
       "      <td>Never-married</td>\n",
       "      <td>Adm-clerical</td>\n",
       "      <td>Not-in-family</td>\n",
       "      <td>White</td>\n",
       "      <td>Male</td>\n",
       "      <td>2174</td>\n",
       "      <td>0</td>\n",
       "      <td>40</td>\n",
       "      <td>United-States</td>\n",
       "      <td>&lt;=50K</td>\n",
       "    </tr>\n",
       "    <tr>\n",
       "      <th>1</th>\n",
       "      <td>50</td>\n",
       "      <td>Self-emp-not-inc</td>\n",
       "      <td>83311</td>\n",
       "      <td>Bachelors</td>\n",
       "      <td>13</td>\n",
       "      <td>Married-civ-spouse</td>\n",
       "      <td>Exec-managerial</td>\n",
       "      <td>Husband</td>\n",
       "      <td>White</td>\n",
       "      <td>Male</td>\n",
       "      <td>0</td>\n",
       "      <td>0</td>\n",
       "      <td>13</td>\n",
       "      <td>United-States</td>\n",
       "      <td>&lt;=50K</td>\n",
       "    </tr>\n",
       "    <tr>\n",
       "      <th>2</th>\n",
       "      <td>38</td>\n",
       "      <td>Private</td>\n",
       "      <td>215646</td>\n",
       "      <td>HS-grad</td>\n",
       "      <td>9</td>\n",
       "      <td>Divorced</td>\n",
       "      <td>Handlers-cleaners</td>\n",
       "      <td>Not-in-family</td>\n",
       "      <td>White</td>\n",
       "      <td>Male</td>\n",
       "      <td>0</td>\n",
       "      <td>0</td>\n",
       "      <td>40</td>\n",
       "      <td>United-States</td>\n",
       "      <td>&lt;=50K</td>\n",
       "    </tr>\n",
       "    <tr>\n",
       "      <th>3</th>\n",
       "      <td>53</td>\n",
       "      <td>Private</td>\n",
       "      <td>234721</td>\n",
       "      <td>11th</td>\n",
       "      <td>7</td>\n",
       "      <td>Married-civ-spouse</td>\n",
       "      <td>Handlers-cleaners</td>\n",
       "      <td>Husband</td>\n",
       "      <td>Black</td>\n",
       "      <td>Male</td>\n",
       "      <td>0</td>\n",
       "      <td>0</td>\n",
       "      <td>40</td>\n",
       "      <td>United-States</td>\n",
       "      <td>&lt;=50K</td>\n",
       "    </tr>\n",
       "    <tr>\n",
       "      <th>4</th>\n",
       "      <td>28</td>\n",
       "      <td>Private</td>\n",
       "      <td>338409</td>\n",
       "      <td>Bachelors</td>\n",
       "      <td>13</td>\n",
       "      <td>Married-civ-spouse</td>\n",
       "      <td>Prof-specialty</td>\n",
       "      <td>Wife</td>\n",
       "      <td>Black</td>\n",
       "      <td>Female</td>\n",
       "      <td>0</td>\n",
       "      <td>0</td>\n",
       "      <td>40</td>\n",
       "      <td>Cuba</td>\n",
       "      <td>&lt;=50K</td>\n",
       "    </tr>\n",
       "    <tr>\n",
       "      <th>...</th>\n",
       "      <td>...</td>\n",
       "      <td>...</td>\n",
       "      <td>...</td>\n",
       "      <td>...</td>\n",
       "      <td>...</td>\n",
       "      <td>...</td>\n",
       "      <td>...</td>\n",
       "      <td>...</td>\n",
       "      <td>...</td>\n",
       "      <td>...</td>\n",
       "      <td>...</td>\n",
       "      <td>...</td>\n",
       "      <td>...</td>\n",
       "      <td>...</td>\n",
       "      <td>...</td>\n",
       "    </tr>\n",
       "    <tr>\n",
       "      <th>32556</th>\n",
       "      <td>27</td>\n",
       "      <td>Private</td>\n",
       "      <td>257302</td>\n",
       "      <td>Assoc-acdm</td>\n",
       "      <td>12</td>\n",
       "      <td>Married-civ-spouse</td>\n",
       "      <td>Tech-support</td>\n",
       "      <td>Wife</td>\n",
       "      <td>White</td>\n",
       "      <td>Female</td>\n",
       "      <td>0</td>\n",
       "      <td>0</td>\n",
       "      <td>38</td>\n",
       "      <td>United-States</td>\n",
       "      <td>&lt;=50K</td>\n",
       "    </tr>\n",
       "    <tr>\n",
       "      <th>32557</th>\n",
       "      <td>40</td>\n",
       "      <td>Private</td>\n",
       "      <td>154374</td>\n",
       "      <td>HS-grad</td>\n",
       "      <td>9</td>\n",
       "      <td>Married-civ-spouse</td>\n",
       "      <td>Machine-op-inspct</td>\n",
       "      <td>Husband</td>\n",
       "      <td>White</td>\n",
       "      <td>Male</td>\n",
       "      <td>0</td>\n",
       "      <td>0</td>\n",
       "      <td>40</td>\n",
       "      <td>United-States</td>\n",
       "      <td>&gt;50K</td>\n",
       "    </tr>\n",
       "    <tr>\n",
       "      <th>32558</th>\n",
       "      <td>58</td>\n",
       "      <td>Private</td>\n",
       "      <td>151910</td>\n",
       "      <td>HS-grad</td>\n",
       "      <td>9</td>\n",
       "      <td>Widowed</td>\n",
       "      <td>Adm-clerical</td>\n",
       "      <td>Unmarried</td>\n",
       "      <td>White</td>\n",
       "      <td>Female</td>\n",
       "      <td>0</td>\n",
       "      <td>0</td>\n",
       "      <td>40</td>\n",
       "      <td>United-States</td>\n",
       "      <td>&lt;=50K</td>\n",
       "    </tr>\n",
       "    <tr>\n",
       "      <th>32559</th>\n",
       "      <td>22</td>\n",
       "      <td>Private</td>\n",
       "      <td>201490</td>\n",
       "      <td>HS-grad</td>\n",
       "      <td>9</td>\n",
       "      <td>Never-married</td>\n",
       "      <td>Adm-clerical</td>\n",
       "      <td>Own-child</td>\n",
       "      <td>White</td>\n",
       "      <td>Male</td>\n",
       "      <td>0</td>\n",
       "      <td>0</td>\n",
       "      <td>20</td>\n",
       "      <td>United-States</td>\n",
       "      <td>&lt;=50K</td>\n",
       "    </tr>\n",
       "    <tr>\n",
       "      <th>32560</th>\n",
       "      <td>52</td>\n",
       "      <td>Self-emp-inc</td>\n",
       "      <td>287927</td>\n",
       "      <td>HS-grad</td>\n",
       "      <td>9</td>\n",
       "      <td>Married-civ-spouse</td>\n",
       "      <td>Exec-managerial</td>\n",
       "      <td>Wife</td>\n",
       "      <td>White</td>\n",
       "      <td>Female</td>\n",
       "      <td>15024</td>\n",
       "      <td>0</td>\n",
       "      <td>40</td>\n",
       "      <td>United-States</td>\n",
       "      <td>&gt;50K</td>\n",
       "    </tr>\n",
       "  </tbody>\n",
       "</table>\n",
       "<p>32561 rows × 15 columns</p>\n",
       "</div>"
      ],
      "text/plain": [
       "       age         workclass  fnlwgt   education  education_num  \\\n",
       "0       39         State-gov   77516   Bachelors             13   \n",
       "1       50  Self-emp-not-inc   83311   Bachelors             13   \n",
       "2       38           Private  215646     HS-grad              9   \n",
       "3       53           Private  234721        11th              7   \n",
       "4       28           Private  338409   Bachelors             13   \n",
       "...    ...               ...     ...         ...            ...   \n",
       "32556   27           Private  257302  Assoc-acdm             12   \n",
       "32557   40           Private  154374     HS-grad              9   \n",
       "32558   58           Private  151910     HS-grad              9   \n",
       "32559   22           Private  201490     HS-grad              9   \n",
       "32560   52      Self-emp-inc  287927     HS-grad              9   \n",
       "\n",
       "           marital_status         occupation   relationship   race     sex  \\\n",
       "0           Never-married       Adm-clerical  Not-in-family  White    Male   \n",
       "1      Married-civ-spouse    Exec-managerial        Husband  White    Male   \n",
       "2                Divorced  Handlers-cleaners  Not-in-family  White    Male   \n",
       "3      Married-civ-spouse  Handlers-cleaners        Husband  Black    Male   \n",
       "4      Married-civ-spouse     Prof-specialty           Wife  Black  Female   \n",
       "...                   ...                ...            ...    ...     ...   \n",
       "32556  Married-civ-spouse       Tech-support           Wife  White  Female   \n",
       "32557  Married-civ-spouse  Machine-op-inspct        Husband  White    Male   \n",
       "32558             Widowed       Adm-clerical      Unmarried  White  Female   \n",
       "32559       Never-married       Adm-clerical      Own-child  White    Male   \n",
       "32560  Married-civ-spouse    Exec-managerial           Wife  White  Female   \n",
       "\n",
       "       capital_gain  capital_loss  hours_per_week native_country salary  \n",
       "0              2174             0              40  United-States  <=50K  \n",
       "1                 0             0              13  United-States  <=50K  \n",
       "2                 0             0              40  United-States  <=50K  \n",
       "3                 0             0              40  United-States  <=50K  \n",
       "4                 0             0              40           Cuba  <=50K  \n",
       "...             ...           ...             ...            ...    ...  \n",
       "32556             0             0              38  United-States  <=50K  \n",
       "32557             0             0              40  United-States   >50K  \n",
       "32558             0             0              40  United-States  <=50K  \n",
       "32559             0             0              20  United-States  <=50K  \n",
       "32560         15024             0              40  United-States   >50K  \n",
       "\n",
       "[32561 rows x 15 columns]"
      ]
     },
     "execution_count": 1,
     "metadata": {},
     "output_type": "execute_result"
    }
   ],
   "source": [
    "import pandas as pd\n",
    "import numpy as np\n",
    "\n",
    "# Path to the downloaded dataset\n",
    "url = 'https://archive.ics.uci.edu/ml/machine-learning-databases/adult/adult.data'\n",
    "\n",
    "# Define column names based on the dataset description and recommendations\n",
    "column_names = [\n",
    "    'age', 'workclass', 'fnlwgt', 'education', 'education_num',\n",
    "    'marital_status', 'occupation', 'relationship', 'race', 'sex',\n",
    "    'capital_gain', 'capital_loss', 'hours_per_week', 'native_country', 'salary'\n",
    "]\n",
    "\n",
    "# Import the data with pandas, remove leading whitespaces, and assign column names\n",
    "adult_df = pd.read_csv(url, header=None, names=column_names, skipinitialspace=True)\n",
    "\n",
    "adult_df\n"
   ]
  },
  {
   "cell_type": "markdown",
   "id": "57168000",
   "metadata": {},
   "source": [
    "c) Check your dataframe shape to verify that you have the correct # of rows and columns. Run the following command:"
   ]
  },
  {
   "cell_type": "code",
   "execution_count": 2,
   "id": "7c469b65",
   "metadata": {},
   "outputs": [
    {
     "data": {
      "text/plain": [
       "(32561, 15)"
      ]
     },
     "execution_count": 2,
     "metadata": {},
     "output_type": "execute_result"
    }
   ],
   "source": [
    "adult_df.shape"
   ]
  },
  {
   "cell_type": "markdown",
   "id": "0c22b2a4",
   "metadata": {},
   "source": [
    "d) Drop the 3rd column from the data (it is referred to as \"fnlwgt\" on UCI's website and is not necessary in this homework)"
   ]
  },
  {
   "cell_type": "code",
   "execution_count": 3,
   "id": "23aa799c",
   "metadata": {},
   "outputs": [],
   "source": [
    "adult_df=adult_df.drop('fnlwgt', axis=1)\n"
   ]
  },
  {
   "cell_type": "markdown",
   "id": "190771dc",
   "metadata": {},
   "source": [
    "e) Note: There are random values of  '?' that show up in the data - this is fine! These just refer to \"unknown\" and can be left as is. This data has no true NA values, so no need to check."
   ]
  },
  {
   "cell_type": "markdown",
   "id": "c758af75",
   "metadata": {},
   "source": [
    "f) Use the .replace() method to make the following changes to the \"salary\" column:\n",
    "\n",
    " \"<=50K\" should become 0\n",
    "\">50K\" should become 1\n",
    "Note: This step is essential to calculate the ROC_AUC score in model evaluation steps."
   ]
  },
  {
   "cell_type": "code",
   "execution_count": 4,
   "id": "96368c4d",
   "metadata": {},
   "outputs": [
    {
     "data": {
      "text/plain": [
       "0    0\n",
       "1    0\n",
       "2    0\n",
       "3    0\n",
       "4    0\n",
       "Name: salary, dtype: int64"
      ]
     },
     "execution_count": 4,
     "metadata": {},
     "output_type": "execute_result"
    }
   ],
   "source": [
    "adult_df['salary']=adult_df['salary'].replace({'<=50K': 0, '>50K': 1})\n",
    "adult_df['salary'].head()"
   ]
  },
  {
   "cell_type": "markdown",
   "id": "4b2eb8b4",
   "metadata": {},
   "source": [
    "g) Create your X dataframe (just your predictors). It should include every feature except for the target variable which is \"salary\".\n",
    "\n",
    "You should have the following shape: (32561, 13)"
   ]
  },
  {
   "cell_type": "code",
   "execution_count": 5,
   "id": "9d0f25d1",
   "metadata": {},
   "outputs": [
    {
     "name": "stdout",
     "output_type": "stream",
     "text": [
      "(32561, 13)\n"
     ]
    }
   ],
   "source": [
    "X= adult_df.drop('salary', axis=1)\n",
    "print(X.shape)"
   ]
  },
  {
   "cell_type": "markdown",
   "id": "89a7fe06",
   "metadata": {},
   "source": [
    "h) Create your y dataframe (just your target variable). It should only be \"salary\".\n",
    "\n",
    "You should have the following shape: (32561, )\n",
    "\n",
    "The values should only be 0 and 1."
   ]
  },
  {
   "cell_type": "code",
   "execution_count": 6,
   "id": "1b5c58ed",
   "metadata": {},
   "outputs": [
    {
     "name": "stdout",
     "output_type": "stream",
     "text": [
      "(32561,)\n"
     ]
    }
   ],
   "source": [
    "y= adult_df['salary']\n",
    "print(y.shape)"
   ]
  },
  {
   "cell_type": "markdown",
   "id": "0ae31a1a",
   "metadata": {},
   "source": [
    "i) For this homework we will try converting columns with factors to separate columns (i.e. one-hot encoding). It is not necessary for trees, but can be a very powerful tool to use. There are a variety of ways to do this, but we can use Pandas built-in method .get_dummies(). Pandas will automatically split out columns that are categorical. For now, just run across your full X dataframe."
   ]
  },
  {
   "cell_type": "code",
   "execution_count": 7,
   "id": "33316824",
   "metadata": {},
   "outputs": [
    {
     "name": "stdout",
     "output_type": "stream",
     "text": [
      "Shape of X_encoded: (32561, 107)\n",
      "Shape of X: (32561, 13)\n"
     ]
    }
   ],
   "source": [
    "# Apply one-hot encoding to the DataFrame X using get_dummies\n",
    "X_encoded = pd.get_dummies(X)\n",
    "\n",
    "print(\"Shape of X_encoded:\", X_encoded.shape)\n",
    "print(\"Shape of X:\", X.shape)"
   ]
  },
  {
   "cell_type": "markdown",
   "id": "c4bd139f",
   "metadata": {},
   "source": [
    "j) Split data into train / test set using an 70/30 split. Verify that you have the same number of columns in your X_train and X_test.\n",
    "\n"
   ]
  },
  {
   "cell_type": "code",
   "execution_count": 8,
   "id": "009483b3",
   "metadata": {},
   "outputs": [
    {
     "name": "stdout",
     "output_type": "stream",
     "text": [
      "Number of columns in X_train: 107\n",
      "Number of columns in X_test: 107\n",
      "Shape of X_train: (22792, 107)\n",
      "Shape of X_test: (9769, 107)\n",
      "Shape of y_train: (22792,)\n",
      "Shape of y_test: (9769,)\n"
     ]
    }
   ],
   "source": [
    "from sklearn.model_selection import train_test_split\n",
    "X_train, X_test, y_train, y_test = train_test_split(X_encoded, y, test_size=0.30, random_state=42)\n",
    "\n",
    "# Verify that X_train and X_test have the same number of columns\n",
    "print(\"Number of columns in X_train:\", X_train.shape[1])\n",
    "print(\"Number of columns in X_test:\", X_test.shape[1])\n",
    "\n",
    "# Optional: Print the shapes of the train and test data to confirm the size\n",
    "print(\"Shape of X_train:\", X_train.shape)\n",
    "print(\"Shape of X_test:\", X_test.shape)\n",
    "print(\"Shape of y_train:\", y_train.shape)\n",
    "print(\"Shape of y_test:\", y_test.shape)"
   ]
  },
  {
   "cell_type": "markdown",
   "id": "5077a472",
   "metadata": {},
   "source": [
    "# 2. Random Forest Classifier - Base Model:\n",
    "\n",
    "Start by creating a simple Random Forest only using default parameters - this will let us compare Boosting methods to Random Forest in binary classification problems.\n",
    "\n",
    "a) Use the RandomForestClassifier in sklearn. Fit your model on the training data."
   ]
  },
  {
   "cell_type": "code",
   "execution_count": 9,
   "id": "b92f1a18",
   "metadata": {},
   "outputs": [
    {
     "data": {
      "text/html": [
       "<style>#sk-container-id-1 {\n",
       "  /* Definition of color scheme common for light and dark mode */\n",
       "  --sklearn-color-text: black;\n",
       "  --sklearn-color-line: gray;\n",
       "  /* Definition of color scheme for unfitted estimators */\n",
       "  --sklearn-color-unfitted-level-0: #fff5e6;\n",
       "  --sklearn-color-unfitted-level-1: #f6e4d2;\n",
       "  --sklearn-color-unfitted-level-2: #ffe0b3;\n",
       "  --sklearn-color-unfitted-level-3: chocolate;\n",
       "  /* Definition of color scheme for fitted estimators */\n",
       "  --sklearn-color-fitted-level-0: #f0f8ff;\n",
       "  --sklearn-color-fitted-level-1: #d4ebff;\n",
       "  --sklearn-color-fitted-level-2: #b3dbfd;\n",
       "  --sklearn-color-fitted-level-3: cornflowerblue;\n",
       "\n",
       "  /* Specific color for light theme */\n",
       "  --sklearn-color-text-on-default-background: var(--sg-text-color, var(--theme-code-foreground, var(--jp-content-font-color1, black)));\n",
       "  --sklearn-color-background: var(--sg-background-color, var(--theme-background, var(--jp-layout-color0, white)));\n",
       "  --sklearn-color-border-box: var(--sg-text-color, var(--theme-code-foreground, var(--jp-content-font-color1, black)));\n",
       "  --sklearn-color-icon: #696969;\n",
       "\n",
       "  @media (prefers-color-scheme: dark) {\n",
       "    /* Redefinition of color scheme for dark theme */\n",
       "    --sklearn-color-text-on-default-background: var(--sg-text-color, var(--theme-code-foreground, var(--jp-content-font-color1, white)));\n",
       "    --sklearn-color-background: var(--sg-background-color, var(--theme-background, var(--jp-layout-color0, #111)));\n",
       "    --sklearn-color-border-box: var(--sg-text-color, var(--theme-code-foreground, var(--jp-content-font-color1, white)));\n",
       "    --sklearn-color-icon: #878787;\n",
       "  }\n",
       "}\n",
       "\n",
       "#sk-container-id-1 {\n",
       "  color: var(--sklearn-color-text);\n",
       "}\n",
       "\n",
       "#sk-container-id-1 pre {\n",
       "  padding: 0;\n",
       "}\n",
       "\n",
       "#sk-container-id-1 input.sk-hidden--visually {\n",
       "  border: 0;\n",
       "  clip: rect(1px 1px 1px 1px);\n",
       "  clip: rect(1px, 1px, 1px, 1px);\n",
       "  height: 1px;\n",
       "  margin: -1px;\n",
       "  overflow: hidden;\n",
       "  padding: 0;\n",
       "  position: absolute;\n",
       "  width: 1px;\n",
       "}\n",
       "\n",
       "#sk-container-id-1 div.sk-dashed-wrapped {\n",
       "  border: 1px dashed var(--sklearn-color-line);\n",
       "  margin: 0 0.4em 0.5em 0.4em;\n",
       "  box-sizing: border-box;\n",
       "  padding-bottom: 0.4em;\n",
       "  background-color: var(--sklearn-color-background);\n",
       "}\n",
       "\n",
       "#sk-container-id-1 div.sk-container {\n",
       "  /* jupyter's `normalize.less` sets `[hidden] { display: none; }`\n",
       "     but bootstrap.min.css set `[hidden] { display: none !important; }`\n",
       "     so we also need the `!important` here to be able to override the\n",
       "     default hidden behavior on the sphinx rendered scikit-learn.org.\n",
       "     See: https://github.com/scikit-learn/scikit-learn/issues/21755 */\n",
       "  display: inline-block !important;\n",
       "  position: relative;\n",
       "}\n",
       "\n",
       "#sk-container-id-1 div.sk-text-repr-fallback {\n",
       "  display: none;\n",
       "}\n",
       "\n",
       "div.sk-parallel-item,\n",
       "div.sk-serial,\n",
       "div.sk-item {\n",
       "  /* draw centered vertical line to link estimators */\n",
       "  background-image: linear-gradient(var(--sklearn-color-text-on-default-background), var(--sklearn-color-text-on-default-background));\n",
       "  background-size: 2px 100%;\n",
       "  background-repeat: no-repeat;\n",
       "  background-position: center center;\n",
       "}\n",
       "\n",
       "/* Parallel-specific style estimator block */\n",
       "\n",
       "#sk-container-id-1 div.sk-parallel-item::after {\n",
       "  content: \"\";\n",
       "  width: 100%;\n",
       "  border-bottom: 2px solid var(--sklearn-color-text-on-default-background);\n",
       "  flex-grow: 1;\n",
       "}\n",
       "\n",
       "#sk-container-id-1 div.sk-parallel {\n",
       "  display: flex;\n",
       "  align-items: stretch;\n",
       "  justify-content: center;\n",
       "  background-color: var(--sklearn-color-background);\n",
       "  position: relative;\n",
       "}\n",
       "\n",
       "#sk-container-id-1 div.sk-parallel-item {\n",
       "  display: flex;\n",
       "  flex-direction: column;\n",
       "}\n",
       "\n",
       "#sk-container-id-1 div.sk-parallel-item:first-child::after {\n",
       "  align-self: flex-end;\n",
       "  width: 50%;\n",
       "}\n",
       "\n",
       "#sk-container-id-1 div.sk-parallel-item:last-child::after {\n",
       "  align-self: flex-start;\n",
       "  width: 50%;\n",
       "}\n",
       "\n",
       "#sk-container-id-1 div.sk-parallel-item:only-child::after {\n",
       "  width: 0;\n",
       "}\n",
       "\n",
       "/* Serial-specific style estimator block */\n",
       "\n",
       "#sk-container-id-1 div.sk-serial {\n",
       "  display: flex;\n",
       "  flex-direction: column;\n",
       "  align-items: center;\n",
       "  background-color: var(--sklearn-color-background);\n",
       "  padding-right: 1em;\n",
       "  padding-left: 1em;\n",
       "}\n",
       "\n",
       "\n",
       "/* Toggleable style: style used for estimator/Pipeline/ColumnTransformer box that is\n",
       "clickable and can be expanded/collapsed.\n",
       "- Pipeline and ColumnTransformer use this feature and define the default style\n",
       "- Estimators will overwrite some part of the style using the `sk-estimator` class\n",
       "*/\n",
       "\n",
       "/* Pipeline and ColumnTransformer style (default) */\n",
       "\n",
       "#sk-container-id-1 div.sk-toggleable {\n",
       "  /* Default theme specific background. It is overwritten whether we have a\n",
       "  specific estimator or a Pipeline/ColumnTransformer */\n",
       "  background-color: var(--sklearn-color-background);\n",
       "}\n",
       "\n",
       "/* Toggleable label */\n",
       "#sk-container-id-1 label.sk-toggleable__label {\n",
       "  cursor: pointer;\n",
       "  display: block;\n",
       "  width: 100%;\n",
       "  margin-bottom: 0;\n",
       "  padding: 0.5em;\n",
       "  box-sizing: border-box;\n",
       "  text-align: center;\n",
       "}\n",
       "\n",
       "#sk-container-id-1 label.sk-toggleable__label-arrow:before {\n",
       "  /* Arrow on the left of the label */\n",
       "  content: \"▸\";\n",
       "  float: left;\n",
       "  margin-right: 0.25em;\n",
       "  color: var(--sklearn-color-icon);\n",
       "}\n",
       "\n",
       "#sk-container-id-1 label.sk-toggleable__label-arrow:hover:before {\n",
       "  color: var(--sklearn-color-text);\n",
       "}\n",
       "\n",
       "/* Toggleable content - dropdown */\n",
       "\n",
       "#sk-container-id-1 div.sk-toggleable__content {\n",
       "  max-height: 0;\n",
       "  max-width: 0;\n",
       "  overflow: hidden;\n",
       "  text-align: left;\n",
       "  /* unfitted */\n",
       "  background-color: var(--sklearn-color-unfitted-level-0);\n",
       "}\n",
       "\n",
       "#sk-container-id-1 div.sk-toggleable__content.fitted {\n",
       "  /* fitted */\n",
       "  background-color: var(--sklearn-color-fitted-level-0);\n",
       "}\n",
       "\n",
       "#sk-container-id-1 div.sk-toggleable__content pre {\n",
       "  margin: 0.2em;\n",
       "  border-radius: 0.25em;\n",
       "  color: var(--sklearn-color-text);\n",
       "  /* unfitted */\n",
       "  background-color: var(--sklearn-color-unfitted-level-0);\n",
       "}\n",
       "\n",
       "#sk-container-id-1 div.sk-toggleable__content.fitted pre {\n",
       "  /* unfitted */\n",
       "  background-color: var(--sklearn-color-fitted-level-0);\n",
       "}\n",
       "\n",
       "#sk-container-id-1 input.sk-toggleable__control:checked~div.sk-toggleable__content {\n",
       "  /* Expand drop-down */\n",
       "  max-height: 200px;\n",
       "  max-width: 100%;\n",
       "  overflow: auto;\n",
       "}\n",
       "\n",
       "#sk-container-id-1 input.sk-toggleable__control:checked~label.sk-toggleable__label-arrow:before {\n",
       "  content: \"▾\";\n",
       "}\n",
       "\n",
       "/* Pipeline/ColumnTransformer-specific style */\n",
       "\n",
       "#sk-container-id-1 div.sk-label input.sk-toggleable__control:checked~label.sk-toggleable__label {\n",
       "  color: var(--sklearn-color-text);\n",
       "  background-color: var(--sklearn-color-unfitted-level-2);\n",
       "}\n",
       "\n",
       "#sk-container-id-1 div.sk-label.fitted input.sk-toggleable__control:checked~label.sk-toggleable__label {\n",
       "  background-color: var(--sklearn-color-fitted-level-2);\n",
       "}\n",
       "\n",
       "/* Estimator-specific style */\n",
       "\n",
       "/* Colorize estimator box */\n",
       "#sk-container-id-1 div.sk-estimator input.sk-toggleable__control:checked~label.sk-toggleable__label {\n",
       "  /* unfitted */\n",
       "  background-color: var(--sklearn-color-unfitted-level-2);\n",
       "}\n",
       "\n",
       "#sk-container-id-1 div.sk-estimator.fitted input.sk-toggleable__control:checked~label.sk-toggleable__label {\n",
       "  /* fitted */\n",
       "  background-color: var(--sklearn-color-fitted-level-2);\n",
       "}\n",
       "\n",
       "#sk-container-id-1 div.sk-label label.sk-toggleable__label,\n",
       "#sk-container-id-1 div.sk-label label {\n",
       "  /* The background is the default theme color */\n",
       "  color: var(--sklearn-color-text-on-default-background);\n",
       "}\n",
       "\n",
       "/* On hover, darken the color of the background */\n",
       "#sk-container-id-1 div.sk-label:hover label.sk-toggleable__label {\n",
       "  color: var(--sklearn-color-text);\n",
       "  background-color: var(--sklearn-color-unfitted-level-2);\n",
       "}\n",
       "\n",
       "/* Label box, darken color on hover, fitted */\n",
       "#sk-container-id-1 div.sk-label.fitted:hover label.sk-toggleable__label.fitted {\n",
       "  color: var(--sklearn-color-text);\n",
       "  background-color: var(--sklearn-color-fitted-level-2);\n",
       "}\n",
       "\n",
       "/* Estimator label */\n",
       "\n",
       "#sk-container-id-1 div.sk-label label {\n",
       "  font-family: monospace;\n",
       "  font-weight: bold;\n",
       "  display: inline-block;\n",
       "  line-height: 1.2em;\n",
       "}\n",
       "\n",
       "#sk-container-id-1 div.sk-label-container {\n",
       "  text-align: center;\n",
       "}\n",
       "\n",
       "/* Estimator-specific */\n",
       "#sk-container-id-1 div.sk-estimator {\n",
       "  font-family: monospace;\n",
       "  border: 1px dotted var(--sklearn-color-border-box);\n",
       "  border-radius: 0.25em;\n",
       "  box-sizing: border-box;\n",
       "  margin-bottom: 0.5em;\n",
       "  /* unfitted */\n",
       "  background-color: var(--sklearn-color-unfitted-level-0);\n",
       "}\n",
       "\n",
       "#sk-container-id-1 div.sk-estimator.fitted {\n",
       "  /* fitted */\n",
       "  background-color: var(--sklearn-color-fitted-level-0);\n",
       "}\n",
       "\n",
       "/* on hover */\n",
       "#sk-container-id-1 div.sk-estimator:hover {\n",
       "  /* unfitted */\n",
       "  background-color: var(--sklearn-color-unfitted-level-2);\n",
       "}\n",
       "\n",
       "#sk-container-id-1 div.sk-estimator.fitted:hover {\n",
       "  /* fitted */\n",
       "  background-color: var(--sklearn-color-fitted-level-2);\n",
       "}\n",
       "\n",
       "/* Specification for estimator info (e.g. \"i\" and \"?\") */\n",
       "\n",
       "/* Common style for \"i\" and \"?\" */\n",
       "\n",
       ".sk-estimator-doc-link,\n",
       "a:link.sk-estimator-doc-link,\n",
       "a:visited.sk-estimator-doc-link {\n",
       "  float: right;\n",
       "  font-size: smaller;\n",
       "  line-height: 1em;\n",
       "  font-family: monospace;\n",
       "  background-color: var(--sklearn-color-background);\n",
       "  border-radius: 1em;\n",
       "  height: 1em;\n",
       "  width: 1em;\n",
       "  text-decoration: none !important;\n",
       "  margin-left: 1ex;\n",
       "  /* unfitted */\n",
       "  border: var(--sklearn-color-unfitted-level-1) 1pt solid;\n",
       "  color: var(--sklearn-color-unfitted-level-1);\n",
       "}\n",
       "\n",
       ".sk-estimator-doc-link.fitted,\n",
       "a:link.sk-estimator-doc-link.fitted,\n",
       "a:visited.sk-estimator-doc-link.fitted {\n",
       "  /* fitted */\n",
       "  border: var(--sklearn-color-fitted-level-1) 1pt solid;\n",
       "  color: var(--sklearn-color-fitted-level-1);\n",
       "}\n",
       "\n",
       "/* On hover */\n",
       "div.sk-estimator:hover .sk-estimator-doc-link:hover,\n",
       ".sk-estimator-doc-link:hover,\n",
       "div.sk-label-container:hover .sk-estimator-doc-link:hover,\n",
       ".sk-estimator-doc-link:hover {\n",
       "  /* unfitted */\n",
       "  background-color: var(--sklearn-color-unfitted-level-3);\n",
       "  color: var(--sklearn-color-background);\n",
       "  text-decoration: none;\n",
       "}\n",
       "\n",
       "div.sk-estimator.fitted:hover .sk-estimator-doc-link.fitted:hover,\n",
       ".sk-estimator-doc-link.fitted:hover,\n",
       "div.sk-label-container:hover .sk-estimator-doc-link.fitted:hover,\n",
       ".sk-estimator-doc-link.fitted:hover {\n",
       "  /* fitted */\n",
       "  background-color: var(--sklearn-color-fitted-level-3);\n",
       "  color: var(--sklearn-color-background);\n",
       "  text-decoration: none;\n",
       "}\n",
       "\n",
       "/* Span, style for the box shown on hovering the info icon */\n",
       ".sk-estimator-doc-link span {\n",
       "  display: none;\n",
       "  z-index: 9999;\n",
       "  position: relative;\n",
       "  font-weight: normal;\n",
       "  right: .2ex;\n",
       "  padding: .5ex;\n",
       "  margin: .5ex;\n",
       "  width: min-content;\n",
       "  min-width: 20ex;\n",
       "  max-width: 50ex;\n",
       "  color: var(--sklearn-color-text);\n",
       "  box-shadow: 2pt 2pt 4pt #999;\n",
       "  /* unfitted */\n",
       "  background: var(--sklearn-color-unfitted-level-0);\n",
       "  border: .5pt solid var(--sklearn-color-unfitted-level-3);\n",
       "}\n",
       "\n",
       ".sk-estimator-doc-link.fitted span {\n",
       "  /* fitted */\n",
       "  background: var(--sklearn-color-fitted-level-0);\n",
       "  border: var(--sklearn-color-fitted-level-3);\n",
       "}\n",
       "\n",
       ".sk-estimator-doc-link:hover span {\n",
       "  display: block;\n",
       "}\n",
       "\n",
       "/* \"?\"-specific style due to the `<a>` HTML tag */\n",
       "\n",
       "#sk-container-id-1 a.estimator_doc_link {\n",
       "  float: right;\n",
       "  font-size: 1rem;\n",
       "  line-height: 1em;\n",
       "  font-family: monospace;\n",
       "  background-color: var(--sklearn-color-background);\n",
       "  border-radius: 1rem;\n",
       "  height: 1rem;\n",
       "  width: 1rem;\n",
       "  text-decoration: none;\n",
       "  /* unfitted */\n",
       "  color: var(--sklearn-color-unfitted-level-1);\n",
       "  border: var(--sklearn-color-unfitted-level-1) 1pt solid;\n",
       "}\n",
       "\n",
       "#sk-container-id-1 a.estimator_doc_link.fitted {\n",
       "  /* fitted */\n",
       "  border: var(--sklearn-color-fitted-level-1) 1pt solid;\n",
       "  color: var(--sklearn-color-fitted-level-1);\n",
       "}\n",
       "\n",
       "/* On hover */\n",
       "#sk-container-id-1 a.estimator_doc_link:hover {\n",
       "  /* unfitted */\n",
       "  background-color: var(--sklearn-color-unfitted-level-3);\n",
       "  color: var(--sklearn-color-background);\n",
       "  text-decoration: none;\n",
       "}\n",
       "\n",
       "#sk-container-id-1 a.estimator_doc_link.fitted:hover {\n",
       "  /* fitted */\n",
       "  background-color: var(--sklearn-color-fitted-level-3);\n",
       "}\n",
       "</style><div id=\"sk-container-id-1\" class=\"sk-top-container\"><div class=\"sk-text-repr-fallback\"><pre>RandomForestClassifier(random_state=42)</pre><b>In a Jupyter environment, please rerun this cell to show the HTML representation or trust the notebook. <br />On GitHub, the HTML representation is unable to render, please try loading this page with nbviewer.org.</b></div><div class=\"sk-container\" hidden><div class=\"sk-item\"><div class=\"sk-estimator fitted sk-toggleable\"><input class=\"sk-toggleable__control sk-hidden--visually\" id=\"sk-estimator-id-1\" type=\"checkbox\" checked><label for=\"sk-estimator-id-1\" class=\"sk-toggleable__label fitted sk-toggleable__label-arrow fitted\">&nbsp;&nbsp;RandomForestClassifier<a class=\"sk-estimator-doc-link fitted\" rel=\"noreferrer\" target=\"_blank\" href=\"https://scikit-learn.org/1.4/modules/generated/sklearn.ensemble.RandomForestClassifier.html\">?<span>Documentation for RandomForestClassifier</span></a><span class=\"sk-estimator-doc-link fitted\">i<span>Fitted</span></span></label><div class=\"sk-toggleable__content fitted\"><pre>RandomForestClassifier(random_state=42)</pre></div> </div></div></div></div>"
      ],
      "text/plain": [
       "RandomForestClassifier(random_state=42)"
      ]
     },
     "execution_count": 9,
     "metadata": {},
     "output_type": "execute_result"
    }
   ],
   "source": [
    "from sklearn.ensemble import RandomForestClassifier \n",
    "from sklearn.metrics import accuracy_score, roc_auc_score\n",
    "\n",
    "rf_classifier= RandomForestClassifier(random_state=42)\n",
    "\n",
    "# Fit the classifier on the training data\n",
    "rf_classifier.fit(X_train, y_train)"
   ]
  },
  {
   "cell_type": "markdown",
   "id": "5e50e99c",
   "metadata": {},
   "source": [
    "b) Use the fitted model to predict on test data. Use the .predict_proba() and the .predict() methods to get predicted probabilities as well as predicted classes."
   ]
  },
  {
   "cell_type": "code",
   "execution_count": 10,
   "id": "1997357b",
   "metadata": {},
   "outputs": [
    {
     "name": "stdout",
     "output_type": "stream",
     "text": [
      "Predicted classes: [0 1 1 0 0]\n",
      "Predicted probabilities: [0.         0.65166667 0.749      0.         0.04      ]\n"
     ]
    }
   ],
   "source": [
    "# Predict the classes and the probabilities for the test data\n",
    "y_pred = rf_classifier.predict(X_test)\n",
    "y_proba = rf_classifier.predict_proba(X_test)[:, 1]  # Get probability estimates for the positive class\n",
    "\n",
    "# Print the first few predictions and probabilities\n",
    "print(\"Predicted classes:\", y_pred[:5])\n",
    "print(\"Predicted probabilities:\", y_proba[:5])"
   ]
  },
  {
   "cell_type": "markdown",
   "id": "d2770e0d",
   "metadata": {},
   "source": [
    "c) Calculate the confusion matrix and classification report (both are in sklearn.metrics)."
   ]
  },
  {
   "cell_type": "markdown",
   "id": "f08c791f",
   "metadata": {},
   "source": [
    "d) Calculate the AUC score."
   ]
  },
  {
   "cell_type": "code",
   "execution_count": 11,
   "id": "35e50248",
   "metadata": {},
   "outputs": [
    {
     "name": "stdout",
     "output_type": "stream",
     "text": [
      "Accuracy: 0.8464530658204524\n",
      "ROC AUC Score: 0.8889081826018049\n"
     ]
    }
   ],
   "source": [
    "accuracy = accuracy_score(y_test, y_pred)\n",
    "roc_auc = roc_auc_score(y_test, y_proba)\n",
    "\n",
    "print(\"Accuracy:\", accuracy)\n",
    "print(\"ROC AUC Score:\", roc_auc)"
   ]
  },
  {
   "cell_type": "markdown",
   "id": "28735b1f",
   "metadata": {},
   "source": [
    "e) Identify the top 5 features. Feel free to print a list OR to make a plot.\n"
   ]
  },
  {
   "cell_type": "code",
   "execution_count": 12,
   "id": "ef686f5a",
   "metadata": {},
   "outputs": [
    {
     "data": {
      "image/png": "[encoded data removed]",
      "text/plain": [
       "<Figure size 1000x600 with 1 Axes>"
      ]
     },
     "metadata": {},
     "output_type": "display_data"
    },
    {
     "name": "stdout",
     "output_type": "stream",
     "text": [
      "Top 5 Features:\n",
      "education_num: 0.0673\n",
      "marital_status_Married-civ-spouse: 0.0751\n",
      "capital_gain: 0.0986\n",
      "hours_per_week: 0.1137\n",
      "age: 0.2206\n"
     ]
    }
   ],
   "source": [
    "import matplotlib.pyplot as plt\n",
    "import numpy as np\n",
    "\n",
    "# Get feature importances from the Random Forest model\n",
    "importances = rf_classifier.feature_importances_\n",
    "\n",
    "# Get the indices of the top 5 features\n",
    "indices = np.argsort(importances)[-5:]\n",
    "\n",
    "# Create a plot of feature importances\n",
    "plt.figure(figsize=(10, 6))\n",
    "plt.title('Top 5 Feature Importances')\n",
    "plt.barh(range(len(indices)), importances[indices], color='b', align='center')\n",
    "plt.yticks(range(len(indices)), [X_encoded.columns[i] for i in indices])\n",
    "plt.xlabel('Relative Importance')\n",
    "plt.show()\n",
    "\n",
    "# Alternatively, print them as a list\n",
    "print(\"Top 5 Features:\")\n",
    "for i in indices:\n",
    "    print(f\"{X_encoded.columns[i]}: {importances[i]:.4f}\")\n"
   ]
  },
  {
   "cell_type": "markdown",
   "id": "b33d4d83",
   "metadata": {},
   "source": [
    "f) Using the model from part B, predict for the train data. Look at the classification report for the train data - is there overfitting for the RandomForest model happening?"
   ]
  },
  {
   "cell_type": "code",
   "execution_count": 13,
   "id": "fdc03eeb",
   "metadata": {},
   "outputs": [
    {
     "name": "stdout",
     "output_type": "stream",
     "text": [
      "Classification Report for Training Data:\n",
      "              precision    recall  f1-score   support\n",
      "\n",
      "           0       0.98      0.99      0.99     17265\n",
      "           1       0.97      0.95      0.96      5527\n",
      "\n",
      "    accuracy                           0.98     22792\n",
      "   macro avg       0.98      0.97      0.97     22792\n",
      "weighted avg       0.98      0.98      0.98     22792\n",
      "\n",
      "Classification Report for Test Data:\n",
      "              precision    recall  f1-score   support\n",
      "\n",
      "           0       0.89      0.92      0.90      7455\n",
      "           1       0.70      0.62      0.66      2314\n",
      "\n",
      "    accuracy                           0.85      9769\n",
      "   macro avg       0.79      0.77      0.78      9769\n",
      "weighted avg       0.84      0.85      0.84      9769\n",
      "\n"
     ]
    }
   ],
   "source": [
    "from sklearn.metrics import classification_report\n",
    "\n",
    "# Predict on the training data\n",
    "y_train_pred = rf_classifier.predict(X_train)\n",
    "\n",
    "# Classification report for the training data\n",
    "train_report = classification_report(y_train, y_train_pred)\n",
    "print(\"Classification Report for Training Data:\")\n",
    "print(train_report)\n",
    "\n",
    "# Classification report for the test data\n",
    "test_report = classification_report(y_test, y_pred)\n",
    "print(\"Classification Report for Test Data:\")\n",
    "print(test_report)\n"
   ]
  },
  {
   "cell_type": "markdown",
   "id": "704a1535",
   "metadata": {},
   "source": [
    "the model performs exceptionally well on the training data (higher accuracy, precision, recall, or F1-scores compared to test data), it may be overfitting"
   ]
  },
  {
   "cell_type": "markdown",
   "id": "4aa213f3",
   "metadata": {},
   "source": [
    "# 3. AdaBoost Classifier - GridSearch:\n",
    "\n",
    "Start by creating a simple AdaBoostClassifier only using default parameters.\n",
    "\n",
    "(Note: sklearn defaults to a max_depth of 1 for AdaBoost. Read more in the documentation: http://scikit-learn.org/stable/modules/generated/sklearn.ensemble.AdaBoostClassifier.htmlLinks to an external site.).\n",
    "\n",
    "a) Use the AdaBoostClassifier along with the GridSearchCV tool. Run the GridSearchCV using the following:\n",
    "\n",
    "n_estimators: 100, 200, 300, 400\n",
    "learning_rate: 0.2,0.4,0.6,0.8,1, 1.2"
   ]
  },
  {
   "cell_type": "code",
   "execution_count": 14,
   "id": "61b58402",
   "metadata": {},
   "outputs": [
    {
     "name": "stdout",
     "output_type": "stream",
     "text": [
      "Fitting 5 folds for each of 24 candidates, totalling 120 fits\n"
     ]
    },
    {
     "name": "stderr",
     "output_type": "stream",
     "text": [
      "/Users/colleenjung/anaconda3/lib/python3.11/site-packages/sklearn/ensemble/_weight_boosting.py:519: FutureWarning: The SAMME.R algorithm (the default) is deprecated and will be removed in 1.6. Use the SAMME algorithm to circumvent this warning.\n",
      "  warnings.warn(\n"
     ]
    },
    {
     "name": "stdout",
     "output_type": "stream",
     "text": [
      "[CV] END ................learning_rate=0.2, n_estimators=100; total time=   2.7s\n"
     ]
    },
    {
     "name": "stderr",
     "output_type": "stream",
     "text": [
      "/Users/colleenjung/anaconda3/lib/python3.11/site-packages/sklearn/ensemble/_weight_boosting.py:519: FutureWarning: The SAMME.R algorithm (the default) is deprecated and will be removed in 1.6. Use the SAMME algorithm to circumvent this warning.\n",
      "  warnings.warn(\n"
     ]
    },
    {
     "name": "stdout",
     "output_type": "stream",
     "text": [
      "[CV] END ................learning_rate=0.2, n_estimators=100; total time=   2.6s\n"
     ]
    },
    {
     "name": "stderr",
     "output_type": "stream",
     "text": [
      "/Users/colleenjung/anaconda3/lib/python3.11/site-packages/sklearn/ensemble/_weight_boosting.py:519: FutureWarning: The SAMME.R algorithm (the default) is deprecated and will be removed in 1.6. Use the SAMME algorithm to circumvent this warning.\n",
      "  warnings.warn(\n"
     ]
    },
    {
     "name": "stdout",
     "output_type": "stream",
     "text": [
      "[CV] END ................learning_rate=0.2, n_estimators=100; total time=   2.9s\n"
     ]
    },
    {
     "name": "stderr",
     "output_type": "stream",
     "text": [
      "/Users/colleenjung/anaconda3/lib/python3.11/site-packages/sklearn/ensemble/_weight_boosting.py:519: FutureWarning: The SAMME.R algorithm (the default) is deprecated and will be removed in 1.6. Use the SAMME algorithm to circumvent this warning.\n",
      "  warnings.warn(\n"
     ]
    },
    {
     "name": "stdout",
     "output_type": "stream",
     "text": [
      "[CV] END ................learning_rate=0.2, n_estimators=100; total time=   2.7s\n"
     ]
    },
    {
     "name": "stderr",
     "output_type": "stream",
     "text": [
      "/Users/colleenjung/anaconda3/lib/python3.11/site-packages/sklearn/ensemble/_weight_boosting.py:519: FutureWarning: The SAMME.R algorithm (the default) is deprecated and will be removed in 1.6. Use the SAMME algorithm to circumvent this warning.\n",
      "  warnings.warn(\n"
     ]
    },
    {
     "name": "stdout",
     "output_type": "stream",
     "text": [
      "[CV] END ................learning_rate=0.2, n_estimators=100; total time=   2.6s\n"
     ]
    },
    {
     "name": "stderr",
     "output_type": "stream",
     "text": [
      "/Users/colleenjung/anaconda3/lib/python3.11/site-packages/sklearn/ensemble/_weight_boosting.py:519: FutureWarning: The SAMME.R algorithm (the default) is deprecated and will be removed in 1.6. Use the SAMME algorithm to circumvent this warning.\n",
      "  warnings.warn(\n"
     ]
    },
    {
     "name": "stdout",
     "output_type": "stream",
     "text": [
      "[CV] END ................learning_rate=0.2, n_estimators=200; total time=   5.2s\n"
     ]
    },
    {
     "name": "stderr",
     "output_type": "stream",
     "text": [
      "/Users/colleenjung/anaconda3/lib/python3.11/site-packages/sklearn/ensemble/_weight_boosting.py:519: FutureWarning: The SAMME.R algorithm (the default) is deprecated and will be removed in 1.6. Use the SAMME algorithm to circumvent this warning.\n",
      "  warnings.warn(\n"
     ]
    },
    {
     "name": "stdout",
     "output_type": "stream",
     "text": [
      "[CV] END ................learning_rate=0.2, n_estimators=200; total time=   5.4s\n"
     ]
    },
    {
     "name": "stderr",
     "output_type": "stream",
     "text": [
      "/Users/colleenjung/anaconda3/lib/python3.11/site-packages/sklearn/ensemble/_weight_boosting.py:519: FutureWarning: The SAMME.R algorithm (the default) is deprecated and will be removed in 1.6. Use the SAMME algorithm to circumvent this warning.\n",
      "  warnings.warn(\n"
     ]
    },
    {
     "name": "stdout",
     "output_type": "stream",
     "text": [
      "[CV] END ................learning_rate=0.2, n_estimators=200; total time=   7.1s\n"
     ]
    },
    {
     "name": "stderr",
     "output_type": "stream",
     "text": [
      "/Users/colleenjung/anaconda3/lib/python3.11/site-packages/sklearn/ensemble/_weight_boosting.py:519: FutureWarning: The SAMME.R algorithm (the default) is deprecated and will be removed in 1.6. Use the SAMME algorithm to circumvent this warning.\n",
      "  warnings.warn(\n"
     ]
    },
    {
     "name": "stdout",
     "output_type": "stream",
     "text": [
      "[CV] END ................learning_rate=0.2, n_estimators=200; total time=   6.4s\n"
     ]
    },
    {
     "name": "stderr",
     "output_type": "stream",
     "text": [
      "/Users/colleenjung/anaconda3/lib/python3.11/site-packages/sklearn/ensemble/_weight_boosting.py:519: FutureWarning: The SAMME.R algorithm (the default) is deprecated and will be removed in 1.6. Use the SAMME algorithm to circumvent this warning.\n",
      "  warnings.warn(\n"
     ]
    },
    {
     "name": "stdout",
     "output_type": "stream",
     "text": [
      "[CV] END ................learning_rate=0.2, n_estimators=200; total time=   7.0s\n"
     ]
    },
    {
     "name": "stderr",
     "output_type": "stream",
     "text": [
      "/Users/colleenjung/anaconda3/lib/python3.11/site-packages/sklearn/ensemble/_weight_boosting.py:519: FutureWarning: The SAMME.R algorithm (the default) is deprecated and will be removed in 1.6. Use the SAMME algorithm to circumvent this warning.\n",
      "  warnings.warn(\n"
     ]
    },
    {
     "name": "stdout",
     "output_type": "stream",
     "text": [
      "[CV] END ................learning_rate=0.2, n_estimators=300; total time=   8.8s\n"
     ]
    },
    {
     "name": "stderr",
     "output_type": "stream",
     "text": [
      "/Users/colleenjung/anaconda3/lib/python3.11/site-packages/sklearn/ensemble/_weight_boosting.py:519: FutureWarning: The SAMME.R algorithm (the default) is deprecated and will be removed in 1.6. Use the SAMME algorithm to circumvent this warning.\n",
      "  warnings.warn(\n"
     ]
    },
    {
     "name": "stdout",
     "output_type": "stream",
     "text": [
      "[CV] END ................learning_rate=0.2, n_estimators=300; total time=   7.8s\n"
     ]
    },
    {
     "name": "stderr",
     "output_type": "stream",
     "text": [
      "/Users/colleenjung/anaconda3/lib/python3.11/site-packages/sklearn/ensemble/_weight_boosting.py:519: FutureWarning: The SAMME.R algorithm (the default) is deprecated and will be removed in 1.6. Use the SAMME algorithm to circumvent this warning.\n",
      "  warnings.warn(\n"
     ]
    },
    {
     "name": "stdout",
     "output_type": "stream",
     "text": [
      "[CV] END ................learning_rate=0.2, n_estimators=300; total time=   9.2s\n"
     ]
    },
    {
     "name": "stderr",
     "output_type": "stream",
     "text": [
      "/Users/colleenjung/anaconda3/lib/python3.11/site-packages/sklearn/ensemble/_weight_boosting.py:519: FutureWarning: The SAMME.R algorithm (the default) is deprecated and will be removed in 1.6. Use the SAMME algorithm to circumvent this warning.\n",
      "  warnings.warn(\n"
     ]
    },
    {
     "name": "stdout",
     "output_type": "stream",
     "text": [
      "[CV] END ................learning_rate=0.2, n_estimators=300; total time=   8.5s\n"
     ]
    },
    {
     "name": "stderr",
     "output_type": "stream",
     "text": [
      "/Users/colleenjung/anaconda3/lib/python3.11/site-packages/sklearn/ensemble/_weight_boosting.py:519: FutureWarning: The SAMME.R algorithm (the default) is deprecated and will be removed in 1.6. Use the SAMME algorithm to circumvent this warning.\n",
      "  warnings.warn(\n"
     ]
    },
    {
     "name": "stdout",
     "output_type": "stream",
     "text": [
      "[CV] END ................learning_rate=0.2, n_estimators=300; total time=   8.3s\n"
     ]
    },
    {
     "name": "stderr",
     "output_type": "stream",
     "text": [
      "/Users/colleenjung/anaconda3/lib/python3.11/site-packages/sklearn/ensemble/_weight_boosting.py:519: FutureWarning: The SAMME.R algorithm (the default) is deprecated and will be removed in 1.6. Use the SAMME algorithm to circumvent this warning.\n",
      "  warnings.warn(\n"
     ]
    },
    {
     "name": "stdout",
     "output_type": "stream",
     "text": [
      "[CV] END ................learning_rate=0.2, n_estimators=400; total time=  13.8s\n"
     ]
    },
    {
     "name": "stderr",
     "output_type": "stream",
     "text": [
      "/Users/colleenjung/anaconda3/lib/python3.11/site-packages/sklearn/ensemble/_weight_boosting.py:519: FutureWarning: The SAMME.R algorithm (the default) is deprecated and will be removed in 1.6. Use the SAMME algorithm to circumvent this warning.\n",
      "  warnings.warn(\n"
     ]
    },
    {
     "name": "stdout",
     "output_type": "stream",
     "text": [
      "[CV] END ................learning_rate=0.2, n_estimators=400; total time=  10.3s\n"
     ]
    },
    {
     "name": "stderr",
     "output_type": "stream",
     "text": [
      "/Users/colleenjung/anaconda3/lib/python3.11/site-packages/sklearn/ensemble/_weight_boosting.py:519: FutureWarning: The SAMME.R algorithm (the default) is deprecated and will be removed in 1.6. Use the SAMME algorithm to circumvent this warning.\n",
      "  warnings.warn(\n"
     ]
    },
    {
     "name": "stdout",
     "output_type": "stream",
     "text": [
      "[CV] END ................learning_rate=0.2, n_estimators=400; total time=  11.9s\n"
     ]
    },
    {
     "name": "stderr",
     "output_type": "stream",
     "text": [
      "/Users/colleenjung/anaconda3/lib/python3.11/site-packages/sklearn/ensemble/_weight_boosting.py:519: FutureWarning: The SAMME.R algorithm (the default) is deprecated and will be removed in 1.6. Use the SAMME algorithm to circumvent this warning.\n",
      "  warnings.warn(\n"
     ]
    },
    {
     "name": "stdout",
     "output_type": "stream",
     "text": [
      "[CV] END ................learning_rate=0.2, n_estimators=400; total time=  11.1s\n"
     ]
    },
    {
     "name": "stderr",
     "output_type": "stream",
     "text": [
      "/Users/colleenjung/anaconda3/lib/python3.11/site-packages/sklearn/ensemble/_weight_boosting.py:519: FutureWarning: The SAMME.R algorithm (the default) is deprecated and will be removed in 1.6. Use the SAMME algorithm to circumvent this warning.\n",
      "  warnings.warn(\n"
     ]
    },
    {
     "name": "stdout",
     "output_type": "stream",
     "text": [
      "[CV] END ................learning_rate=0.2, n_estimators=400; total time=  11.3s\n"
     ]
    },
    {
     "name": "stderr",
     "output_type": "stream",
     "text": [
      "/Users/colleenjung/anaconda3/lib/python3.11/site-packages/sklearn/ensemble/_weight_boosting.py:519: FutureWarning: The SAMME.R algorithm (the default) is deprecated and will be removed in 1.6. Use the SAMME algorithm to circumvent this warning.\n",
      "  warnings.warn(\n"
     ]
    },
    {
     "name": "stdout",
     "output_type": "stream",
     "text": [
      "[CV] END ................learning_rate=0.4, n_estimators=100; total time=   2.6s\n"
     ]
    },
    {
     "name": "stderr",
     "output_type": "stream",
     "text": [
      "/Users/colleenjung/anaconda3/lib/python3.11/site-packages/sklearn/ensemble/_weight_boosting.py:519: FutureWarning: The SAMME.R algorithm (the default) is deprecated and will be removed in 1.6. Use the SAMME algorithm to circumvent this warning.\n",
      "  warnings.warn(\n"
     ]
    },
    {
     "name": "stdout",
     "output_type": "stream",
     "text": [
      "[CV] END ................learning_rate=0.4, n_estimators=100; total time=   2.6s\n"
     ]
    },
    {
     "name": "stderr",
     "output_type": "stream",
     "text": [
      "/Users/colleenjung/anaconda3/lib/python3.11/site-packages/sklearn/ensemble/_weight_boosting.py:519: FutureWarning: The SAMME.R algorithm (the default) is deprecated and will be removed in 1.6. Use the SAMME algorithm to circumvent this warning.\n",
      "  warnings.warn(\n"
     ]
    },
    {
     "name": "stdout",
     "output_type": "stream",
     "text": [
      "[CV] END ................learning_rate=0.4, n_estimators=100; total time=   2.6s\n"
     ]
    },
    {
     "name": "stderr",
     "output_type": "stream",
     "text": [
      "/Users/colleenjung/anaconda3/lib/python3.11/site-packages/sklearn/ensemble/_weight_boosting.py:519: FutureWarning: The SAMME.R algorithm (the default) is deprecated and will be removed in 1.6. Use the SAMME algorithm to circumvent this warning.\n",
      "  warnings.warn(\n"
     ]
    },
    {
     "name": "stdout",
     "output_type": "stream",
     "text": [
      "[CV] END ................learning_rate=0.4, n_estimators=100; total time=   3.6s\n"
     ]
    },
    {
     "name": "stderr",
     "output_type": "stream",
     "text": [
      "/Users/colleenjung/anaconda3/lib/python3.11/site-packages/sklearn/ensemble/_weight_boosting.py:519: FutureWarning: The SAMME.R algorithm (the default) is deprecated and will be removed in 1.6. Use the SAMME algorithm to circumvent this warning.\n",
      "  warnings.warn(\n"
     ]
    },
    {
     "name": "stdout",
     "output_type": "stream",
     "text": [
      "[CV] END ................learning_rate=0.4, n_estimators=100; total time=   2.9s\n"
     ]
    },
    {
     "name": "stderr",
     "output_type": "stream",
     "text": [
      "/Users/colleenjung/anaconda3/lib/python3.11/site-packages/sklearn/ensemble/_weight_boosting.py:519: FutureWarning: The SAMME.R algorithm (the default) is deprecated and will be removed in 1.6. Use the SAMME algorithm to circumvent this warning.\n",
      "  warnings.warn(\n"
     ]
    },
    {
     "name": "stdout",
     "output_type": "stream",
     "text": [
      "[CV] END ................learning_rate=0.4, n_estimators=200; total time=   6.8s\n"
     ]
    },
    {
     "name": "stderr",
     "output_type": "stream",
     "text": [
      "/Users/colleenjung/anaconda3/lib/python3.11/site-packages/sklearn/ensemble/_weight_boosting.py:519: FutureWarning: The SAMME.R algorithm (the default) is deprecated and will be removed in 1.6. Use the SAMME algorithm to circumvent this warning.\n",
      "  warnings.warn(\n"
     ]
    },
    {
     "name": "stdout",
     "output_type": "stream",
     "text": [
      "[CV] END ................learning_rate=0.4, n_estimators=200; total time=   6.3s\n"
     ]
    },
    {
     "name": "stderr",
     "output_type": "stream",
     "text": [
      "/Users/colleenjung/anaconda3/lib/python3.11/site-packages/sklearn/ensemble/_weight_boosting.py:519: FutureWarning: The SAMME.R algorithm (the default) is deprecated and will be removed in 1.6. Use the SAMME algorithm to circumvent this warning.\n",
      "  warnings.warn(\n"
     ]
    },
    {
     "name": "stdout",
     "output_type": "stream",
     "text": [
      "[CV] END ................learning_rate=0.4, n_estimators=200; total time=   6.5s\n"
     ]
    },
    {
     "name": "stderr",
     "output_type": "stream",
     "text": [
      "/Users/colleenjung/anaconda3/lib/python3.11/site-packages/sklearn/ensemble/_weight_boosting.py:519: FutureWarning: The SAMME.R algorithm (the default) is deprecated and will be removed in 1.6. Use the SAMME algorithm to circumvent this warning.\n",
      "  warnings.warn(\n"
     ]
    },
    {
     "name": "stdout",
     "output_type": "stream",
     "text": [
      "[CV] END ................learning_rate=0.4, n_estimators=200; total time=   6.6s\n"
     ]
    },
    {
     "name": "stderr",
     "output_type": "stream",
     "text": [
      "/Users/colleenjung/anaconda3/lib/python3.11/site-packages/sklearn/ensemble/_weight_boosting.py:519: FutureWarning: The SAMME.R algorithm (the default) is deprecated and will be removed in 1.6. Use the SAMME algorithm to circumvent this warning.\n",
      "  warnings.warn(\n"
     ]
    },
    {
     "name": "stdout",
     "output_type": "stream",
     "text": [
      "[CV] END ................learning_rate=0.4, n_estimators=200; total time=   6.4s\n"
     ]
    },
    {
     "name": "stderr",
     "output_type": "stream",
     "text": [
      "/Users/colleenjung/anaconda3/lib/python3.11/site-packages/sklearn/ensemble/_weight_boosting.py:519: FutureWarning: The SAMME.R algorithm (the default) is deprecated and will be removed in 1.6. Use the SAMME algorithm to circumvent this warning.\n",
      "  warnings.warn(\n"
     ]
    },
    {
     "name": "stdout",
     "output_type": "stream",
     "text": [
      "[CV] END ................learning_rate=0.4, n_estimators=300; total time=   9.9s\n"
     ]
    },
    {
     "name": "stderr",
     "output_type": "stream",
     "text": [
      "/Users/colleenjung/anaconda3/lib/python3.11/site-packages/sklearn/ensemble/_weight_boosting.py:519: FutureWarning: The SAMME.R algorithm (the default) is deprecated and will be removed in 1.6. Use the SAMME algorithm to circumvent this warning.\n",
      "  warnings.warn(\n"
     ]
    },
    {
     "name": "stdout",
     "output_type": "stream",
     "text": [
      "[CV] END ................learning_rate=0.4, n_estimators=300; total time=   9.5s\n"
     ]
    },
    {
     "name": "stderr",
     "output_type": "stream",
     "text": [
      "/Users/colleenjung/anaconda3/lib/python3.11/site-packages/sklearn/ensemble/_weight_boosting.py:519: FutureWarning: The SAMME.R algorithm (the default) is deprecated and will be removed in 1.6. Use the SAMME algorithm to circumvent this warning.\n",
      "  warnings.warn(\n"
     ]
    },
    {
     "name": "stdout",
     "output_type": "stream",
     "text": [
      "[CV] END ................learning_rate=0.4, n_estimators=300; total time=   9.6s\n"
     ]
    },
    {
     "name": "stderr",
     "output_type": "stream",
     "text": [
      "/Users/colleenjung/anaconda3/lib/python3.11/site-packages/sklearn/ensemble/_weight_boosting.py:519: FutureWarning: The SAMME.R algorithm (the default) is deprecated and will be removed in 1.6. Use the SAMME algorithm to circumvent this warning.\n",
      "  warnings.warn(\n"
     ]
    },
    {
     "name": "stdout",
     "output_type": "stream",
     "text": [
      "[CV] END ................learning_rate=0.4, n_estimators=300; total time=  10.1s\n"
     ]
    },
    {
     "name": "stderr",
     "output_type": "stream",
     "text": [
      "/Users/colleenjung/anaconda3/lib/python3.11/site-packages/sklearn/ensemble/_weight_boosting.py:519: FutureWarning: The SAMME.R algorithm (the default) is deprecated and will be removed in 1.6. Use the SAMME algorithm to circumvent this warning.\n",
      "  warnings.warn(\n"
     ]
    },
    {
     "name": "stdout",
     "output_type": "stream",
     "text": [
      "[CV] END ................learning_rate=0.4, n_estimators=300; total time=   9.4s\n"
     ]
    },
    {
     "name": "stderr",
     "output_type": "stream",
     "text": [
      "/Users/colleenjung/anaconda3/lib/python3.11/site-packages/sklearn/ensemble/_weight_boosting.py:519: FutureWarning: The SAMME.R algorithm (the default) is deprecated and will be removed in 1.6. Use the SAMME algorithm to circumvent this warning.\n",
      "  warnings.warn(\n"
     ]
    },
    {
     "name": "stdout",
     "output_type": "stream",
     "text": [
      "[CV] END ................learning_rate=0.4, n_estimators=400; total time=  12.2s\n"
     ]
    },
    {
     "name": "stderr",
     "output_type": "stream",
     "text": [
      "/Users/colleenjung/anaconda3/lib/python3.11/site-packages/sklearn/ensemble/_weight_boosting.py:519: FutureWarning: The SAMME.R algorithm (the default) is deprecated and will be removed in 1.6. Use the SAMME algorithm to circumvent this warning.\n",
      "  warnings.warn(\n"
     ]
    },
    {
     "name": "stdout",
     "output_type": "stream",
     "text": [
      "[CV] END ................learning_rate=0.4, n_estimators=400; total time=  10.1s\n"
     ]
    },
    {
     "name": "stderr",
     "output_type": "stream",
     "text": [
      "/Users/colleenjung/anaconda3/lib/python3.11/site-packages/sklearn/ensemble/_weight_boosting.py:519: FutureWarning: The SAMME.R algorithm (the default) is deprecated and will be removed in 1.6. Use the SAMME algorithm to circumvent this warning.\n",
      "  warnings.warn(\n"
     ]
    },
    {
     "name": "stdout",
     "output_type": "stream",
     "text": [
      "[CV] END ................learning_rate=0.4, n_estimators=400; total time=   9.9s\n"
     ]
    },
    {
     "name": "stderr",
     "output_type": "stream",
     "text": [
      "/Users/colleenjung/anaconda3/lib/python3.11/site-packages/sklearn/ensemble/_weight_boosting.py:519: FutureWarning: The SAMME.R algorithm (the default) is deprecated and will be removed in 1.6. Use the SAMME algorithm to circumvent this warning.\n",
      "  warnings.warn(\n"
     ]
    },
    {
     "name": "stdout",
     "output_type": "stream",
     "text": [
      "[CV] END ................learning_rate=0.4, n_estimators=400; total time=  11.6s\n"
     ]
    },
    {
     "name": "stderr",
     "output_type": "stream",
     "text": [
      "/Users/colleenjung/anaconda3/lib/python3.11/site-packages/sklearn/ensemble/_weight_boosting.py:519: FutureWarning: The SAMME.R algorithm (the default) is deprecated and will be removed in 1.6. Use the SAMME algorithm to circumvent this warning.\n",
      "  warnings.warn(\n"
     ]
    },
    {
     "name": "stdout",
     "output_type": "stream",
     "text": [
      "[CV] END ................learning_rate=0.4, n_estimators=400; total time=  14.0s\n"
     ]
    },
    {
     "name": "stderr",
     "output_type": "stream",
     "text": [
      "/Users/colleenjung/anaconda3/lib/python3.11/site-packages/sklearn/ensemble/_weight_boosting.py:519: FutureWarning: The SAMME.R algorithm (the default) is deprecated and will be removed in 1.6. Use the SAMME algorithm to circumvent this warning.\n",
      "  warnings.warn(\n"
     ]
    },
    {
     "name": "stdout",
     "output_type": "stream",
     "text": [
      "[CV] END ................learning_rate=0.6, n_estimators=100; total time=   2.7s\n"
     ]
    },
    {
     "name": "stderr",
     "output_type": "stream",
     "text": [
      "/Users/colleenjung/anaconda3/lib/python3.11/site-packages/sklearn/ensemble/_weight_boosting.py:519: FutureWarning: The SAMME.R algorithm (the default) is deprecated and will be removed in 1.6. Use the SAMME algorithm to circumvent this warning.\n",
      "  warnings.warn(\n"
     ]
    },
    {
     "name": "stdout",
     "output_type": "stream",
     "text": [
      "[CV] END ................learning_rate=0.6, n_estimators=100; total time=   3.2s\n"
     ]
    },
    {
     "name": "stderr",
     "output_type": "stream",
     "text": [
      "/Users/colleenjung/anaconda3/lib/python3.11/site-packages/sklearn/ensemble/_weight_boosting.py:519: FutureWarning: The SAMME.R algorithm (the default) is deprecated and will be removed in 1.6. Use the SAMME algorithm to circumvent this warning.\n",
      "  warnings.warn(\n"
     ]
    },
    {
     "name": "stdout",
     "output_type": "stream",
     "text": [
      "[CV] END ................learning_rate=0.6, n_estimators=100; total time=   2.9s\n"
     ]
    },
    {
     "name": "stderr",
     "output_type": "stream",
     "text": [
      "/Users/colleenjung/anaconda3/lib/python3.11/site-packages/sklearn/ensemble/_weight_boosting.py:519: FutureWarning: The SAMME.R algorithm (the default) is deprecated and will be removed in 1.6. Use the SAMME algorithm to circumvent this warning.\n",
      "  warnings.warn(\n"
     ]
    },
    {
     "name": "stdout",
     "output_type": "stream",
     "text": [
      "[CV] END ................learning_rate=0.6, n_estimators=100; total time=   3.6s\n"
     ]
    },
    {
     "name": "stderr",
     "output_type": "stream",
     "text": [
      "/Users/colleenjung/anaconda3/lib/python3.11/site-packages/sklearn/ensemble/_weight_boosting.py:519: FutureWarning: The SAMME.R algorithm (the default) is deprecated and will be removed in 1.6. Use the SAMME algorithm to circumvent this warning.\n",
      "  warnings.warn(\n"
     ]
    },
    {
     "name": "stdout",
     "output_type": "stream",
     "text": [
      "[CV] END ................learning_rate=0.6, n_estimators=100; total time=   2.8s\n"
     ]
    },
    {
     "name": "stderr",
     "output_type": "stream",
     "text": [
      "/Users/colleenjung/anaconda3/lib/python3.11/site-packages/sklearn/ensemble/_weight_boosting.py:519: FutureWarning: The SAMME.R algorithm (the default) is deprecated and will be removed in 1.6. Use the SAMME algorithm to circumvent this warning.\n",
      "  warnings.warn(\n"
     ]
    },
    {
     "name": "stdout",
     "output_type": "stream",
     "text": [
      "[CV] END ................learning_rate=0.6, n_estimators=200; total time=   9.1s\n"
     ]
    },
    {
     "name": "stderr",
     "output_type": "stream",
     "text": [
      "/Users/colleenjung/anaconda3/lib/python3.11/site-packages/sklearn/ensemble/_weight_boosting.py:519: FutureWarning: The SAMME.R algorithm (the default) is deprecated and will be removed in 1.6. Use the SAMME algorithm to circumvent this warning.\n",
      "  warnings.warn(\n"
     ]
    },
    {
     "name": "stdout",
     "output_type": "stream",
     "text": [
      "[CV] END ................learning_rate=0.6, n_estimators=200; total time=   7.4s\n"
     ]
    },
    {
     "name": "stderr",
     "output_type": "stream",
     "text": [
      "/Users/colleenjung/anaconda3/lib/python3.11/site-packages/sklearn/ensemble/_weight_boosting.py:519: FutureWarning: The SAMME.R algorithm (the default) is deprecated and will be removed in 1.6. Use the SAMME algorithm to circumvent this warning.\n",
      "  warnings.warn(\n"
     ]
    },
    {
     "name": "stdout",
     "output_type": "stream",
     "text": [
      "[CV] END ................learning_rate=0.6, n_estimators=200; total time=   7.9s\n"
     ]
    },
    {
     "name": "stderr",
     "output_type": "stream",
     "text": [
      "/Users/colleenjung/anaconda3/lib/python3.11/site-packages/sklearn/ensemble/_weight_boosting.py:519: FutureWarning: The SAMME.R algorithm (the default) is deprecated and will be removed in 1.6. Use the SAMME algorithm to circumvent this warning.\n",
      "  warnings.warn(\n"
     ]
    },
    {
     "name": "stdout",
     "output_type": "stream",
     "text": [
      "[CV] END ................learning_rate=0.6, n_estimators=200; total time=   8.6s\n"
     ]
    },
    {
     "name": "stderr",
     "output_type": "stream",
     "text": [
      "/Users/colleenjung/anaconda3/lib/python3.11/site-packages/sklearn/ensemble/_weight_boosting.py:519: FutureWarning: The SAMME.R algorithm (the default) is deprecated and will be removed in 1.6. Use the SAMME algorithm to circumvent this warning.\n",
      "  warnings.warn(\n"
     ]
    },
    {
     "name": "stdout",
     "output_type": "stream",
     "text": [
      "[CV] END ................learning_rate=0.6, n_estimators=200; total time=   5.6s\n"
     ]
    },
    {
     "name": "stderr",
     "output_type": "stream",
     "text": [
      "/Users/colleenjung/anaconda3/lib/python3.11/site-packages/sklearn/ensemble/_weight_boosting.py:519: FutureWarning: The SAMME.R algorithm (the default) is deprecated and will be removed in 1.6. Use the SAMME algorithm to circumvent this warning.\n",
      "  warnings.warn(\n"
     ]
    },
    {
     "name": "stdout",
     "output_type": "stream",
     "text": [
      "[CV] END ................learning_rate=0.6, n_estimators=300; total time=   9.7s\n"
     ]
    },
    {
     "name": "stderr",
     "output_type": "stream",
     "text": [
      "/Users/colleenjung/anaconda3/lib/python3.11/site-packages/sklearn/ensemble/_weight_boosting.py:519: FutureWarning: The SAMME.R algorithm (the default) is deprecated and will be removed in 1.6. Use the SAMME algorithm to circumvent this warning.\n",
      "  warnings.warn(\n"
     ]
    },
    {
     "name": "stdout",
     "output_type": "stream",
     "text": [
      "[CV] END ................learning_rate=0.6, n_estimators=300; total time=  11.6s\n"
     ]
    },
    {
     "name": "stderr",
     "output_type": "stream",
     "text": [
      "/Users/colleenjung/anaconda3/lib/python3.11/site-packages/sklearn/ensemble/_weight_boosting.py:519: FutureWarning: The SAMME.R algorithm (the default) is deprecated and will be removed in 1.6. Use the SAMME algorithm to circumvent this warning.\n",
      "  warnings.warn(\n"
     ]
    },
    {
     "name": "stdout",
     "output_type": "stream",
     "text": [
      "[CV] END ................learning_rate=0.6, n_estimators=300; total time=  11.7s\n"
     ]
    },
    {
     "name": "stderr",
     "output_type": "stream",
     "text": [
      "/Users/colleenjung/anaconda3/lib/python3.11/site-packages/sklearn/ensemble/_weight_boosting.py:519: FutureWarning: The SAMME.R algorithm (the default) is deprecated and will be removed in 1.6. Use the SAMME algorithm to circumvent this warning.\n",
      "  warnings.warn(\n"
     ]
    },
    {
     "name": "stdout",
     "output_type": "stream",
     "text": [
      "[CV] END ................learning_rate=0.6, n_estimators=300; total time=   9.7s\n"
     ]
    },
    {
     "name": "stderr",
     "output_type": "stream",
     "text": [
      "/Users/colleenjung/anaconda3/lib/python3.11/site-packages/sklearn/ensemble/_weight_boosting.py:519: FutureWarning: The SAMME.R algorithm (the default) is deprecated and will be removed in 1.6. Use the SAMME algorithm to circumvent this warning.\n",
      "  warnings.warn(\n"
     ]
    },
    {
     "name": "stdout",
     "output_type": "stream",
     "text": [
      "[CV] END ................learning_rate=0.6, n_estimators=300; total time=   9.4s\n"
     ]
    },
    {
     "name": "stderr",
     "output_type": "stream",
     "text": [
      "/Users/colleenjung/anaconda3/lib/python3.11/site-packages/sklearn/ensemble/_weight_boosting.py:519: FutureWarning: The SAMME.R algorithm (the default) is deprecated and will be removed in 1.6. Use the SAMME algorithm to circumvent this warning.\n",
      "  warnings.warn(\n"
     ]
    },
    {
     "name": "stdout",
     "output_type": "stream",
     "text": [
      "[CV] END ................learning_rate=0.6, n_estimators=400; total time=  13.2s\n"
     ]
    },
    {
     "name": "stderr",
     "output_type": "stream",
     "text": [
      "/Users/colleenjung/anaconda3/lib/python3.11/site-packages/sklearn/ensemble/_weight_boosting.py:519: FutureWarning: The SAMME.R algorithm (the default) is deprecated and will be removed in 1.6. Use the SAMME algorithm to circumvent this warning.\n",
      "  warnings.warn(\n"
     ]
    },
    {
     "name": "stdout",
     "output_type": "stream",
     "text": [
      "[CV] END ................learning_rate=0.6, n_estimators=400; total time=  13.0s\n"
     ]
    },
    {
     "name": "stderr",
     "output_type": "stream",
     "text": [
      "/Users/colleenjung/anaconda3/lib/python3.11/site-packages/sklearn/ensemble/_weight_boosting.py:519: FutureWarning: The SAMME.R algorithm (the default) is deprecated and will be removed in 1.6. Use the SAMME algorithm to circumvent this warning.\n",
      "  warnings.warn(\n"
     ]
    },
    {
     "name": "stdout",
     "output_type": "stream",
     "text": [
      "[CV] END ................learning_rate=0.6, n_estimators=400; total time=  13.7s\n"
     ]
    },
    {
     "name": "stderr",
     "output_type": "stream",
     "text": [
      "/Users/colleenjung/anaconda3/lib/python3.11/site-packages/sklearn/ensemble/_weight_boosting.py:519: FutureWarning: The SAMME.R algorithm (the default) is deprecated and will be removed in 1.6. Use the SAMME algorithm to circumvent this warning.\n",
      "  warnings.warn(\n"
     ]
    },
    {
     "name": "stdout",
     "output_type": "stream",
     "text": [
      "[CV] END ................learning_rate=0.6, n_estimators=400; total time=  15.0s\n"
     ]
    },
    {
     "name": "stderr",
     "output_type": "stream",
     "text": [
      "/Users/colleenjung/anaconda3/lib/python3.11/site-packages/sklearn/ensemble/_weight_boosting.py:519: FutureWarning: The SAMME.R algorithm (the default) is deprecated and will be removed in 1.6. Use the SAMME algorithm to circumvent this warning.\n",
      "  warnings.warn(\n"
     ]
    },
    {
     "name": "stdout",
     "output_type": "stream",
     "text": [
      "[CV] END ................learning_rate=0.6, n_estimators=400; total time=  13.7s\n"
     ]
    },
    {
     "name": "stderr",
     "output_type": "stream",
     "text": [
      "/Users/colleenjung/anaconda3/lib/python3.11/site-packages/sklearn/ensemble/_weight_boosting.py:519: FutureWarning: The SAMME.R algorithm (the default) is deprecated and will be removed in 1.6. Use the SAMME algorithm to circumvent this warning.\n",
      "  warnings.warn(\n"
     ]
    },
    {
     "name": "stdout",
     "output_type": "stream",
     "text": [
      "[CV] END ................learning_rate=0.8, n_estimators=100; total time=   2.8s\n"
     ]
    },
    {
     "name": "stderr",
     "output_type": "stream",
     "text": [
      "/Users/colleenjung/anaconda3/lib/python3.11/site-packages/sklearn/ensemble/_weight_boosting.py:519: FutureWarning: The SAMME.R algorithm (the default) is deprecated and will be removed in 1.6. Use the SAMME algorithm to circumvent this warning.\n",
      "  warnings.warn(\n"
     ]
    },
    {
     "name": "stdout",
     "output_type": "stream",
     "text": [
      "[CV] END ................learning_rate=0.8, n_estimators=100; total time=   3.1s\n"
     ]
    },
    {
     "name": "stderr",
     "output_type": "stream",
     "text": [
      "/Users/colleenjung/anaconda3/lib/python3.11/site-packages/sklearn/ensemble/_weight_boosting.py:519: FutureWarning: The SAMME.R algorithm (the default) is deprecated and will be removed in 1.6. Use the SAMME algorithm to circumvent this warning.\n",
      "  warnings.warn(\n"
     ]
    },
    {
     "name": "stdout",
     "output_type": "stream",
     "text": [
      "[CV] END ................learning_rate=0.8, n_estimators=100; total time=   3.5s\n"
     ]
    },
    {
     "name": "stderr",
     "output_type": "stream",
     "text": [
      "/Users/colleenjung/anaconda3/lib/python3.11/site-packages/sklearn/ensemble/_weight_boosting.py:519: FutureWarning: The SAMME.R algorithm (the default) is deprecated and will be removed in 1.6. Use the SAMME algorithm to circumvent this warning.\n",
      "  warnings.warn(\n"
     ]
    },
    {
     "name": "stdout",
     "output_type": "stream",
     "text": [
      "[CV] END ................learning_rate=0.8, n_estimators=100; total time=   3.6s\n"
     ]
    },
    {
     "name": "stderr",
     "output_type": "stream",
     "text": [
      "/Users/colleenjung/anaconda3/lib/python3.11/site-packages/sklearn/ensemble/_weight_boosting.py:519: FutureWarning: The SAMME.R algorithm (the default) is deprecated and will be removed in 1.6. Use the SAMME algorithm to circumvent this warning.\n",
      "  warnings.warn(\n"
     ]
    },
    {
     "name": "stdout",
     "output_type": "stream",
     "text": [
      "[CV] END ................learning_rate=0.8, n_estimators=100; total time=   3.4s\n"
     ]
    },
    {
     "name": "stderr",
     "output_type": "stream",
     "text": [
      "/Users/colleenjung/anaconda3/lib/python3.11/site-packages/sklearn/ensemble/_weight_boosting.py:519: FutureWarning: The SAMME.R algorithm (the default) is deprecated and will be removed in 1.6. Use the SAMME algorithm to circumvent this warning.\n",
      "  warnings.warn(\n"
     ]
    },
    {
     "name": "stdout",
     "output_type": "stream",
     "text": [
      "[CV] END ................learning_rate=0.8, n_estimators=200; total time=   7.6s\n"
     ]
    },
    {
     "name": "stderr",
     "output_type": "stream",
     "text": [
      "/Users/colleenjung/anaconda3/lib/python3.11/site-packages/sklearn/ensemble/_weight_boosting.py:519: FutureWarning: The SAMME.R algorithm (the default) is deprecated and will be removed in 1.6. Use the SAMME algorithm to circumvent this warning.\n",
      "  warnings.warn(\n"
     ]
    },
    {
     "name": "stdout",
     "output_type": "stream",
     "text": [
      "[CV] END ................learning_rate=0.8, n_estimators=200; total time=   8.3s\n"
     ]
    },
    {
     "name": "stderr",
     "output_type": "stream",
     "text": [
      "/Users/colleenjung/anaconda3/lib/python3.11/site-packages/sklearn/ensemble/_weight_boosting.py:519: FutureWarning: The SAMME.R algorithm (the default) is deprecated and will be removed in 1.6. Use the SAMME algorithm to circumvent this warning.\n",
      "  warnings.warn(\n"
     ]
    },
    {
     "name": "stdout",
     "output_type": "stream",
     "text": [
      "[CV] END ................learning_rate=0.8, n_estimators=200; total time=   6.9s\n"
     ]
    },
    {
     "name": "stderr",
     "output_type": "stream",
     "text": [
      "/Users/colleenjung/anaconda3/lib/python3.11/site-packages/sklearn/ensemble/_weight_boosting.py:519: FutureWarning: The SAMME.R algorithm (the default) is deprecated and will be removed in 1.6. Use the SAMME algorithm to circumvent this warning.\n",
      "  warnings.warn(\n"
     ]
    },
    {
     "name": "stdout",
     "output_type": "stream",
     "text": [
      "[CV] END ................learning_rate=0.8, n_estimators=200; total time=   7.4s\n"
     ]
    },
    {
     "name": "stderr",
     "output_type": "stream",
     "text": [
      "/Users/colleenjung/anaconda3/lib/python3.11/site-packages/sklearn/ensemble/_weight_boosting.py:519: FutureWarning: The SAMME.R algorithm (the default) is deprecated and will be removed in 1.6. Use the SAMME algorithm to circumvent this warning.\n",
      "  warnings.warn(\n"
     ]
    },
    {
     "name": "stdout",
     "output_type": "stream",
     "text": [
      "[CV] END ................learning_rate=0.8, n_estimators=200; total time=   6.0s\n"
     ]
    },
    {
     "name": "stderr",
     "output_type": "stream",
     "text": [
      "/Users/colleenjung/anaconda3/lib/python3.11/site-packages/sklearn/ensemble/_weight_boosting.py:519: FutureWarning: The SAMME.R algorithm (the default) is deprecated and will be removed in 1.6. Use the SAMME algorithm to circumvent this warning.\n",
      "  warnings.warn(\n"
     ]
    },
    {
     "name": "stdout",
     "output_type": "stream",
     "text": [
      "[CV] END ................learning_rate=0.8, n_estimators=300; total time=   9.7s\n"
     ]
    },
    {
     "name": "stderr",
     "output_type": "stream",
     "text": [
      "/Users/colleenjung/anaconda3/lib/python3.11/site-packages/sklearn/ensemble/_weight_boosting.py:519: FutureWarning: The SAMME.R algorithm (the default) is deprecated and will be removed in 1.6. Use the SAMME algorithm to circumvent this warning.\n",
      "  warnings.warn(\n"
     ]
    },
    {
     "name": "stdout",
     "output_type": "stream",
     "text": [
      "[CV] END ................learning_rate=0.8, n_estimators=300; total time=  11.2s\n"
     ]
    },
    {
     "name": "stderr",
     "output_type": "stream",
     "text": [
      "/Users/colleenjung/anaconda3/lib/python3.11/site-packages/sklearn/ensemble/_weight_boosting.py:519: FutureWarning: The SAMME.R algorithm (the default) is deprecated and will be removed in 1.6. Use the SAMME algorithm to circumvent this warning.\n",
      "  warnings.warn(\n"
     ]
    },
    {
     "name": "stdout",
     "output_type": "stream",
     "text": [
      "[CV] END ................learning_rate=0.8, n_estimators=300; total time=  11.5s\n"
     ]
    },
    {
     "name": "stderr",
     "output_type": "stream",
     "text": [
      "/Users/colleenjung/anaconda3/lib/python3.11/site-packages/sklearn/ensemble/_weight_boosting.py:519: FutureWarning: The SAMME.R algorithm (the default) is deprecated and will be removed in 1.6. Use the SAMME algorithm to circumvent this warning.\n",
      "  warnings.warn(\n"
     ]
    },
    {
     "name": "stdout",
     "output_type": "stream",
     "text": [
      "[CV] END ................learning_rate=0.8, n_estimators=300; total time=   8.2s\n"
     ]
    },
    {
     "name": "stderr",
     "output_type": "stream",
     "text": [
      "/Users/colleenjung/anaconda3/lib/python3.11/site-packages/sklearn/ensemble/_weight_boosting.py:519: FutureWarning: The SAMME.R algorithm (the default) is deprecated and will be removed in 1.6. Use the SAMME algorithm to circumvent this warning.\n",
      "  warnings.warn(\n"
     ]
    },
    {
     "name": "stdout",
     "output_type": "stream",
     "text": [
      "[CV] END ................learning_rate=0.8, n_estimators=300; total time=  11.3s\n"
     ]
    },
    {
     "name": "stderr",
     "output_type": "stream",
     "text": [
      "/Users/colleenjung/anaconda3/lib/python3.11/site-packages/sklearn/ensemble/_weight_boosting.py:519: FutureWarning: The SAMME.R algorithm (the default) is deprecated and will be removed in 1.6. Use the SAMME algorithm to circumvent this warning.\n",
      "  warnings.warn(\n"
     ]
    },
    {
     "name": "stdout",
     "output_type": "stream",
     "text": [
      "[CV] END ................learning_rate=0.8, n_estimators=400; total time=  12.1s\n"
     ]
    },
    {
     "name": "stderr",
     "output_type": "stream",
     "text": [
      "/Users/colleenjung/anaconda3/lib/python3.11/site-packages/sklearn/ensemble/_weight_boosting.py:519: FutureWarning: The SAMME.R algorithm (the default) is deprecated and will be removed in 1.6. Use the SAMME algorithm to circumvent this warning.\n",
      "  warnings.warn(\n"
     ]
    },
    {
     "name": "stdout",
     "output_type": "stream",
     "text": [
      "[CV] END ................learning_rate=0.8, n_estimators=400; total time=  13.4s\n"
     ]
    },
    {
     "name": "stderr",
     "output_type": "stream",
     "text": [
      "/Users/colleenjung/anaconda3/lib/python3.11/site-packages/sklearn/ensemble/_weight_boosting.py:519: FutureWarning: The SAMME.R algorithm (the default) is deprecated and will be removed in 1.6. Use the SAMME algorithm to circumvent this warning.\n",
      "  warnings.warn(\n"
     ]
    },
    {
     "name": "stdout",
     "output_type": "stream",
     "text": [
      "[CV] END ................learning_rate=0.8, n_estimators=400; total time=  14.6s\n"
     ]
    },
    {
     "name": "stderr",
     "output_type": "stream",
     "text": [
      "/Users/colleenjung/anaconda3/lib/python3.11/site-packages/sklearn/ensemble/_weight_boosting.py:519: FutureWarning: The SAMME.R algorithm (the default) is deprecated and will be removed in 1.6. Use the SAMME algorithm to circumvent this warning.\n",
      "  warnings.warn(\n"
     ]
    },
    {
     "name": "stdout",
     "output_type": "stream",
     "text": [
      "[CV] END ................learning_rate=0.8, n_estimators=400; total time=  11.0s\n"
     ]
    },
    {
     "name": "stderr",
     "output_type": "stream",
     "text": [
      "/Users/colleenjung/anaconda3/lib/python3.11/site-packages/sklearn/ensemble/_weight_boosting.py:519: FutureWarning: The SAMME.R algorithm (the default) is deprecated and will be removed in 1.6. Use the SAMME algorithm to circumvent this warning.\n",
      "  warnings.warn(\n"
     ]
    },
    {
     "name": "stdout",
     "output_type": "stream",
     "text": [
      "[CV] END ................learning_rate=0.8, n_estimators=400; total time=  12.8s\n"
     ]
    },
    {
     "name": "stderr",
     "output_type": "stream",
     "text": [
      "/Users/colleenjung/anaconda3/lib/python3.11/site-packages/sklearn/ensemble/_weight_boosting.py:519: FutureWarning: The SAMME.R algorithm (the default) is deprecated and will be removed in 1.6. Use the SAMME algorithm to circumvent this warning.\n",
      "  warnings.warn(\n"
     ]
    },
    {
     "name": "stdout",
     "output_type": "stream",
     "text": [
      "[CV] END ..................learning_rate=1, n_estimators=100; total time=   3.1s\n"
     ]
    },
    {
     "name": "stderr",
     "output_type": "stream",
     "text": [
      "/Users/colleenjung/anaconda3/lib/python3.11/site-packages/sklearn/ensemble/_weight_boosting.py:519: FutureWarning: The SAMME.R algorithm (the default) is deprecated and will be removed in 1.6. Use the SAMME algorithm to circumvent this warning.\n",
      "  warnings.warn(\n"
     ]
    },
    {
     "name": "stdout",
     "output_type": "stream",
     "text": [
      "[CV] END ..................learning_rate=1, n_estimators=100; total time=   2.7s\n"
     ]
    },
    {
     "name": "stderr",
     "output_type": "stream",
     "text": [
      "/Users/colleenjung/anaconda3/lib/python3.11/site-packages/sklearn/ensemble/_weight_boosting.py:519: FutureWarning: The SAMME.R algorithm (the default) is deprecated and will be removed in 1.6. Use the SAMME algorithm to circumvent this warning.\n",
      "  warnings.warn(\n"
     ]
    },
    {
     "name": "stdout",
     "output_type": "stream",
     "text": [
      "[CV] END ..................learning_rate=1, n_estimators=100; total time=   3.1s\n"
     ]
    },
    {
     "name": "stderr",
     "output_type": "stream",
     "text": [
      "/Users/colleenjung/anaconda3/lib/python3.11/site-packages/sklearn/ensemble/_weight_boosting.py:519: FutureWarning: The SAMME.R algorithm (the default) is deprecated and will be removed in 1.6. Use the SAMME algorithm to circumvent this warning.\n",
      "  warnings.warn(\n"
     ]
    },
    {
     "name": "stdout",
     "output_type": "stream",
     "text": [
      "[CV] END ..................learning_rate=1, n_estimators=100; total time=   3.8s\n"
     ]
    },
    {
     "name": "stderr",
     "output_type": "stream",
     "text": [
      "/Users/colleenjung/anaconda3/lib/python3.11/site-packages/sklearn/ensemble/_weight_boosting.py:519: FutureWarning: The SAMME.R algorithm (the default) is deprecated and will be removed in 1.6. Use the SAMME algorithm to circumvent this warning.\n",
      "  warnings.warn(\n"
     ]
    },
    {
     "name": "stdout",
     "output_type": "stream",
     "text": [
      "[CV] END ..................learning_rate=1, n_estimators=100; total time=   4.0s\n"
     ]
    },
    {
     "name": "stderr",
     "output_type": "stream",
     "text": [
      "/Users/colleenjung/anaconda3/lib/python3.11/site-packages/sklearn/ensemble/_weight_boosting.py:519: FutureWarning: The SAMME.R algorithm (the default) is deprecated and will be removed in 1.6. Use the SAMME algorithm to circumvent this warning.\n",
      "  warnings.warn(\n"
     ]
    },
    {
     "name": "stdout",
     "output_type": "stream",
     "text": [
      "[CV] END ..................learning_rate=1, n_estimators=200; total time=   7.1s\n"
     ]
    },
    {
     "name": "stderr",
     "output_type": "stream",
     "text": [
      "/Users/colleenjung/anaconda3/lib/python3.11/site-packages/sklearn/ensemble/_weight_boosting.py:519: FutureWarning: The SAMME.R algorithm (the default) is deprecated and will be removed in 1.6. Use the SAMME algorithm to circumvent this warning.\n",
      "  warnings.warn(\n"
     ]
    },
    {
     "name": "stdout",
     "output_type": "stream",
     "text": [
      "[CV] END ..................learning_rate=1, n_estimators=200; total time=   6.8s\n"
     ]
    },
    {
     "name": "stderr",
     "output_type": "stream",
     "text": [
      "/Users/colleenjung/anaconda3/lib/python3.11/site-packages/sklearn/ensemble/_weight_boosting.py:519: FutureWarning: The SAMME.R algorithm (the default) is deprecated and will be removed in 1.6. Use the SAMME algorithm to circumvent this warning.\n",
      "  warnings.warn(\n"
     ]
    },
    {
     "name": "stdout",
     "output_type": "stream",
     "text": [
      "[CV] END ..................learning_rate=1, n_estimators=200; total time=   6.8s\n"
     ]
    },
    {
     "name": "stderr",
     "output_type": "stream",
     "text": [
      "/Users/colleenjung/anaconda3/lib/python3.11/site-packages/sklearn/ensemble/_weight_boosting.py:519: FutureWarning: The SAMME.R algorithm (the default) is deprecated and will be removed in 1.6. Use the SAMME algorithm to circumvent this warning.\n",
      "  warnings.warn(\n"
     ]
    },
    {
     "name": "stdout",
     "output_type": "stream",
     "text": [
      "[CV] END ..................learning_rate=1, n_estimators=200; total time=   5.4s\n"
     ]
    },
    {
     "name": "stderr",
     "output_type": "stream",
     "text": [
      "/Users/colleenjung/anaconda3/lib/python3.11/site-packages/sklearn/ensemble/_weight_boosting.py:519: FutureWarning: The SAMME.R algorithm (the default) is deprecated and will be removed in 1.6. Use the SAMME algorithm to circumvent this warning.\n",
      "  warnings.warn(\n"
     ]
    },
    {
     "name": "stdout",
     "output_type": "stream",
     "text": [
      "[CV] END ..................learning_rate=1, n_estimators=200; total time=   5.9s\n"
     ]
    },
    {
     "name": "stderr",
     "output_type": "stream",
     "text": [
      "/Users/colleenjung/anaconda3/lib/python3.11/site-packages/sklearn/ensemble/_weight_boosting.py:519: FutureWarning: The SAMME.R algorithm (the default) is deprecated and will be removed in 1.6. Use the SAMME algorithm to circumvent this warning.\n",
      "  warnings.warn(\n"
     ]
    },
    {
     "name": "stdout",
     "output_type": "stream",
     "text": [
      "[CV] END ..................learning_rate=1, n_estimators=300; total time=  10.4s\n"
     ]
    },
    {
     "name": "stderr",
     "output_type": "stream",
     "text": [
      "/Users/colleenjung/anaconda3/lib/python3.11/site-packages/sklearn/ensemble/_weight_boosting.py:519: FutureWarning: The SAMME.R algorithm (the default) is deprecated and will be removed in 1.6. Use the SAMME algorithm to circumvent this warning.\n",
      "  warnings.warn(\n"
     ]
    },
    {
     "name": "stdout",
     "output_type": "stream",
     "text": [
      "[CV] END ..................learning_rate=1, n_estimators=300; total time=   9.4s\n"
     ]
    },
    {
     "name": "stderr",
     "output_type": "stream",
     "text": [
      "/Users/colleenjung/anaconda3/lib/python3.11/site-packages/sklearn/ensemble/_weight_boosting.py:519: FutureWarning: The SAMME.R algorithm (the default) is deprecated and will be removed in 1.6. Use the SAMME algorithm to circumvent this warning.\n",
      "  warnings.warn(\n"
     ]
    },
    {
     "name": "stdout",
     "output_type": "stream",
     "text": [
      "[CV] END ..................learning_rate=1, n_estimators=300; total time=  10.7s\n"
     ]
    },
    {
     "name": "stderr",
     "output_type": "stream",
     "text": [
      "/Users/colleenjung/anaconda3/lib/python3.11/site-packages/sklearn/ensemble/_weight_boosting.py:519: FutureWarning: The SAMME.R algorithm (the default) is deprecated and will be removed in 1.6. Use the SAMME algorithm to circumvent this warning.\n",
      "  warnings.warn(\n"
     ]
    },
    {
     "name": "stdout",
     "output_type": "stream",
     "text": [
      "[CV] END ..................learning_rate=1, n_estimators=300; total time=  11.8s\n"
     ]
    },
    {
     "name": "stderr",
     "output_type": "stream",
     "text": [
      "/Users/colleenjung/anaconda3/lib/python3.11/site-packages/sklearn/ensemble/_weight_boosting.py:519: FutureWarning: The SAMME.R algorithm (the default) is deprecated and will be removed in 1.6. Use the SAMME algorithm to circumvent this warning.\n",
      "  warnings.warn(\n"
     ]
    },
    {
     "name": "stdout",
     "output_type": "stream",
     "text": [
      "[CV] END ..................learning_rate=1, n_estimators=300; total time=  10.3s\n"
     ]
    },
    {
     "name": "stderr",
     "output_type": "stream",
     "text": [
      "/Users/colleenjung/anaconda3/lib/python3.11/site-packages/sklearn/ensemble/_weight_boosting.py:519: FutureWarning: The SAMME.R algorithm (the default) is deprecated and will be removed in 1.6. Use the SAMME algorithm to circumvent this warning.\n",
      "  warnings.warn(\n"
     ]
    },
    {
     "name": "stdout",
     "output_type": "stream",
     "text": [
      "[CV] END ..................learning_rate=1, n_estimators=400; total time=  11.5s\n"
     ]
    },
    {
     "name": "stderr",
     "output_type": "stream",
     "text": [
      "/Users/colleenjung/anaconda3/lib/python3.11/site-packages/sklearn/ensemble/_weight_boosting.py:519: FutureWarning: The SAMME.R algorithm (the default) is deprecated and will be removed in 1.6. Use the SAMME algorithm to circumvent this warning.\n",
      "  warnings.warn(\n"
     ]
    },
    {
     "name": "stdout",
     "output_type": "stream",
     "text": [
      "[CV] END ..................learning_rate=1, n_estimators=400; total time=  12.5s\n"
     ]
    },
    {
     "name": "stderr",
     "output_type": "stream",
     "text": [
      "/Users/colleenjung/anaconda3/lib/python3.11/site-packages/sklearn/ensemble/_weight_boosting.py:519: FutureWarning: The SAMME.R algorithm (the default) is deprecated and will be removed in 1.6. Use the SAMME algorithm to circumvent this warning.\n",
      "  warnings.warn(\n"
     ]
    },
    {
     "name": "stdout",
     "output_type": "stream",
     "text": [
      "[CV] END ..................learning_rate=1, n_estimators=400; total time=  12.7s\n"
     ]
    },
    {
     "name": "stderr",
     "output_type": "stream",
     "text": [
      "/Users/colleenjung/anaconda3/lib/python3.11/site-packages/sklearn/ensemble/_weight_boosting.py:519: FutureWarning: The SAMME.R algorithm (the default) is deprecated and will be removed in 1.6. Use the SAMME algorithm to circumvent this warning.\n",
      "  warnings.warn(\n"
     ]
    },
    {
     "name": "stdout",
     "output_type": "stream",
     "text": [
      "[CV] END ..................learning_rate=1, n_estimators=400; total time=  14.2s\n"
     ]
    },
    {
     "name": "stderr",
     "output_type": "stream",
     "text": [
      "/Users/colleenjung/anaconda3/lib/python3.11/site-packages/sklearn/ensemble/_weight_boosting.py:519: FutureWarning: The SAMME.R algorithm (the default) is deprecated and will be removed in 1.6. Use the SAMME algorithm to circumvent this warning.\n",
      "  warnings.warn(\n"
     ]
    },
    {
     "name": "stdout",
     "output_type": "stream",
     "text": [
      "[CV] END ..................learning_rate=1, n_estimators=400; total time=  13.9s\n"
     ]
    },
    {
     "name": "stderr",
     "output_type": "stream",
     "text": [
      "/Users/colleenjung/anaconda3/lib/python3.11/site-packages/sklearn/ensemble/_weight_boosting.py:519: FutureWarning: The SAMME.R algorithm (the default) is deprecated and will be removed in 1.6. Use the SAMME algorithm to circumvent this warning.\n",
      "  warnings.warn(\n"
     ]
    },
    {
     "name": "stdout",
     "output_type": "stream",
     "text": [
      "[CV] END ................learning_rate=1.2, n_estimators=100; total time=   3.6s\n"
     ]
    },
    {
     "name": "stderr",
     "output_type": "stream",
     "text": [
      "/Users/colleenjung/anaconda3/lib/python3.11/site-packages/sklearn/ensemble/_weight_boosting.py:519: FutureWarning: The SAMME.R algorithm (the default) is deprecated and will be removed in 1.6. Use the SAMME algorithm to circumvent this warning.\n",
      "  warnings.warn(\n"
     ]
    },
    {
     "name": "stdout",
     "output_type": "stream",
     "text": [
      "[CV] END ................learning_rate=1.2, n_estimators=100; total time=   3.3s\n"
     ]
    },
    {
     "name": "stderr",
     "output_type": "stream",
     "text": [
      "/Users/colleenjung/anaconda3/lib/python3.11/site-packages/sklearn/ensemble/_weight_boosting.py:519: FutureWarning: The SAMME.R algorithm (the default) is deprecated and will be removed in 1.6. Use the SAMME algorithm to circumvent this warning.\n",
      "  warnings.warn(\n"
     ]
    },
    {
     "name": "stdout",
     "output_type": "stream",
     "text": [
      "[CV] END ................learning_rate=1.2, n_estimators=100; total time=   2.8s\n"
     ]
    },
    {
     "name": "stderr",
     "output_type": "stream",
     "text": [
      "/Users/colleenjung/anaconda3/lib/python3.11/site-packages/sklearn/ensemble/_weight_boosting.py:519: FutureWarning: The SAMME.R algorithm (the default) is deprecated and will be removed in 1.6. Use the SAMME algorithm to circumvent this warning.\n",
      "  warnings.warn(\n"
     ]
    },
    {
     "name": "stdout",
     "output_type": "stream",
     "text": [
      "[CV] END ................learning_rate=1.2, n_estimators=100; total time=   3.4s\n"
     ]
    },
    {
     "name": "stderr",
     "output_type": "stream",
     "text": [
      "/Users/colleenjung/anaconda3/lib/python3.11/site-packages/sklearn/ensemble/_weight_boosting.py:519: FutureWarning: The SAMME.R algorithm (the default) is deprecated and will be removed in 1.6. Use the SAMME algorithm to circumvent this warning.\n",
      "  warnings.warn(\n"
     ]
    },
    {
     "name": "stdout",
     "output_type": "stream",
     "text": [
      "[CV] END ................learning_rate=1.2, n_estimators=100; total time=   3.9s\n"
     ]
    },
    {
     "name": "stderr",
     "output_type": "stream",
     "text": [
      "/Users/colleenjung/anaconda3/lib/python3.11/site-packages/sklearn/ensemble/_weight_boosting.py:519: FutureWarning: The SAMME.R algorithm (the default) is deprecated and will be removed in 1.6. Use the SAMME algorithm to circumvent this warning.\n",
      "  warnings.warn(\n"
     ]
    },
    {
     "name": "stdout",
     "output_type": "stream",
     "text": [
      "[CV] END ................learning_rate=1.2, n_estimators=200; total time=   5.7s\n"
     ]
    },
    {
     "name": "stderr",
     "output_type": "stream",
     "text": [
      "/Users/colleenjung/anaconda3/lib/python3.11/site-packages/sklearn/ensemble/_weight_boosting.py:519: FutureWarning: The SAMME.R algorithm (the default) is deprecated and will be removed in 1.6. Use the SAMME algorithm to circumvent this warning.\n",
      "  warnings.warn(\n"
     ]
    },
    {
     "name": "stdout",
     "output_type": "stream",
     "text": [
      "[CV] END ................learning_rate=1.2, n_estimators=200; total time=   6.4s\n"
     ]
    },
    {
     "name": "stderr",
     "output_type": "stream",
     "text": [
      "/Users/colleenjung/anaconda3/lib/python3.11/site-packages/sklearn/ensemble/_weight_boosting.py:519: FutureWarning: The SAMME.R algorithm (the default) is deprecated and will be removed in 1.6. Use the SAMME algorithm to circumvent this warning.\n",
      "  warnings.warn(\n"
     ]
    },
    {
     "name": "stdout",
     "output_type": "stream",
     "text": [
      "[CV] END ................learning_rate=1.2, n_estimators=200; total time=   6.5s\n"
     ]
    },
    {
     "name": "stderr",
     "output_type": "stream",
     "text": [
      "/Users/colleenjung/anaconda3/lib/python3.11/site-packages/sklearn/ensemble/_weight_boosting.py:519: FutureWarning: The SAMME.R algorithm (the default) is deprecated and will be removed in 1.6. Use the SAMME algorithm to circumvent this warning.\n",
      "  warnings.warn(\n"
     ]
    },
    {
     "name": "stdout",
     "output_type": "stream",
     "text": [
      "[CV] END ................learning_rate=1.2, n_estimators=200; total time=   6.1s\n"
     ]
    },
    {
     "name": "stderr",
     "output_type": "stream",
     "text": [
      "/Users/colleenjung/anaconda3/lib/python3.11/site-packages/sklearn/ensemble/_weight_boosting.py:519: FutureWarning: The SAMME.R algorithm (the default) is deprecated and will be removed in 1.6. Use the SAMME algorithm to circumvent this warning.\n",
      "  warnings.warn(\n"
     ]
    },
    {
     "name": "stdout",
     "output_type": "stream",
     "text": [
      "[CV] END ................learning_rate=1.2, n_estimators=200; total time=   6.8s\n"
     ]
    },
    {
     "name": "stderr",
     "output_type": "stream",
     "text": [
      "/Users/colleenjung/anaconda3/lib/python3.11/site-packages/sklearn/ensemble/_weight_boosting.py:519: FutureWarning: The SAMME.R algorithm (the default) is deprecated and will be removed in 1.6. Use the SAMME algorithm to circumvent this warning.\n",
      "  warnings.warn(\n"
     ]
    },
    {
     "name": "stdout",
     "output_type": "stream",
     "text": [
      "[CV] END ................learning_rate=1.2, n_estimators=300; total time=   9.7s\n"
     ]
    },
    {
     "name": "stderr",
     "output_type": "stream",
     "text": [
      "/Users/colleenjung/anaconda3/lib/python3.11/site-packages/sklearn/ensemble/_weight_boosting.py:519: FutureWarning: The SAMME.R algorithm (the default) is deprecated and will be removed in 1.6. Use the SAMME algorithm to circumvent this warning.\n",
      "  warnings.warn(\n"
     ]
    },
    {
     "name": "stdout",
     "output_type": "stream",
     "text": [
      "[CV] END ................learning_rate=1.2, n_estimators=300; total time=  10.3s\n"
     ]
    },
    {
     "name": "stderr",
     "output_type": "stream",
     "text": [
      "/Users/colleenjung/anaconda3/lib/python3.11/site-packages/sklearn/ensemble/_weight_boosting.py:519: FutureWarning: The SAMME.R algorithm (the default) is deprecated and will be removed in 1.6. Use the SAMME algorithm to circumvent this warning.\n",
      "  warnings.warn(\n"
     ]
    },
    {
     "name": "stdout",
     "output_type": "stream",
     "text": [
      "[CV] END ................learning_rate=1.2, n_estimators=300; total time=  11.0s\n"
     ]
    },
    {
     "name": "stderr",
     "output_type": "stream",
     "text": [
      "/Users/colleenjung/anaconda3/lib/python3.11/site-packages/sklearn/ensemble/_weight_boosting.py:519: FutureWarning: The SAMME.R algorithm (the default) is deprecated and will be removed in 1.6. Use the SAMME algorithm to circumvent this warning.\n",
      "  warnings.warn(\n"
     ]
    },
    {
     "name": "stdout",
     "output_type": "stream",
     "text": [
      "[CV] END ................learning_rate=1.2, n_estimators=300; total time=   9.3s\n"
     ]
    },
    {
     "name": "stderr",
     "output_type": "stream",
     "text": [
      "/Users/colleenjung/anaconda3/lib/python3.11/site-packages/sklearn/ensemble/_weight_boosting.py:519: FutureWarning: The SAMME.R algorithm (the default) is deprecated and will be removed in 1.6. Use the SAMME algorithm to circumvent this warning.\n",
      "  warnings.warn(\n"
     ]
    },
    {
     "name": "stdout",
     "output_type": "stream",
     "text": [
      "[CV] END ................learning_rate=1.2, n_estimators=300; total time=   8.4s\n"
     ]
    },
    {
     "name": "stderr",
     "output_type": "stream",
     "text": [
      "/Users/colleenjung/anaconda3/lib/python3.11/site-packages/sklearn/ensemble/_weight_boosting.py:519: FutureWarning: The SAMME.R algorithm (the default) is deprecated and will be removed in 1.6. Use the SAMME algorithm to circumvent this warning.\n",
      "  warnings.warn(\n"
     ]
    },
    {
     "name": "stdout",
     "output_type": "stream",
     "text": [
      "[CV] END ................learning_rate=1.2, n_estimators=400; total time=  11.5s\n"
     ]
    },
    {
     "name": "stderr",
     "output_type": "stream",
     "text": [
      "/Users/colleenjung/anaconda3/lib/python3.11/site-packages/sklearn/ensemble/_weight_boosting.py:519: FutureWarning: The SAMME.R algorithm (the default) is deprecated and will be removed in 1.6. Use the SAMME algorithm to circumvent this warning.\n",
      "  warnings.warn(\n"
     ]
    },
    {
     "name": "stdout",
     "output_type": "stream",
     "text": [
      "[CV] END ................learning_rate=1.2, n_estimators=400; total time=  11.6s\n"
     ]
    },
    {
     "name": "stderr",
     "output_type": "stream",
     "text": [
      "/Users/colleenjung/anaconda3/lib/python3.11/site-packages/sklearn/ensemble/_weight_boosting.py:519: FutureWarning: The SAMME.R algorithm (the default) is deprecated and will be removed in 1.6. Use the SAMME algorithm to circumvent this warning.\n",
      "  warnings.warn(\n"
     ]
    },
    {
     "name": "stdout",
     "output_type": "stream",
     "text": [
      "[CV] END ................learning_rate=1.2, n_estimators=400; total time=  10.6s\n"
     ]
    },
    {
     "name": "stderr",
     "output_type": "stream",
     "text": [
      "/Users/colleenjung/anaconda3/lib/python3.11/site-packages/sklearn/ensemble/_weight_boosting.py:519: FutureWarning: The SAMME.R algorithm (the default) is deprecated and will be removed in 1.6. Use the SAMME algorithm to circumvent this warning.\n",
      "  warnings.warn(\n"
     ]
    },
    {
     "name": "stdout",
     "output_type": "stream",
     "text": [
      "[CV] END ................learning_rate=1.2, n_estimators=400; total time=  11.0s\n"
     ]
    },
    {
     "name": "stderr",
     "output_type": "stream",
     "text": [
      "/Users/colleenjung/anaconda3/lib/python3.11/site-packages/sklearn/ensemble/_weight_boosting.py:519: FutureWarning: The SAMME.R algorithm (the default) is deprecated and will be removed in 1.6. Use the SAMME algorithm to circumvent this warning.\n",
      "  warnings.warn(\n"
     ]
    },
    {
     "name": "stdout",
     "output_type": "stream",
     "text": [
      "[CV] END ................learning_rate=1.2, n_estimators=400; total time=  10.2s\n"
     ]
    },
    {
     "name": "stderr",
     "output_type": "stream",
     "text": [
      "/Users/colleenjung/anaconda3/lib/python3.11/site-packages/sklearn/ensemble/_weight_boosting.py:519: FutureWarning: The SAMME.R algorithm (the default) is deprecated and will be removed in 1.6. Use the SAMME algorithm to circumvent this warning.\n",
      "  warnings.warn(\n"
     ]
    },
    {
     "name": "stdout",
     "output_type": "stream",
     "text": [
      "Best parameters: {'learning_rate': 1.2, 'n_estimators': 400}\n",
      "Best ROC AUC score: 0.9253193104965561\n"
     ]
    }
   ],
   "source": [
    "from sklearn.ensemble import AdaBoostClassifier\n",
    "from sklearn.model_selection import GridSearchCV\n",
    "\n",
    "# Initialize AdaBoostClassifier with the default base estimator (DecisionTree with max_depth=1)\n",
    "ada_classifier = AdaBoostClassifier(random_state=42)\n",
    "\n",
    "# Define the parameter grid\n",
    "param_grid = {\n",
    "    'n_estimators': [100, 200, 300, 400],\n",
    "    'learning_rate': [0.2, 0.4, 0.6, 0.8, 1, 1.2]\n",
    "}\n",
    "\n",
    "# Initialize GridSearchCV with the AdaBoost classifier, parameter grid, and necessary settings\n",
    "grid_search = GridSearchCV(ada_classifier, param_grid, cv=5, scoring='roc_auc', verbose=2)\n",
    "\n",
    "# Fit GridSearchCV to the training data\n",
    "grid_search.fit(X_train, y_train)\n",
    "\n",
    "# Output the best parameters and the best score\n",
    "print(\"Best parameters:\", grid_search.best_params_)\n",
    "print(\"Best ROC AUC score:\", grid_search.best_score_)\n",
    "\n",
    "# Optionally, get the best estimator directly\n",
    "best_ada_classifier = grid_search.best_estimator_\n"
   ]
  },
  {
   "cell_type": "markdown",
   "id": "510446b9",
   "metadata": {},
   "source": [
    "b) Use the best estimator from GridSearchCV to predict on test data. Use the .predict_proba() and the .predict() methods to get predicted probabilities as well as predicted classes."
   ]
  },
  {
   "cell_type": "code",
   "execution_count": 16,
   "id": "531eebad",
   "metadata": {},
   "outputs": [],
   "source": [
    "from sklearn.metrics import confusion_matrix, classification_report, roc_auc_score\n",
    "\n",
    "# Predict the classes and probabilities for the test data\n",
    "y_pred = best_ada_classifier.predict(X_test)\n",
    "y_proba = best_ada_classifier.predict_proba(X_test)[:, 1]  # get probabilities for the positive class\n",
    "\n"
   ]
  },
  {
   "cell_type": "markdown",
   "id": "c0d22cca",
   "metadata": {},
   "source": [
    "c) Calculate the confusion matrix and classification report (both are in sklearn.metrics).\n",
    "\n",
    "d) Calculate the AUC score"
   ]
  },
  {
   "cell_type": "code",
   "execution_count": 17,
   "id": "3313bdf9",
   "metadata": {
    "scrolled": true
   },
   "outputs": [
    {
     "name": "stdout",
     "output_type": "stream",
     "text": [
      "Confusion Matrix:\n",
      " [[7008  447]\n",
      " [ 807 1507]]\n",
      "Classification Report:\n",
      "               precision    recall  f1-score   support\n",
      "\n",
      "           0       0.90      0.94      0.92      7455\n",
      "           1       0.77      0.65      0.71      2314\n",
      "\n",
      "    accuracy                           0.87      9769\n",
      "   macro avg       0.83      0.80      0.81      9769\n",
      "weighted avg       0.87      0.87      0.87      9769\n",
      "\n",
      "AUC Score: 0.9244122180504519\n"
     ]
    }
   ],
   "source": [
    "# Calculate the confusion matrix\n",
    "conf_matrix = confusion_matrix(y_test, y_pred)\n",
    "print(\"Confusion Matrix:\\n\", conf_matrix)\n",
    "\n",
    "# Calculate and print the classification report\n",
    "class_report = classification_report(y_test, y_pred)\n",
    "print(\"Classification Report:\\n\", class_report)\n",
    "\n",
    "# Calculate the AUC score\n",
    "auc_score = roc_auc_score(y_test, y_proba)\n",
    "print(\"AUC Score:\", auc_score)\n"
   ]
  },
  {
   "cell_type": "markdown",
   "id": "6155189e",
   "metadata": {},
   "source": [
    "e) Identify the top 5 features. Feel free to print a list OR to make a plot.\n"
   ]
  },
  {
   "cell_type": "code",
   "execution_count": 21,
   "id": "df8889a6",
   "metadata": {},
   "outputs": [
    {
     "data": {
      "image/png": "[encoded data removed]",
      "text/plain": [
       "<Figure size 1000x600 with 1 Axes>"
      ]
     },
     "metadata": {},
     "output_type": "display_data"
    },
    {
     "name": "stdout",
     "output_type": "stream",
     "text": [
      "Top 5 Features:\n",
      "capital_gain: 0.3300\n",
      "capital_loss: 0.2900\n",
      "age: 0.1075\n",
      "hours_per_week: 0.0575\n",
      "education_num: 0.0100\n"
     ]
    }
   ],
   "source": [
    "import numpy as np\n",
    "import matplotlib.pyplot as plt\n",
    "\n",
    "# Assuming best_ada_classifier is the trained AdaBoost model\n",
    "# Get feature importances\n",
    "feature_importances = best_ada_classifier.feature_importances_\n",
    "\n",
    "# Get the indices of the top 5 features\n",
    "indices = np.argsort(feature_importances)[-5:][::-1]  # Reverse to make the plot more intuitive\n",
    "\n",
    "# Create a plot of feature importances\n",
    "plt.figure(figsize=(10, 6))\n",
    "plt.title('Top 5 Feature Importances')\n",
    "plt.barh(np.arange(len(indices)), feature_importances[indices], color='b', align='center')\n",
    "plt.yticks(np.arange(len(indices)), [X_encoded.columns[i] for i in indices])\n",
    "plt.xlabel('Relative Importance')\n",
    "plt.gca().invert_yaxis()  # Invert axis to have the highest importance on top\n",
    "plt.show()\n",
    "\n",
    "# Alternatively, print them as a list\n",
    "print(\"Top 5 Features:\")\n",
    "for i in indices:\n",
    "    print(f\"{X_encoded.columns[i]}: {feature_importances[i]:.4f}\")\n"
   ]
  },
  {
   "cell_type": "markdown",
   "id": "1415afd3",
   "metadata": {},
   "source": [
    "f) Using the model from part (b), predict for the train data. Look at the classification report for the train data - is there overfitting for the best estimator?"
   ]
  },
  {
   "cell_type": "code",
   "execution_count": 22,
   "id": "6be834ee",
   "metadata": {},
   "outputs": [
    {
     "name": "stdout",
     "output_type": "stream",
     "text": [
      "Classification Report for Training Data:\n",
      "               precision    recall  f1-score   support\n",
      "\n",
      "           0       0.90      0.94      0.92     17265\n",
      "           1       0.78      0.66      0.71      5527\n",
      "\n",
      "    accuracy                           0.87     22792\n",
      "   macro avg       0.84      0.80      0.82     22792\n",
      "weighted avg       0.87      0.87      0.87     22792\n",
      "\n"
     ]
    }
   ],
   "source": [
    "# Predict the classes for the training data\n",
    "y_train_pred = best_ada_classifier.predict(X_train)\n",
    "\n",
    "# Calculate and print the classification report for the training data\n",
    "train_class_report = classification_report(y_train, y_train_pred)\n",
    "print(\"Classification Report for Training Data:\\n\", train_class_report)\n"
   ]
  },
  {
   "cell_type": "code",
   "execution_count": null,
   "id": "85d2c585",
   "metadata": {},
   "outputs": [],
   "source": []
  },
  {
   "cell_type": "markdown",
   "id": "c65b6984",
   "metadata": {},
   "source": [
    "# 4. Gradient Boosting Classifier - GridSearch:\n",
    "\n",
    "a) Use GradientBoostingClassifier along with the GridSearchCV tool. Run the GridSearchCV using the following hyperparameters:\n",
    "\n",
    "n_estimators: 100,200, 300 & 400\n",
    "learning_rate: choose 3 learning rates of your choice\n",
    "max_depth: 1, 2 (you can try deeper, but remember part of the value of boosting stems from minimal complexity of trees)\n",
    "Note: Feel free to try out more parameters, the above is the bare minimum for this assignment.\n",
    "\n",
    "Use 5 cross-fold and for scoring use \"roc_auc\" (this is the score that will be referenced when identifying the best parameters).\n",
    "\n",
    "This run took 6.5 minutes for your TA."
   ]
  },
  {
   "cell_type": "code",
   "execution_count": 23,
   "id": "76695f52",
   "metadata": {},
   "outputs": [
    {
     "name": "stdout",
     "output_type": "stream",
     "text": [
      "Fitting 5 folds for each of 24 candidates, totalling 120 fits\n",
      "[CV] END ..learning_rate=0.05, max_depth=1, n_estimators=100; total time=   1.8s\n",
      "[CV] END ..learning_rate=0.05, max_depth=1, n_estimators=100; total time=   1.4s\n",
      "[CV] END ..learning_rate=0.05, max_depth=1, n_estimators=100; total time=   1.6s\n",
      "[CV] END ..learning_rate=0.05, max_depth=1, n_estimators=100; total time=   2.2s\n",
      "[CV] END ..learning_rate=0.05, max_depth=1, n_estimators=100; total time=   1.9s\n",
      "[CV] END ..learning_rate=0.05, max_depth=1, n_estimators=200; total time=   3.3s\n",
      "[CV] END ..learning_rate=0.05, max_depth=1, n_estimators=200; total time=   3.8s\n",
      "[CV] END ..learning_rate=0.05, max_depth=1, n_estimators=200; total time=   3.4s\n",
      "[CV] END ..learning_rate=0.05, max_depth=1, n_estimators=200; total time=   2.9s\n",
      "[CV] END ..learning_rate=0.05, max_depth=1, n_estimators=200; total time=   2.8s\n",
      "[CV] END ..learning_rate=0.05, max_depth=1, n_estimators=300; total time=   4.2s\n",
      "[CV] END ..learning_rate=0.05, max_depth=1, n_estimators=300; total time=   4.0s\n",
      "[CV] END ..learning_rate=0.05, max_depth=1, n_estimators=300; total time=   4.3s\n",
      "[CV] END ..learning_rate=0.05, max_depth=1, n_estimators=300; total time=   4.5s\n",
      "[CV] END ..learning_rate=0.05, max_depth=1, n_estimators=300; total time=   4.1s\n",
      "[CV] END ..learning_rate=0.05, max_depth=1, n_estimators=400; total time=   5.5s\n",
      "[CV] END ..learning_rate=0.05, max_depth=1, n_estimators=400; total time=   5.5s\n",
      "[CV] END ..learning_rate=0.05, max_depth=1, n_estimators=400; total time=   5.8s\n",
      "[CV] END ..learning_rate=0.05, max_depth=1, n_estimators=400; total time=   5.8s\n",
      "[CV] END ..learning_rate=0.05, max_depth=1, n_estimators=400; total time=   7.9s\n",
      "[CV] END ..learning_rate=0.05, max_depth=2, n_estimators=100; total time=   3.3s\n",
      "[CV] END ..learning_rate=0.05, max_depth=2, n_estimators=100; total time=   5.0s\n",
      "[CV] END ..learning_rate=0.05, max_depth=2, n_estimators=100; total time=   2.9s\n",
      "[CV] END ..learning_rate=0.05, max_depth=2, n_estimators=100; total time=   3.0s\n",
      "[CV] END ..learning_rate=0.05, max_depth=2, n_estimators=100; total time=   4.0s\n",
      "[CV] END ..learning_rate=0.05, max_depth=2, n_estimators=200; total time=  12.7s\n",
      "[CV] END ..learning_rate=0.05, max_depth=2, n_estimators=200; total time=  12.8s\n",
      "[CV] END ..learning_rate=0.05, max_depth=2, n_estimators=200; total time=   7.9s\n",
      "[CV] END ..learning_rate=0.05, max_depth=2, n_estimators=200; total time=   8.5s\n",
      "[CV] END ..learning_rate=0.05, max_depth=2, n_estimators=200; total time=   7.2s\n",
      "[CV] END ..learning_rate=0.05, max_depth=2, n_estimators=300; total time=  11.2s\n",
      "[CV] END ..learning_rate=0.05, max_depth=2, n_estimators=300; total time=  10.8s\n",
      "[CV] END ..learning_rate=0.05, max_depth=2, n_estimators=300; total time=   8.7s\n",
      "[CV] END ..learning_rate=0.05, max_depth=2, n_estimators=300; total time=   8.4s\n",
      "[CV] END ..learning_rate=0.05, max_depth=2, n_estimators=300; total time=   7.7s\n",
      "[CV] END ..learning_rate=0.05, max_depth=2, n_estimators=400; total time=   9.7s\n",
      "[CV] END ..learning_rate=0.05, max_depth=2, n_estimators=400; total time=  11.0s\n",
      "[CV] END ..learning_rate=0.05, max_depth=2, n_estimators=400; total time=  11.4s\n",
      "[CV] END ..learning_rate=0.05, max_depth=2, n_estimators=400; total time=  18.0s\n",
      "[CV] END ..learning_rate=0.05, max_depth=2, n_estimators=400; total time=  14.4s\n",
      "[CV] END ...learning_rate=0.1, max_depth=1, n_estimators=100; total time=   3.0s\n",
      "[CV] END ...learning_rate=0.1, max_depth=1, n_estimators=100; total time=   2.8s\n",
      "[CV] END ...learning_rate=0.1, max_depth=1, n_estimators=100; total time=   1.9s\n",
      "[CV] END ...learning_rate=0.1, max_depth=1, n_estimators=100; total time=   1.8s\n",
      "[CV] END ...learning_rate=0.1, max_depth=1, n_estimators=100; total time=   2.0s\n",
      "[CV] END ...learning_rate=0.1, max_depth=1, n_estimators=200; total time=   3.7s\n",
      "[CV] END ...learning_rate=0.1, max_depth=1, n_estimators=200; total time=   4.2s\n",
      "[CV] END ...learning_rate=0.1, max_depth=1, n_estimators=200; total time=   4.4s\n",
      "[CV] END ...learning_rate=0.1, max_depth=1, n_estimators=200; total time=   4.3s\n",
      "[CV] END ...learning_rate=0.1, max_depth=1, n_estimators=200; total time=   3.0s\n",
      "[CV] END ...learning_rate=0.1, max_depth=1, n_estimators=300; total time=   4.2s\n",
      "[CV] END ...learning_rate=0.1, max_depth=1, n_estimators=300; total time=   4.4s\n",
      "[CV] END ...learning_rate=0.1, max_depth=1, n_estimators=300; total time=   4.3s\n",
      "[CV] END ...learning_rate=0.1, max_depth=1, n_estimators=300; total time=   4.8s\n",
      "[CV] END ...learning_rate=0.1, max_depth=1, n_estimators=300; total time=   4.5s\n",
      "[CV] END ...learning_rate=0.1, max_depth=1, n_estimators=400; total time=   5.7s\n",
      "[CV] END ...learning_rate=0.1, max_depth=1, n_estimators=400; total time=   7.2s\n",
      "[CV] END ...learning_rate=0.1, max_depth=1, n_estimators=400; total time=   8.0s\n",
      "[CV] END ...learning_rate=0.1, max_depth=1, n_estimators=400; total time=   6.5s\n",
      "[CV] END ...learning_rate=0.1, max_depth=1, n_estimators=400; total time=   6.8s\n",
      "[CV] END ...learning_rate=0.1, max_depth=2, n_estimators=100; total time=   2.7s\n",
      "[CV] END ...learning_rate=0.1, max_depth=2, n_estimators=100; total time=   2.6s\n",
      "[CV] END ...learning_rate=0.1, max_depth=2, n_estimators=100; total time=   2.6s\n",
      "[CV] END ...learning_rate=0.1, max_depth=2, n_estimators=100; total time=   2.5s\n",
      "[CV] END ...learning_rate=0.1, max_depth=2, n_estimators=100; total time=   2.6s\n",
      "[CV] END ...learning_rate=0.1, max_depth=2, n_estimators=200; total time=   5.0s\n",
      "[CV] END ...learning_rate=0.1, max_depth=2, n_estimators=200; total time=   5.2s\n",
      "[CV] END ...learning_rate=0.1, max_depth=2, n_estimators=200; total time=   5.0s\n",
      "[CV] END ...learning_rate=0.1, max_depth=2, n_estimators=200; total time=   6.2s\n",
      "[CV] END ...learning_rate=0.1, max_depth=2, n_estimators=200; total time=   8.5s\n",
      "[CV] END ...learning_rate=0.1, max_depth=2, n_estimators=300; total time=   9.6s\n",
      "[CV] END ...learning_rate=0.1, max_depth=2, n_estimators=300; total time=  11.2s\n",
      "[CV] END ...learning_rate=0.1, max_depth=2, n_estimators=300; total time=   8.1s\n",
      "[CV] END ...learning_rate=0.1, max_depth=2, n_estimators=300; total time=   8.0s\n",
      "[CV] END ...learning_rate=0.1, max_depth=2, n_estimators=300; total time=   8.7s\n",
      "[CV] END ...learning_rate=0.1, max_depth=2, n_estimators=400; total time=  38.1s\n",
      "[CV] END ...learning_rate=0.1, max_depth=2, n_estimators=400; total time=  44.7s\n",
      "[CV] END ...learning_rate=0.1, max_depth=2, n_estimators=400; total time=  41.4s\n",
      "[CV] END ...learning_rate=0.1, max_depth=2, n_estimators=400; total time=  33.6s\n",
      "[CV] END ...learning_rate=0.1, max_depth=2, n_estimators=400; total time=  18.9s\n",
      "[CV] END ...learning_rate=0.2, max_depth=1, n_estimators=100; total time=   1.8s\n",
      "[CV] END ...learning_rate=0.2, max_depth=1, n_estimators=100; total time=   1.6s\n",
      "[CV] END ...learning_rate=0.2, max_depth=1, n_estimators=100; total time=   1.5s\n",
      "[CV] END ...learning_rate=0.2, max_depth=1, n_estimators=100; total time=   2.1s\n",
      "[CV] END ...learning_rate=0.2, max_depth=1, n_estimators=100; total time=   1.7s\n",
      "[CV] END ...learning_rate=0.2, max_depth=1, n_estimators=200; total time=   7.1s\n",
      "[CV] END ...learning_rate=0.2, max_depth=1, n_estimators=200; total time=   4.8s\n",
      "[CV] END ...learning_rate=0.2, max_depth=1, n_estimators=200; total time=   5.4s\n",
      "[CV] END ...learning_rate=0.2, max_depth=1, n_estimators=200; total time=  12.4s\n",
      "[CV] END ...learning_rate=0.2, max_depth=1, n_estimators=200; total time=   3.8s\n",
      "[CV] END ...learning_rate=0.2, max_depth=1, n_estimators=300; total time=   4.8s\n",
      "[CV] END ...learning_rate=0.2, max_depth=1, n_estimators=300; total time=   6.0s\n",
      "[CV] END ...learning_rate=0.2, max_depth=1, n_estimators=300; total time=   5.0s\n",
      "[CV] END ...learning_rate=0.2, max_depth=1, n_estimators=300; total time=   6.4s\n",
      "[CV] END ...learning_rate=0.2, max_depth=1, n_estimators=300; total time=   7.5s\n",
      "[CV] END ...learning_rate=0.2, max_depth=1, n_estimators=400; total time=   6.1s\n",
      "[CV] END ...learning_rate=0.2, max_depth=1, n_estimators=400; total time=   5.6s\n",
      "[CV] END ...learning_rate=0.2, max_depth=1, n_estimators=400; total time=   5.6s\n",
      "[CV] END ...learning_rate=0.2, max_depth=1, n_estimators=400; total time=   5.9s\n",
      "[CV] END ...learning_rate=0.2, max_depth=1, n_estimators=400; total time=   6.1s\n",
      "[CV] END ...learning_rate=0.2, max_depth=2, n_estimators=100; total time=   2.6s\n"
     ]
    },
    {
     "name": "stdout",
     "output_type": "stream",
     "text": [
      "[CV] END ...learning_rate=0.2, max_depth=2, n_estimators=100; total time=   3.0s\n",
      "[CV] END ...learning_rate=0.2, max_depth=2, n_estimators=100; total time=   2.6s\n",
      "[CV] END ...learning_rate=0.2, max_depth=2, n_estimators=100; total time=   2.5s\n",
      "[CV] END ...learning_rate=0.2, max_depth=2, n_estimators=100; total time=   2.8s\n",
      "[CV] END ...learning_rate=0.2, max_depth=2, n_estimators=200; total time=   5.3s\n",
      "[CV] END ...learning_rate=0.2, max_depth=2, n_estimators=200; total time=   6.8s\n",
      "[CV] END ...learning_rate=0.2, max_depth=2, n_estimators=200; total time=   8.1s\n",
      "[CV] END ...learning_rate=0.2, max_depth=2, n_estimators=200; total time=   7.2s\n",
      "[CV] END ...learning_rate=0.2, max_depth=2, n_estimators=200; total time=   5.9s\n",
      "[CV] END ...learning_rate=0.2, max_depth=2, n_estimators=300; total time=  13.5s\n",
      "[CV] END ...learning_rate=0.2, max_depth=2, n_estimators=300; total time=   9.9s\n",
      "[CV] END ...learning_rate=0.2, max_depth=2, n_estimators=300; total time=   8.0s\n",
      "[CV] END ...learning_rate=0.2, max_depth=2, n_estimators=300; total time=   7.4s\n",
      "[CV] END ...learning_rate=0.2, max_depth=2, n_estimators=300; total time=   7.8s\n",
      "[CV] END ...learning_rate=0.2, max_depth=2, n_estimators=400; total time=  10.9s\n",
      "[CV] END ...learning_rate=0.2, max_depth=2, n_estimators=400; total time=  10.5s\n",
      "[CV] END ...learning_rate=0.2, max_depth=2, n_estimators=400; total time=   9.8s\n",
      "[CV] END ...learning_rate=0.2, max_depth=2, n_estimators=400; total time=  10.0s\n",
      "[CV] END ...learning_rate=0.2, max_depth=2, n_estimators=400; total time=  11.4s\n",
      "Best parameters: {'learning_rate': 0.2, 'max_depth': 2, 'n_estimators': 400}\n",
      "Best ROC AUC score: 0.9283614212792506\n"
     ]
    }
   ],
   "source": [
    "from sklearn.ensemble import GradientBoostingClassifier\n",
    "from sklearn.model_selection import GridSearchCV\n",
    "\n",
    "# Initialize the GradientBoostingClassifier\n",
    "gbc = GradientBoostingClassifier(random_state=42)\n",
    "\n",
    "# Define the parameter grid\n",
    "param_grid = {\n",
    "    'n_estimators': [100, 200, 300, 400],\n",
    "    'learning_rate': [0.05, 0.1, 0.2],  # Example rates; feel free to adjust\n",
    "    'max_depth': [1, 2]\n",
    "}\n",
    "\n",
    "# Initialize GridSearchCV\n",
    "grid_search_gbc = GridSearchCV(gbc, param_grid, cv=5, scoring='roc_auc', verbose=2)\n",
    "grid_search_gbc.fit(X_train, y_train)  # Fit GridSearchCV to the training data\n",
    "\n",
    "# Output the best parameters and the best score\n",
    "print(\"Best parameters:\", grid_search_gbc.best_params_)\n",
    "print(\"Best ROC AUC score:\", grid_search_gbc.best_score_)\n",
    "\n",
    "# Get the best estimator\n",
    "best_gbc = grid_search_gbc.best_estimator_\n"
   ]
  },
  {
   "cell_type": "markdown",
   "id": "3b42817b",
   "metadata": {},
   "source": [
    "b) Use the best estimator from GridSearchCV to predict on test data. Use the .predict_proba() and the .predict() methods to get predicted probabilities as well as predicted classes.\n",
    "\n",
    "c) Calculate the confusion matrix and classification report (both are in sklearn.metrics).\n",
    "\n"
   ]
  },
  {
   "cell_type": "code",
   "execution_count": 24,
   "id": "01838b31",
   "metadata": {},
   "outputs": [],
   "source": [
    "# Predict the classes and probabilities for the test data\n",
    "y_pred_gbc = best_gbc.predict(X_test)\n",
    "y_proba_gbc = best_gbc.predict_proba(X_test)[:, 1]\n"
   ]
  },
  {
   "cell_type": "code",
   "execution_count": 25,
   "id": "f0edb346",
   "metadata": {},
   "outputs": [
    {
     "name": "stdout",
     "output_type": "stream",
     "text": [
      "Confusion Matrix:\n",
      " [[7030  425]\n",
      " [ 814 1500]]\n",
      "Classification Report:\n",
      "               precision    recall  f1-score   support\n",
      "\n",
      "           0       0.90      0.94      0.92      7455\n",
      "           1       0.78      0.65      0.71      2314\n",
      "\n",
      "    accuracy                           0.87      9769\n",
      "   macro avg       0.84      0.80      0.81      9769\n",
      "weighted avg       0.87      0.87      0.87      9769\n",
      "\n"
     ]
    }
   ],
   "source": [
    "from sklearn.metrics import confusion_matrix, classification_report\n",
    "\n",
    "# Calculate the confusion matrix and print it\n",
    "conf_matrix_gbc = confusion_matrix(y_test, y_pred_gbc)\n",
    "print(\"Confusion Matrix:\\n\", conf_matrix_gbc)\n",
    "\n",
    "# Calculate and print the classification report\n",
    "class_report_gbc = classification_report(y_test, y_pred_gbc)\n",
    "print(\"Classification Report:\\n\", class_report_gbc)\n"
   ]
  },
  {
   "cell_type": "markdown",
   "id": "438a2e83",
   "metadata": {},
   "source": [
    "d) Calculate the AUC score\n"
   ]
  },
  {
   "cell_type": "code",
   "execution_count": 26,
   "id": "8af032a1",
   "metadata": {},
   "outputs": [
    {
     "name": "stdout",
     "output_type": "stream",
     "text": [
      "AUC Score: 0.9259131568436837\n"
     ]
    }
   ],
   "source": [
    "from sklearn.metrics import roc_auc_score\n",
    "\n",
    "# Calculate the AUC score\n",
    "auc_score_gbc = roc_auc_score(y_test, y_proba_gbc)\n",
    "print(\"AUC Score:\", auc_score_gbc)\n"
   ]
  },
  {
   "cell_type": "markdown",
   "id": "2e9994ca",
   "metadata": {},
   "source": [
    "\n",
    "e) Identify the top 5 features. Feel free to print a list OR to make a plot.\n",
    "\n",
    "f) Using the model from part (b), predict for the train data. Look at the classification report for the train data - is there overfitting for the best estimator?"
   ]
  },
  {
   "cell_type": "code",
   "execution_count": 28,
   "id": "21f1775c",
   "metadata": {},
   "outputs": [
    {
     "data": {
      "image/png": "[encoded data removed]",
      "text/plain": [
       "<Figure size 1000x600 with 1 Axes>"
      ]
     },
     "metadata": {},
     "output_type": "display_data"
    },
    {
     "name": "stdout",
     "output_type": "stream",
     "text": [
      "Top 5 Features:\n",
      "capital_gain: 0.3300\n",
      "capital_loss: 0.2900\n",
      "age: 0.1075\n",
      "hours_per_week: 0.0575\n",
      "education_num: 0.0100\n"
     ]
    }
   ],
   "source": [
    "import numpy as np\n",
    "import matplotlib.pyplot as plt\n",
    "\n",
    "# Get feature importances and sort them\n",
    "feature_importances_gbc = best_gbc.feature_importances_\n",
    "\n",
    "# Get the indices of the top 5 features\n",
    "indices = np.argsort(feature_importances)[-5:][::-1]  # Reverse to make the plot more intuitive\n",
    "\n",
    "# Create a plot of feature importances\n",
    "plt.figure(figsize=(10, 6))\n",
    "plt.title('Top 5 Feature Importances')\n",
    "plt.barh(np.arange(len(indices)), feature_importances[indices], color='b', align='center')\n",
    "plt.yticks(np.arange(len(indices)), [X_encoded.columns[i] for i in indices])\n",
    "plt.xlabel('Relative Importance')\n",
    "plt.gca().invert_yaxis()  # Invert axis to have the highest importance on top\n",
    "plt.show()\n",
    "\n",
    "# Alternatively, print them as a list\n",
    "print(\"Top 5 Features:\")\n",
    "for i in indices:\n",
    "    print(f\"{X_encoded.columns[i]}: {feature_importances[i]:.4f}\")\n"
   ]
  },
  {
   "cell_type": "code",
   "execution_count": 29,
   "id": "31d80212",
   "metadata": {},
   "outputs": [
    {
     "name": "stdout",
     "output_type": "stream",
     "text": [
      "Classification Report for Training Data:\n",
      "               precision    recall  f1-score   support\n",
      "\n",
      "           0       0.90      0.95      0.92     17265\n",
      "           1       0.81      0.67      0.73      5527\n",
      "\n",
      "    accuracy                           0.88     22792\n",
      "   macro avg       0.85      0.81      0.83     22792\n",
      "weighted avg       0.88      0.88      0.88     22792\n",
      "\n"
     ]
    }
   ],
   "source": [
    "# Predict the classes for the training data\n",
    "y_train_pred_gbc = best_gbc.predict(X_train)\n",
    "\n",
    "# Calculate and print the classification report for the training data\n",
    "train_class_report_gbc = classification_report(y_train, y_train_pred_gbc)\n",
    "print(\"Classification Report for Training Data:\\n\", train_class_report_gbc)\n"
   ]
  },
  {
   "cell_type": "code",
   "execution_count": null,
   "id": "05ee37b8",
   "metadata": {},
   "outputs": [],
   "source": []
  },
  {
   "cell_type": "markdown",
   "id": "ba0130e9",
   "metadata": {},
   "source": [
    "# 5. XGBoost - RandomizedSearchCV\n",
    "\n",
    "Repeat 4(a) - 4(f) with xgboost and RandomizedSearchCV.\n",
    "\n",
    "For 4a use the following parameters: \n",
    "\n",
    "n_estimators: 100-1000 in increments of 50  (i.e. 100,150,200,.....1000)\n",
    "learning_rate: 0.1 - 1.6 in increments of 0.1\n",
    "max_depth: 1, 2\n",
    "gamma: 0 - 5 in increments of 0.25\n",
    "Note: For parameters with increments please don't feel the need to type each value by hand. There are better ways to handle this. Post in discussion thread if you are struggling.\n",
    "\n",
    "For RandomizedSearchCV make sure to still use cv = 5 and for scoring use \"roc_auc\"."
   ]
  },
  {
   "cell_type": "code",
   "execution_count": 30,
   "id": "eed1524c",
   "metadata": {},
   "outputs": [
    {
     "name": "stdout",
     "output_type": "stream",
     "text": [
      "Requirement already satisfied: xgboost in /Users/colleenjung/anaconda3/lib/python3.11/site-packages (2.0.2)\r\n",
      "Requirement already satisfied: numpy in /Users/colleenjung/anaconda3/lib/python3.11/site-packages (from xgboost) (1.26.4)\r\n",
      "Requirement already satisfied: scipy in /Users/colleenjung/anaconda3/lib/python3.11/site-packages (from xgboost) (1.12.0)\r\n"
     ]
    }
   ],
   "source": [
    "# a) Setup XGBoost with RandomizedSearchCV\n",
    "!pip install xgboost\n"
   ]
  },
  {
   "cell_type": "code",
   "execution_count": 31,
   "id": "15545636",
   "metadata": {},
   "outputs": [
    {
     "name": "stdout",
     "output_type": "stream",
     "text": [
      "Fitting 5 folds for each of 100 candidates, totalling 500 fits\n",
      "[CV] END gamma=2.75, learning_rate=1.6, max_depth=1, n_estimators=700; total time=   3.0s\n",
      "[CV] END gamma=2.75, learning_rate=1.6, max_depth=1, n_estimators=700; total time=   3.0s\n",
      "[CV] END gamma=2.75, learning_rate=1.6, max_depth=1, n_estimators=700; total time=   1.8s\n",
      "[CV] END gamma=2.75, learning_rate=1.6, max_depth=1, n_estimators=700; total time=   1.8s\n",
      "[CV] END gamma=2.75, learning_rate=1.6, max_depth=1, n_estimators=700; total time=   1.8s\n",
      "[CV] END gamma=0.25, learning_rate=0.7000000000000001, max_depth=2, n_estimators=350; total time=   1.3s\n",
      "[CV] END gamma=0.25, learning_rate=0.7000000000000001, max_depth=2, n_estimators=350; total time=   1.2s\n",
      "[CV] END gamma=0.25, learning_rate=0.7000000000000001, max_depth=2, n_estimators=350; total time=   1.4s\n",
      "[CV] END gamma=0.25, learning_rate=0.7000000000000001, max_depth=2, n_estimators=350; total time=   2.6s\n",
      "[CV] END gamma=0.25, learning_rate=0.7000000000000001, max_depth=2, n_estimators=350; total time=   1.3s\n",
      "[CV] END gamma=2.0, learning_rate=1.4000000000000001, max_depth=2, n_estimators=750; total time=   3.2s\n",
      "[CV] END gamma=2.0, learning_rate=1.4000000000000001, max_depth=2, n_estimators=750; total time=   1.9s\n",
      "[CV] END gamma=2.0, learning_rate=1.4000000000000001, max_depth=2, n_estimators=750; total time=   3.2s\n",
      "[CV] END gamma=2.0, learning_rate=1.4000000000000001, max_depth=2, n_estimators=750; total time=   2.0s\n",
      "[CV] END gamma=2.0, learning_rate=1.4000000000000001, max_depth=2, n_estimators=750; total time=   1.7s\n",
      "[CV] END gamma=2.0, learning_rate=0.9, max_depth=2, n_estimators=300; total time=   1.0s\n",
      "[CV] END gamma=2.0, learning_rate=0.9, max_depth=2, n_estimators=300; total time=   0.9s\n",
      "[CV] END gamma=2.0, learning_rate=0.9, max_depth=2, n_estimators=300; total time=   1.0s\n",
      "[CV] END gamma=2.0, learning_rate=0.9, max_depth=2, n_estimators=300; total time=   1.2s\n",
      "[CV] END gamma=2.0, learning_rate=0.9, max_depth=2, n_estimators=300; total time=   1.6s\n",
      "[CV] END gamma=4.75, learning_rate=1.1, max_depth=2, n_estimators=750; total time=   1.9s\n",
      "[CV] END gamma=4.75, learning_rate=1.1, max_depth=2, n_estimators=750; total time=   1.8s\n",
      "[CV] END gamma=4.75, learning_rate=1.1, max_depth=2, n_estimators=750; total time=   1.7s\n",
      "[CV] END gamma=4.75, learning_rate=1.1, max_depth=2, n_estimators=750; total time=   1.7s\n",
      "[CV] END gamma=4.75, learning_rate=1.1, max_depth=2, n_estimators=750; total time=   1.7s\n",
      "[CV] END gamma=4.5, learning_rate=0.9, max_depth=2, n_estimators=950; total time=   2.0s\n",
      "[CV] END gamma=4.5, learning_rate=0.9, max_depth=2, n_estimators=950; total time=   2.0s\n",
      "[CV] END gamma=4.5, learning_rate=0.9, max_depth=2, n_estimators=950; total time=   2.0s\n",
      "[CV] END gamma=4.5, learning_rate=0.9, max_depth=2, n_estimators=950; total time=   2.0s\n",
      "[CV] END gamma=4.5, learning_rate=0.9, max_depth=2, n_estimators=950; total time=   3.2s\n",
      "[CV] END gamma=2.25, learning_rate=0.7000000000000001, max_depth=2, n_estimators=850; total time=   2.6s\n",
      "[CV] END gamma=2.25, learning_rate=0.7000000000000001, max_depth=2, n_estimators=850; total time=   2.6s\n",
      "[CV] END gamma=2.25, learning_rate=0.7000000000000001, max_depth=2, n_estimators=850; total time=   2.1s\n",
      "[CV] END gamma=2.25, learning_rate=0.7000000000000001, max_depth=2, n_estimators=850; total time=   3.7s\n",
      "[CV] END gamma=2.25, learning_rate=0.7000000000000001, max_depth=2, n_estimators=850; total time=   2.6s\n",
      "[CV] END gamma=2.5, learning_rate=0.5, max_depth=2, n_estimators=800; total time=   3.1s\n",
      "[CV] END gamma=2.5, learning_rate=0.5, max_depth=2, n_estimators=800; total time=   5.0s\n",
      "[CV] END gamma=2.5, learning_rate=0.5, max_depth=2, n_estimators=800; total time=   3.2s\n",
      "[CV] END gamma=2.5, learning_rate=0.5, max_depth=2, n_estimators=800; total time=   3.4s\n",
      "[CV] END gamma=2.5, learning_rate=0.5, max_depth=2, n_estimators=800; total time=   3.7s\n",
      "[CV] END gamma=0.0, learning_rate=1.3000000000000003, max_depth=1, n_estimators=600; total time=   2.6s\n",
      "[CV] END gamma=0.0, learning_rate=1.3000000000000003, max_depth=1, n_estimators=600; total time=   2.4s\n",
      "[CV] END gamma=0.0, learning_rate=1.3000000000000003, max_depth=1, n_estimators=600; total time=   4.0s\n",
      "[CV] END gamma=0.0, learning_rate=1.3000000000000003, max_depth=1, n_estimators=600; total time=   5.1s\n",
      "[CV] END gamma=0.0, learning_rate=1.3000000000000003, max_depth=1, n_estimators=600; total time=   2.9s\n",
      "[CV] END gamma=1.75, learning_rate=0.5, max_depth=1, n_estimators=1000; total time=   4.3s\n",
      "[CV] END gamma=1.75, learning_rate=0.5, max_depth=1, n_estimators=1000; total time=   3.8s\n",
      "[CV] END gamma=1.75, learning_rate=0.5, max_depth=1, n_estimators=1000; total time=   2.7s\n",
      "[CV] END gamma=1.75, learning_rate=0.5, max_depth=1, n_estimators=1000; total time=   2.4s\n",
      "[CV] END gamma=1.75, learning_rate=0.5, max_depth=1, n_estimators=1000; total time=   2.4s\n",
      "[CV] END gamma=2.25, learning_rate=0.30000000000000004, max_depth=2, n_estimators=650; total time=   1.6s\n",
      "[CV] END gamma=2.25, learning_rate=0.30000000000000004, max_depth=2, n_estimators=650; total time=   1.8s\n",
      "[CV] END gamma=2.25, learning_rate=0.30000000000000004, max_depth=2, n_estimators=650; total time=   1.7s\n",
      "[CV] END gamma=2.25, learning_rate=0.30000000000000004, max_depth=2, n_estimators=650; total time=   1.6s\n",
      "[CV] END gamma=2.25, learning_rate=0.30000000000000004, max_depth=2, n_estimators=650; total time=   1.9s\n",
      "[CV] END gamma=4.75, learning_rate=0.30000000000000004, max_depth=1, n_estimators=500; total time=   1.5s\n",
      "[CV] END gamma=4.75, learning_rate=0.30000000000000004, max_depth=1, n_estimators=500; total time=   1.7s\n",
      "[CV] END gamma=4.75, learning_rate=0.30000000000000004, max_depth=1, n_estimators=500; total time=   1.9s\n",
      "[CV] END gamma=4.75, learning_rate=0.30000000000000004, max_depth=1, n_estimators=500; total time=   2.1s\n",
      "[CV] END gamma=4.75, learning_rate=0.30000000000000004, max_depth=1, n_estimators=500; total time=   1.9s\n",
      "[CV] END gamma=4.5, learning_rate=1.2000000000000002, max_depth=1, n_estimators=150; total time=   0.8s\n",
      "[CV] END gamma=4.5, learning_rate=1.2000000000000002, max_depth=1, n_estimators=150; total time=   1.0s\n",
      "[CV] END gamma=4.5, learning_rate=1.2000000000000002, max_depth=1, n_estimators=150; total time=   1.0s\n",
      "[CV] END gamma=4.5, learning_rate=1.2000000000000002, max_depth=1, n_estimators=150; total time=   1.0s\n",
      "[CV] END gamma=4.5, learning_rate=1.2000000000000002, max_depth=1, n_estimators=150; total time=   0.9s\n",
      "[CV] END gamma=4.5, learning_rate=0.5, max_depth=1, n_estimators=850; total time=   2.9s\n",
      "[CV] END gamma=4.5, learning_rate=0.5, max_depth=1, n_estimators=850; total time=   2.9s\n",
      "[CV] END gamma=4.5, learning_rate=0.5, max_depth=1, n_estimators=850; total time=   2.5s\n",
      "[CV] END gamma=4.5, learning_rate=0.5, max_depth=1, n_estimators=850; total time=   2.3s\n",
      "[CV] END gamma=4.5, learning_rate=0.5, max_depth=1, n_estimators=850; total time=   2.1s\n",
      "[CV] END gamma=3.25, learning_rate=1.2000000000000002, max_depth=1, n_estimators=100; total time=   0.7s\n",
      "[CV] END gamma=3.25, learning_rate=1.2000000000000002, max_depth=1, n_estimators=100; total time=   0.7s\n",
      "[CV] END gamma=3.25, learning_rate=1.2000000000000002, max_depth=1, n_estimators=100; total time=   0.6s\n",
      "[CV] END gamma=3.25, learning_rate=1.2000000000000002, max_depth=1, n_estimators=100; total time=   0.6s\n",
      "[CV] END gamma=3.25, learning_rate=1.2000000000000002, max_depth=1, n_estimators=100; total time=   0.8s\n",
      "[CV] END gamma=0.5, learning_rate=1.3000000000000003, max_depth=1, n_estimators=750; total time=   2.6s\n",
      "[CV] END gamma=0.5, learning_rate=1.3000000000000003, max_depth=1, n_estimators=750; total time=   2.9s\n",
      "[CV] END gamma=0.5, learning_rate=1.3000000000000003, max_depth=1, n_estimators=750; total time=   2.0s\n",
      "[CV] END gamma=0.5, learning_rate=1.3000000000000003, max_depth=1, n_estimators=750; total time=   2.1s\n",
      "[CV] END gamma=0.5, learning_rate=1.3000000000000003, max_depth=1, n_estimators=750; total time=   1.7s\n",
      "[CV] END gamma=0.25, learning_rate=0.5, max_depth=1, n_estimators=550; total time=   1.4s\n",
      "[CV] END gamma=0.25, learning_rate=0.5, max_depth=1, n_estimators=550; total time=   1.4s\n",
      "[CV] END gamma=0.25, learning_rate=0.5, max_depth=1, n_estimators=550; total time=   1.4s\n",
      "[CV] END gamma=0.25, learning_rate=0.5, max_depth=1, n_estimators=550; total time=   1.4s\n"
     ]
    },
    {
     "name": "stdout",
     "output_type": "stream",
     "text": [
      "[CV] END gamma=0.25, learning_rate=0.5, max_depth=1, n_estimators=550; total time=   1.4s\n",
      "[CV] END gamma=4.25, learning_rate=0.7000000000000001, max_depth=2, n_estimators=100; total time=   0.7s\n",
      "[CV] END gamma=4.25, learning_rate=0.7000000000000001, max_depth=2, n_estimators=100; total time=   0.8s\n",
      "[CV] END gamma=4.25, learning_rate=0.7000000000000001, max_depth=2, n_estimators=100; total time=   1.0s\n",
      "[CV] END gamma=4.25, learning_rate=0.7000000000000001, max_depth=2, n_estimators=100; total time=   0.7s\n",
      "[CV] END gamma=4.25, learning_rate=0.7000000000000001, max_depth=2, n_estimators=100; total time=   0.7s\n",
      "[CV] END gamma=2.75, learning_rate=0.7000000000000001, max_depth=2, n_estimators=800; total time=   2.4s\n",
      "[CV] END gamma=2.75, learning_rate=0.7000000000000001, max_depth=2, n_estimators=800; total time=   1.9s\n",
      "[CV] END gamma=2.75, learning_rate=0.7000000000000001, max_depth=2, n_estimators=800; total time=   1.8s\n",
      "[CV] END gamma=2.75, learning_rate=0.7000000000000001, max_depth=2, n_estimators=800; total time=   2.0s\n",
      "[CV] END gamma=2.75, learning_rate=0.7000000000000001, max_depth=2, n_estimators=800; total time=   2.0s\n",
      "[CV] END gamma=1.0, learning_rate=0.1, max_depth=1, n_estimators=150; total time=   1.1s\n",
      "[CV] END gamma=1.0, learning_rate=0.1, max_depth=1, n_estimators=150; total time=   0.7s\n",
      "[CV] END gamma=1.0, learning_rate=0.1, max_depth=1, n_estimators=150; total time=   0.7s\n",
      "[CV] END gamma=1.0, learning_rate=0.1, max_depth=1, n_estimators=150; total time=   0.7s\n",
      "[CV] END gamma=1.0, learning_rate=0.1, max_depth=1, n_estimators=150; total time=   0.7s\n",
      "[CV] END gamma=2.0, learning_rate=1.2000000000000002, max_depth=2, n_estimators=600; total time=   1.6s\n",
      "[CV] END gamma=2.0, learning_rate=1.2000000000000002, max_depth=2, n_estimators=600; total time=   2.7s\n",
      "[CV] END gamma=2.0, learning_rate=1.2000000000000002, max_depth=2, n_estimators=600; total time=   2.1s\n",
      "[CV] END gamma=2.0, learning_rate=1.2000000000000002, max_depth=2, n_estimators=600; total time=   1.5s\n",
      "[CV] END gamma=2.0, learning_rate=1.2000000000000002, max_depth=2, n_estimators=600; total time=   1.5s\n",
      "[CV] END gamma=2.0, learning_rate=0.5, max_depth=2, n_estimators=900; total time=   2.2s\n",
      "[CV] END gamma=2.0, learning_rate=0.5, max_depth=2, n_estimators=900; total time=   2.7s\n",
      "[CV] END gamma=2.0, learning_rate=0.5, max_depth=2, n_estimators=900; total time=   2.0s\n",
      "[CV] END gamma=2.0, learning_rate=0.5, max_depth=2, n_estimators=900; total time=   1.9s\n",
      "[CV] END gamma=2.0, learning_rate=0.5, max_depth=2, n_estimators=900; total time=   2.1s\n",
      "[CV] END gamma=2.5, learning_rate=0.9, max_depth=2, n_estimators=950; total time=   2.3s\n",
      "[CV] END gamma=2.5, learning_rate=0.9, max_depth=2, n_estimators=950; total time=   2.1s\n",
      "[CV] END gamma=2.5, learning_rate=0.9, max_depth=2, n_estimators=950; total time=   2.2s\n",
      "[CV] END gamma=2.5, learning_rate=0.9, max_depth=2, n_estimators=950; total time=   2.0s\n",
      "[CV] END gamma=2.5, learning_rate=0.9, max_depth=2, n_estimators=950; total time=   2.0s\n",
      "[CV] END gamma=0.25, learning_rate=1.6, max_depth=1, n_estimators=400; total time=   1.8s\n",
      "[CV] END gamma=0.25, learning_rate=1.6, max_depth=1, n_estimators=400; total time=   1.2s\n",
      "[CV] END gamma=0.25, learning_rate=1.6, max_depth=1, n_estimators=400; total time=   1.2s\n",
      "[CV] END gamma=0.25, learning_rate=1.6, max_depth=1, n_estimators=400; total time=   1.2s\n",
      "[CV] END gamma=0.25, learning_rate=1.6, max_depth=1, n_estimators=400; total time=   1.2s\n",
      "[CV] END gamma=1.75, learning_rate=0.8, max_depth=2, n_estimators=800; total time=   1.8s\n",
      "[CV] END gamma=1.75, learning_rate=0.8, max_depth=2, n_estimators=800; total time=   1.8s\n",
      "[CV] END gamma=1.75, learning_rate=0.8, max_depth=2, n_estimators=800; total time=   2.2s\n",
      "[CV] END gamma=1.75, learning_rate=0.8, max_depth=2, n_estimators=800; total time=   2.3s\n",
      "[CV] END gamma=1.75, learning_rate=0.8, max_depth=2, n_estimators=800; total time=   1.8s\n",
      "[CV] END gamma=1.25, learning_rate=1.0, max_depth=1, n_estimators=250; total time=   0.9s\n",
      "[CV] END gamma=1.25, learning_rate=1.0, max_depth=1, n_estimators=250; total time=   0.9s\n",
      "[CV] END gamma=1.25, learning_rate=1.0, max_depth=1, n_estimators=250; total time=   0.9s\n",
      "[CV] END gamma=1.25, learning_rate=1.0, max_depth=1, n_estimators=250; total time=   0.9s\n",
      "[CV] END gamma=1.25, learning_rate=1.0, max_depth=1, n_estimators=250; total time=   0.9s\n",
      "[CV] END gamma=5.0, learning_rate=0.4, max_depth=2, n_estimators=900; total time=   2.5s\n",
      "[CV] END gamma=5.0, learning_rate=0.4, max_depth=2, n_estimators=900; total time=   2.5s\n",
      "[CV] END gamma=5.0, learning_rate=0.4, max_depth=2, n_estimators=900; total time=   2.2s\n",
      "[CV] END gamma=5.0, learning_rate=0.4, max_depth=2, n_estimators=900; total time=   2.0s\n",
      "[CV] END gamma=5.0, learning_rate=0.4, max_depth=2, n_estimators=900; total time=   2.1s\n",
      "[CV] END gamma=2.5, learning_rate=0.9, max_depth=1, n_estimators=700; total time=   1.6s\n",
      "[CV] END gamma=2.5, learning_rate=0.9, max_depth=1, n_estimators=700; total time=   1.8s\n",
      "[CV] END gamma=2.5, learning_rate=0.9, max_depth=1, n_estimators=700; total time=   2.4s\n",
      "[CV] END gamma=2.5, learning_rate=0.9, max_depth=1, n_estimators=700; total time=   1.6s\n",
      "[CV] END gamma=2.5, learning_rate=0.9, max_depth=1, n_estimators=700; total time=   1.6s\n",
      "[CV] END gamma=4.5, learning_rate=0.5, max_depth=1, n_estimators=100; total time=   0.6s\n",
      "[CV] END gamma=4.5, learning_rate=0.5, max_depth=1, n_estimators=100; total time=   0.6s\n",
      "[CV] END gamma=4.5, learning_rate=0.5, max_depth=1, n_estimators=100; total time=   0.6s\n",
      "[CV] END gamma=4.5, learning_rate=0.5, max_depth=1, n_estimators=100; total time=   0.6s\n",
      "[CV] END gamma=4.5, learning_rate=0.5, max_depth=1, n_estimators=100; total time=   0.6s\n",
      "[CV] END gamma=3.5, learning_rate=0.5, max_depth=1, n_estimators=200; total time=   0.8s\n",
      "[CV] END gamma=3.5, learning_rate=0.5, max_depth=1, n_estimators=200; total time=   0.8s\n",
      "[CV] END gamma=3.5, learning_rate=0.5, max_depth=1, n_estimators=200; total time=   0.9s\n",
      "[CV] END gamma=3.5, learning_rate=0.5, max_depth=1, n_estimators=200; total time=   0.8s\n",
      "[CV] END gamma=3.5, learning_rate=0.5, max_depth=1, n_estimators=200; total time=   0.8s\n",
      "[CV] END gamma=3.75, learning_rate=0.5, max_depth=1, n_estimators=200; total time=   0.8s\n",
      "[CV] END gamma=3.75, learning_rate=0.5, max_depth=1, n_estimators=200; total time=   0.7s\n",
      "[CV] END gamma=3.75, learning_rate=0.5, max_depth=1, n_estimators=200; total time=   0.8s\n",
      "[CV] END gamma=3.75, learning_rate=0.5, max_depth=1, n_estimators=200; total time=   0.8s\n",
      "[CV] END gamma=3.75, learning_rate=0.5, max_depth=1, n_estimators=200; total time=   0.8s\n",
      "[CV] END gamma=1.0, learning_rate=0.4, max_depth=1, n_estimators=700; total time=   2.3s\n",
      "[CV] END gamma=1.0, learning_rate=0.4, max_depth=1, n_estimators=700; total time=   1.6s\n",
      "[CV] END gamma=1.0, learning_rate=0.4, max_depth=1, n_estimators=700; total time=   1.6s\n",
      "[CV] END gamma=1.0, learning_rate=0.4, max_depth=1, n_estimators=700; total time=   1.9s\n",
      "[CV] END gamma=1.0, learning_rate=0.4, max_depth=1, n_estimators=700; total time=   1.7s\n",
      "[CV] END gamma=3.0, learning_rate=1.5000000000000002, max_depth=2, n_estimators=200; total time=   1.3s\n",
      "[CV] END gamma=3.0, learning_rate=1.5000000000000002, max_depth=2, n_estimators=200; total time=   1.3s\n",
      "[CV] END gamma=3.0, learning_rate=1.5000000000000002, max_depth=2, n_estimators=200; total time=   0.9s\n",
      "[CV] END gamma=3.0, learning_rate=1.5000000000000002, max_depth=2, n_estimators=200; total time=   0.8s\n",
      "[CV] END gamma=3.0, learning_rate=1.5000000000000002, max_depth=2, n_estimators=200; total time=   0.9s\n",
      "[CV] END gamma=0.75, learning_rate=0.6, max_depth=2, n_estimators=800; total time=   1.7s\n",
      "[CV] END gamma=0.75, learning_rate=0.6, max_depth=2, n_estimators=800; total time=   1.8s\n",
      "[CV] END gamma=0.75, learning_rate=0.6, max_depth=2, n_estimators=800; total time=   1.8s\n",
      "[CV] END gamma=0.75, learning_rate=0.6, max_depth=2, n_estimators=800; total time=   1.8s\n",
      "[CV] END gamma=0.75, learning_rate=0.6, max_depth=2, n_estimators=800; total time=   1.8s\n",
      "[CV] END gamma=1.0, learning_rate=0.9, max_depth=1, n_estimators=650; total time=   1.9s\n",
      "[CV] END gamma=1.0, learning_rate=0.9, max_depth=1, n_estimators=650; total time=   1.7s\n",
      "[CV] END gamma=1.0, learning_rate=0.9, max_depth=1, n_estimators=650; total time=   1.6s\n"
     ]
    },
    {
     "name": "stdout",
     "output_type": "stream",
     "text": [
      "[CV] END gamma=1.0, learning_rate=0.9, max_depth=1, n_estimators=650; total time=   1.5s\n",
      "[CV] END gamma=1.0, learning_rate=0.9, max_depth=1, n_estimators=650; total time=   2.6s\n",
      "[CV] END gamma=3.75, learning_rate=0.2, max_depth=1, n_estimators=550; total time=   1.5s\n",
      "[CV] END gamma=3.75, learning_rate=0.2, max_depth=1, n_estimators=550; total time=   1.5s\n",
      "[CV] END gamma=3.75, learning_rate=0.2, max_depth=1, n_estimators=550; total time=   1.5s\n",
      "[CV] END gamma=3.75, learning_rate=0.2, max_depth=1, n_estimators=550; total time=   1.5s\n",
      "[CV] END gamma=3.75, learning_rate=0.2, max_depth=1, n_estimators=550; total time=   1.5s\n",
      "[CV] END gamma=4.0, learning_rate=0.8, max_depth=1, n_estimators=300; total time=   1.4s\n",
      "[CV] END gamma=4.0, learning_rate=0.8, max_depth=1, n_estimators=300; total time=   1.2s\n",
      "[CV] END gamma=4.0, learning_rate=0.8, max_depth=1, n_estimators=300; total time=   0.9s\n",
      "[CV] END gamma=4.0, learning_rate=0.8, max_depth=1, n_estimators=300; total time=   0.9s\n",
      "[CV] END gamma=4.0, learning_rate=0.8, max_depth=1, n_estimators=300; total time=   0.9s\n",
      "[CV] END gamma=0.0, learning_rate=0.5, max_depth=2, n_estimators=1000; total time=   2.4s\n",
      "[CV] END gamma=0.0, learning_rate=0.5, max_depth=2, n_estimators=1000; total time=   2.5s\n",
      "[CV] END gamma=0.0, learning_rate=0.5, max_depth=2, n_estimators=1000; total time=   2.7s\n",
      "[CV] END gamma=0.0, learning_rate=0.5, max_depth=2, n_estimators=1000; total time=   2.5s\n",
      "[CV] END gamma=0.0, learning_rate=0.5, max_depth=2, n_estimators=1000; total time=   2.5s\n",
      "[CV] END gamma=1.0, learning_rate=0.8, max_depth=2, n_estimators=950; total time=   2.0s\n",
      "[CV] END gamma=1.0, learning_rate=0.8, max_depth=2, n_estimators=950; total time=   2.5s\n",
      "[CV] END gamma=1.0, learning_rate=0.8, max_depth=2, n_estimators=950; total time=   2.2s\n",
      "[CV] END gamma=1.0, learning_rate=0.8, max_depth=2, n_estimators=950; total time=   2.0s\n",
      "[CV] END gamma=1.0, learning_rate=0.8, max_depth=2, n_estimators=950; total time=   2.0s\n",
      "[CV] END gamma=1.0, learning_rate=1.6, max_depth=1, n_estimators=250; total time=   0.9s\n",
      "[CV] END gamma=1.0, learning_rate=1.6, max_depth=1, n_estimators=250; total time=   0.9s\n",
      "[CV] END gamma=1.0, learning_rate=1.6, max_depth=1, n_estimators=250; total time=   0.9s\n",
      "[CV] END gamma=1.0, learning_rate=1.6, max_depth=1, n_estimators=250; total time=   0.9s\n",
      "[CV] END gamma=1.0, learning_rate=1.6, max_depth=1, n_estimators=250; total time=   0.8s\n",
      "[CV] END gamma=1.75, learning_rate=1.1, max_depth=2, n_estimators=250; total time=   0.9s\n",
      "[CV] END gamma=1.75, learning_rate=1.1, max_depth=2, n_estimators=250; total time=   0.8s\n",
      "[CV] END gamma=1.75, learning_rate=1.1, max_depth=2, n_estimators=250; total time=   0.9s\n",
      "[CV] END gamma=1.75, learning_rate=1.1, max_depth=2, n_estimators=250; total time=   0.8s\n",
      "[CV] END gamma=1.75, learning_rate=1.1, max_depth=2, n_estimators=250; total time=   0.8s\n",
      "[CV] END gamma=0.75, learning_rate=0.2, max_depth=2, n_estimators=1000; total time=   2.1s\n",
      "[CV] END gamma=0.75, learning_rate=0.2, max_depth=2, n_estimators=1000; total time=   2.3s\n",
      "[CV] END gamma=0.75, learning_rate=0.2, max_depth=2, n_estimators=1000; total time=   2.7s\n",
      "[CV] END gamma=0.75, learning_rate=0.2, max_depth=2, n_estimators=1000; total time=   2.3s\n",
      "[CV] END gamma=0.75, learning_rate=0.2, max_depth=2, n_estimators=1000; total time=   2.8s\n",
      "[CV] END gamma=3.0, learning_rate=1.2000000000000002, max_depth=2, n_estimators=150; total time=   0.7s\n",
      "[CV] END gamma=3.0, learning_rate=1.2000000000000002, max_depth=2, n_estimators=150; total time=   0.8s\n",
      "[CV] END gamma=3.0, learning_rate=1.2000000000000002, max_depth=2, n_estimators=150; total time=   1.0s\n",
      "[CV] END gamma=3.0, learning_rate=1.2000000000000002, max_depth=2, n_estimators=150; total time=   0.9s\n",
      "[CV] END gamma=3.0, learning_rate=1.2000000000000002, max_depth=2, n_estimators=150; total time=   0.7s\n",
      "[CV] END gamma=0.5, learning_rate=0.2, max_depth=1, n_estimators=750; total time=   1.8s\n",
      "[CV] END gamma=0.5, learning_rate=0.2, max_depth=1, n_estimators=750; total time=   1.8s\n",
      "[CV] END gamma=0.5, learning_rate=0.2, max_depth=1, n_estimators=750; total time=   1.8s\n",
      "[CV] END gamma=0.5, learning_rate=0.2, max_depth=1, n_estimators=750; total time=   1.8s\n",
      "[CV] END gamma=0.5, learning_rate=0.2, max_depth=1, n_estimators=750; total time=   1.8s\n",
      "[CV] END gamma=0.5, learning_rate=0.9, max_depth=1, n_estimators=500; total time=   1.3s\n",
      "[CV] END gamma=0.5, learning_rate=0.9, max_depth=1, n_estimators=500; total time=   1.3s\n",
      "[CV] END gamma=0.5, learning_rate=0.9, max_depth=1, n_estimators=500; total time=   1.9s\n",
      "[CV] END gamma=0.5, learning_rate=0.9, max_depth=1, n_estimators=500; total time=   2.8s\n",
      "[CV] END gamma=0.5, learning_rate=0.9, max_depth=1, n_estimators=500; total time=   1.7s\n",
      "[CV] END gamma=4.5, learning_rate=1.2000000000000002, max_depth=2, n_estimators=750; total time=   1.7s\n",
      "[CV] END gamma=4.5, learning_rate=1.2000000000000002, max_depth=2, n_estimators=750; total time=   1.8s\n",
      "[CV] END gamma=4.5, learning_rate=1.2000000000000002, max_depth=2, n_estimators=750; total time=   2.2s\n",
      "[CV] END gamma=4.5, learning_rate=1.2000000000000002, max_depth=2, n_estimators=750; total time=   1.8s\n",
      "[CV] END gamma=4.5, learning_rate=1.2000000000000002, max_depth=2, n_estimators=750; total time=   1.7s\n",
      "[CV] END gamma=1.25, learning_rate=1.4000000000000001, max_depth=2, n_estimators=250; total time=   1.3s\n",
      "[CV] END gamma=1.25, learning_rate=1.4000000000000001, max_depth=2, n_estimators=250; total time=   1.2s\n",
      "[CV] END gamma=1.25, learning_rate=1.4000000000000001, max_depth=2, n_estimators=250; total time=   1.1s\n",
      "[CV] END gamma=1.25, learning_rate=1.4000000000000001, max_depth=2, n_estimators=250; total time=   1.0s\n",
      "[CV] END gamma=1.25, learning_rate=1.4000000000000001, max_depth=2, n_estimators=250; total time=   0.9s\n",
      "[CV] END gamma=1.5, learning_rate=0.7000000000000001, max_depth=1, n_estimators=800; total time=   1.8s\n",
      "[CV] END gamma=1.5, learning_rate=0.7000000000000001, max_depth=1, n_estimators=800; total time=   1.9s\n",
      "[CV] END gamma=1.5, learning_rate=0.7000000000000001, max_depth=1, n_estimators=800; total time=   1.8s\n",
      "[CV] END gamma=1.5, learning_rate=0.7000000000000001, max_depth=1, n_estimators=800; total time=   1.7s\n",
      "[CV] END gamma=1.5, learning_rate=0.7000000000000001, max_depth=1, n_estimators=800; total time=   1.8s\n",
      "[CV] END gamma=3.5, learning_rate=0.9, max_depth=2, n_estimators=250; total time=   0.9s\n",
      "[CV] END gamma=3.5, learning_rate=0.9, max_depth=2, n_estimators=250; total time=   1.0s\n",
      "[CV] END gamma=3.5, learning_rate=0.9, max_depth=2, n_estimators=250; total time=   0.8s\n",
      "[CV] END gamma=3.5, learning_rate=0.9, max_depth=2, n_estimators=250; total time=   0.9s\n",
      "[CV] END gamma=3.5, learning_rate=0.9, max_depth=2, n_estimators=250; total time=   0.8s\n",
      "[CV] END gamma=4.5, learning_rate=0.4, max_depth=2, n_estimators=250; total time=   0.8s\n",
      "[CV] END gamma=4.5, learning_rate=0.4, max_depth=2, n_estimators=250; total time=   0.8s\n",
      "[CV] END gamma=4.5, learning_rate=0.4, max_depth=2, n_estimators=250; total time=   0.9s\n",
      "[CV] END gamma=4.5, learning_rate=0.4, max_depth=2, n_estimators=250; total time=   0.9s\n",
      "[CV] END gamma=4.5, learning_rate=0.4, max_depth=2, n_estimators=250; total time=   0.9s\n",
      "[CV] END gamma=2.0, learning_rate=1.4000000000000001, max_depth=2, n_estimators=900; total time=   2.4s\n",
      "[CV] END gamma=2.0, learning_rate=1.4000000000000001, max_depth=2, n_estimators=900; total time=   2.6s\n",
      "[CV] END gamma=2.0, learning_rate=1.4000000000000001, max_depth=2, n_estimators=900; total time=   2.8s\n",
      "[CV] END gamma=2.0, learning_rate=1.4000000000000001, max_depth=2, n_estimators=900; total time=   2.6s\n",
      "[CV] END gamma=2.0, learning_rate=1.4000000000000001, max_depth=2, n_estimators=900; total time=   1.9s\n",
      "[CV] END gamma=4.25, learning_rate=0.8, max_depth=2, n_estimators=400; total time=   1.1s\n",
      "[CV] END gamma=4.25, learning_rate=0.8, max_depth=2, n_estimators=400; total time=   1.1s\n",
      "[CV] END gamma=4.25, learning_rate=0.8, max_depth=2, n_estimators=400; total time=   1.1s\n",
      "[CV] END gamma=4.25, learning_rate=0.8, max_depth=2, n_estimators=400; total time=   1.1s\n",
      "[CV] END gamma=4.25, learning_rate=0.8, max_depth=2, n_estimators=400; total time=   1.1s\n",
      "[CV] END gamma=3.5, learning_rate=0.8, max_depth=1, n_estimators=800; total time=   1.8s\n"
     ]
    },
    {
     "name": "stdout",
     "output_type": "stream",
     "text": [
      "[CV] END gamma=3.5, learning_rate=0.8, max_depth=1, n_estimators=800; total time=   1.7s\n",
      "[CV] END gamma=3.5, learning_rate=0.8, max_depth=1, n_estimators=800; total time=   1.9s\n",
      "[CV] END gamma=3.5, learning_rate=0.8, max_depth=1, n_estimators=800; total time=   1.8s\n",
      "[CV] END gamma=3.5, learning_rate=0.8, max_depth=1, n_estimators=800; total time=   1.9s\n",
      "[CV] END gamma=4.25, learning_rate=0.6, max_depth=2, n_estimators=600; total time=   1.4s\n",
      "[CV] END gamma=4.25, learning_rate=0.6, max_depth=2, n_estimators=600; total time=   1.8s\n",
      "[CV] END gamma=4.25, learning_rate=0.6, max_depth=2, n_estimators=600; total time=   1.8s\n",
      "[CV] END gamma=4.25, learning_rate=0.6, max_depth=2, n_estimators=600; total time=   1.5s\n",
      "[CV] END gamma=4.25, learning_rate=0.6, max_depth=2, n_estimators=600; total time=   1.5s\n",
      "[CV] END gamma=4.0, learning_rate=1.4000000000000001, max_depth=2, n_estimators=700; total time=   1.7s\n",
      "[CV] END gamma=4.0, learning_rate=1.4000000000000001, max_depth=2, n_estimators=700; total time=   1.7s\n",
      "[CV] END gamma=4.0, learning_rate=1.4000000000000001, max_depth=2, n_estimators=700; total time=   2.1s\n",
      "[CV] END gamma=4.0, learning_rate=1.4000000000000001, max_depth=2, n_estimators=700; total time=   2.3s\n",
      "[CV] END gamma=4.0, learning_rate=1.4000000000000001, max_depth=2, n_estimators=700; total time=   1.7s\n",
      "[CV] END gamma=3.25, learning_rate=1.4000000000000001, max_depth=2, n_estimators=900; total time=   2.1s\n",
      "[CV] END gamma=3.25, learning_rate=1.4000000000000001, max_depth=2, n_estimators=900; total time=   1.9s\n",
      "[CV] END gamma=3.25, learning_rate=1.4000000000000001, max_depth=2, n_estimators=900; total time=   2.8s\n",
      "[CV] END gamma=3.25, learning_rate=1.4000000000000001, max_depth=2, n_estimators=900; total time=   1.9s\n",
      "[CV] END gamma=3.25, learning_rate=1.4000000000000001, max_depth=2, n_estimators=900; total time=   2.1s\n",
      "[CV] END gamma=4.0, learning_rate=1.4000000000000001, max_depth=1, n_estimators=650; total time=   1.5s\n",
      "[CV] END gamma=4.0, learning_rate=1.4000000000000001, max_depth=1, n_estimators=650; total time=   1.5s\n",
      "[CV] END gamma=4.0, learning_rate=1.4000000000000001, max_depth=1, n_estimators=650; total time=   1.8s\n",
      "[CV] END gamma=4.0, learning_rate=1.4000000000000001, max_depth=1, n_estimators=650; total time=   1.9s\n",
      "[CV] END gamma=4.0, learning_rate=1.4000000000000001, max_depth=1, n_estimators=650; total time=   1.5s\n",
      "[CV] END gamma=4.5, learning_rate=0.2, max_depth=2, n_estimators=850; total time=   1.8s\n",
      "[CV] END gamma=4.5, learning_rate=0.2, max_depth=2, n_estimators=850; total time=   1.9s\n",
      "[CV] END gamma=4.5, learning_rate=0.2, max_depth=2, n_estimators=850; total time=   1.9s\n",
      "[CV] END gamma=4.5, learning_rate=0.2, max_depth=2, n_estimators=850; total time=   1.9s\n",
      "[CV] END gamma=4.5, learning_rate=0.2, max_depth=2, n_estimators=850; total time=   1.8s\n",
      "[CV] END gamma=3.0, learning_rate=0.6, max_depth=2, n_estimators=500; total time=   1.3s\n",
      "[CV] END gamma=3.0, learning_rate=0.6, max_depth=2, n_estimators=500; total time=   1.3s\n",
      "[CV] END gamma=3.0, learning_rate=0.6, max_depth=2, n_estimators=500; total time=   1.3s\n",
      "[CV] END gamma=3.0, learning_rate=0.6, max_depth=2, n_estimators=500; total time=   1.3s\n",
      "[CV] END gamma=3.0, learning_rate=0.6, max_depth=2, n_estimators=500; total time=   1.3s\n",
      "[CV] END gamma=1.0, learning_rate=0.5, max_depth=2, n_estimators=550; total time=   1.5s\n",
      "[CV] END gamma=1.0, learning_rate=0.5, max_depth=2, n_estimators=550; total time=   2.0s\n",
      "[CV] END gamma=1.0, learning_rate=0.5, max_depth=2, n_estimators=550; total time=   1.7s\n",
      "[CV] END gamma=1.0, learning_rate=0.5, max_depth=2, n_estimators=550; total time=   1.5s\n",
      "[CV] END gamma=1.0, learning_rate=0.5, max_depth=2, n_estimators=550; total time=   1.5s\n",
      "[CV] END gamma=2.75, learning_rate=1.0, max_depth=1, n_estimators=650; total time=   1.6s\n",
      "[CV] END gamma=2.75, learning_rate=1.0, max_depth=1, n_estimators=650; total time=   1.6s\n",
      "[CV] END gamma=2.75, learning_rate=1.0, max_depth=1, n_estimators=650; total time=   2.5s\n",
      "[CV] END gamma=2.75, learning_rate=1.0, max_depth=1, n_estimators=650; total time=   1.7s\n",
      "[CV] END gamma=2.75, learning_rate=1.0, max_depth=1, n_estimators=650; total time=   2.0s\n",
      "[CV] END gamma=3.75, learning_rate=1.2000000000000002, max_depth=1, n_estimators=950; total time=   2.3s\n",
      "[CV] END gamma=3.75, learning_rate=1.2000000000000002, max_depth=1, n_estimators=950; total time=   2.1s\n",
      "[CV] END gamma=3.75, learning_rate=1.2000000000000002, max_depth=1, n_estimators=950; total time=   3.4s\n",
      "[CV] END gamma=3.75, learning_rate=1.2000000000000002, max_depth=1, n_estimators=950; total time=   3.3s\n",
      "[CV] END gamma=3.75, learning_rate=1.2000000000000002, max_depth=1, n_estimators=950; total time=   2.7s\n",
      "[CV] END gamma=2.5, learning_rate=0.5, max_depth=1, n_estimators=250; total time=   1.2s\n",
      "[CV] END gamma=2.5, learning_rate=0.5, max_depth=1, n_estimators=250; total time=   1.3s\n",
      "[CV] END gamma=2.5, learning_rate=0.5, max_depth=1, n_estimators=250; total time=   1.1s\n",
      "[CV] END gamma=2.5, learning_rate=0.5, max_depth=1, n_estimators=250; total time=   1.1s\n",
      "[CV] END gamma=2.5, learning_rate=0.5, max_depth=1, n_estimators=250; total time=   1.1s\n",
      "[CV] END gamma=2.25, learning_rate=0.1, max_depth=1, n_estimators=800; total time=   3.1s\n",
      "[CV] END gamma=2.25, learning_rate=0.1, max_depth=1, n_estimators=800; total time=   3.2s\n",
      "[CV] END gamma=2.25, learning_rate=0.1, max_depth=1, n_estimators=800; total time=   2.7s\n",
      "[CV] END gamma=2.25, learning_rate=0.1, max_depth=1, n_estimators=800; total time=   3.8s\n",
      "[CV] END gamma=2.25, learning_rate=0.1, max_depth=1, n_estimators=800; total time=   2.5s\n",
      "[CV] END gamma=2.75, learning_rate=1.1, max_depth=2, n_estimators=700; total time=   1.9s\n",
      "[CV] END gamma=2.75, learning_rate=1.1, max_depth=2, n_estimators=700; total time=   2.6s\n",
      "[CV] END gamma=2.75, learning_rate=1.1, max_depth=2, n_estimators=700; total time=   1.8s\n",
      "[CV] END gamma=2.75, learning_rate=1.1, max_depth=2, n_estimators=700; total time=   1.6s\n",
      "[CV] END gamma=2.75, learning_rate=1.1, max_depth=2, n_estimators=700; total time=   1.6s\n",
      "[CV] END gamma=3.75, learning_rate=1.5000000000000002, max_depth=1, n_estimators=1000; total time=   3.4s\n",
      "[CV] END gamma=3.75, learning_rate=1.5000000000000002, max_depth=1, n_estimators=1000; total time=   3.9s\n",
      "[CV] END gamma=3.75, learning_rate=1.5000000000000002, max_depth=1, n_estimators=1000; total time=   5.3s\n",
      "[CV] END gamma=3.75, learning_rate=1.5000000000000002, max_depth=1, n_estimators=1000; total time=   3.0s\n",
      "[CV] END gamma=3.75, learning_rate=1.5000000000000002, max_depth=1, n_estimators=1000; total time=   2.2s\n",
      "[CV] END gamma=4.25, learning_rate=1.1, max_depth=2, n_estimators=750; total time=   1.7s\n",
      "[CV] END gamma=4.25, learning_rate=1.1, max_depth=2, n_estimators=750; total time=   1.7s\n",
      "[CV] END gamma=4.25, learning_rate=1.1, max_depth=2, n_estimators=750; total time=   2.0s\n",
      "[CV] END gamma=4.25, learning_rate=1.1, max_depth=2, n_estimators=750; total time=   2.1s\n",
      "[CV] END gamma=4.25, learning_rate=1.1, max_depth=2, n_estimators=750; total time=   2.6s\n",
      "[CV] END gamma=0.25, learning_rate=0.5, max_depth=1, n_estimators=850; total time=   2.1s\n",
      "[CV] END gamma=0.25, learning_rate=0.5, max_depth=1, n_estimators=850; total time=   1.9s\n",
      "[CV] END gamma=0.25, learning_rate=0.5, max_depth=1, n_estimators=850; total time=   2.0s\n",
      "[CV] END gamma=0.25, learning_rate=0.5, max_depth=1, n_estimators=850; total time=   1.9s\n",
      "[CV] END gamma=0.25, learning_rate=0.5, max_depth=1, n_estimators=850; total time=   1.9s\n",
      "[CV] END gamma=5.0, learning_rate=0.2, max_depth=1, n_estimators=500; total time=   2.0s\n",
      "[CV] END gamma=5.0, learning_rate=0.2, max_depth=1, n_estimators=500; total time=   1.6s\n",
      "[CV] END gamma=5.0, learning_rate=0.2, max_depth=1, n_estimators=500; total time=   1.3s\n",
      "[CV] END gamma=5.0, learning_rate=0.2, max_depth=1, n_estimators=500; total time=   1.7s\n",
      "[CV] END gamma=5.0, learning_rate=0.2, max_depth=1, n_estimators=500; total time=   1.8s\n",
      "[CV] END gamma=3.25, learning_rate=0.9, max_depth=1, n_estimators=1000; total time=   2.9s\n",
      "[CV] END gamma=3.25, learning_rate=0.9, max_depth=1, n_estimators=1000; total time=   2.7s\n",
      "[CV] END gamma=3.25, learning_rate=0.9, max_depth=1, n_estimators=1000; total time=   2.6s\n",
      "[CV] END gamma=3.25, learning_rate=0.9, max_depth=1, n_estimators=1000; total time=   2.7s\n"
     ]
    },
    {
     "name": "stdout",
     "output_type": "stream",
     "text": [
      "[CV] END gamma=3.25, learning_rate=0.9, max_depth=1, n_estimators=1000; total time=   3.9s\n",
      "[CV] END gamma=1.25, learning_rate=0.30000000000000004, max_depth=2, n_estimators=950; total time=   2.9s\n",
      "[CV] END gamma=1.25, learning_rate=0.30000000000000004, max_depth=2, n_estimators=950; total time=   2.2s\n",
      "[CV] END gamma=1.25, learning_rate=0.30000000000000004, max_depth=2, n_estimators=950; total time=   2.0s\n",
      "[CV] END gamma=1.25, learning_rate=0.30000000000000004, max_depth=2, n_estimators=950; total time=   2.1s\n",
      "[CV] END gamma=1.25, learning_rate=0.30000000000000004, max_depth=2, n_estimators=950; total time=   2.1s\n",
      "[CV] END gamma=4.0, learning_rate=1.2000000000000002, max_depth=1, n_estimators=150; total time=   0.7s\n",
      "[CV] END gamma=4.0, learning_rate=1.2000000000000002, max_depth=1, n_estimators=150; total time=   0.7s\n",
      "[CV] END gamma=4.0, learning_rate=1.2000000000000002, max_depth=1, n_estimators=150; total time=   0.7s\n",
      "[CV] END gamma=4.0, learning_rate=1.2000000000000002, max_depth=1, n_estimators=150; total time=   1.0s\n",
      "[CV] END gamma=4.0, learning_rate=1.2000000000000002, max_depth=1, n_estimators=150; total time=   1.0s\n",
      "[CV] END gamma=0.5, learning_rate=1.0, max_depth=2, n_estimators=500; total time=   1.3s\n",
      "[CV] END gamma=0.5, learning_rate=1.0, max_depth=2, n_estimators=500; total time=   1.4s\n",
      "[CV] END gamma=0.5, learning_rate=1.0, max_depth=2, n_estimators=500; total time=   1.3s\n",
      "[CV] END gamma=0.5, learning_rate=1.0, max_depth=2, n_estimators=500; total time=   1.3s\n",
      "[CV] END gamma=0.5, learning_rate=1.0, max_depth=2, n_estimators=500; total time=   1.3s\n",
      "[CV] END gamma=1.5, learning_rate=0.8, max_depth=2, n_estimators=600; total time=   1.7s\n",
      "[CV] END gamma=1.5, learning_rate=0.8, max_depth=2, n_estimators=600; total time=   1.5s\n",
      "[CV] END gamma=1.5, learning_rate=0.8, max_depth=2, n_estimators=600; total time=   1.4s\n",
      "[CV] END gamma=1.5, learning_rate=0.8, max_depth=2, n_estimators=600; total time=   1.5s\n",
      "[CV] END gamma=1.5, learning_rate=0.8, max_depth=2, n_estimators=600; total time=   2.5s\n",
      "[CV] END gamma=3.0, learning_rate=0.7000000000000001, max_depth=2, n_estimators=700; total time=   2.3s\n",
      "[CV] END gamma=3.0, learning_rate=0.7000000000000001, max_depth=2, n_estimators=700; total time=   2.4s\n",
      "[CV] END gamma=3.0, learning_rate=0.7000000000000001, max_depth=2, n_estimators=700; total time=   2.2s\n",
      "[CV] END gamma=3.0, learning_rate=0.7000000000000001, max_depth=2, n_estimators=700; total time=   2.2s\n",
      "[CV] END gamma=3.0, learning_rate=0.7000000000000001, max_depth=2, n_estimators=700; total time=   2.2s\n",
      "[CV] END gamma=1.25, learning_rate=0.1, max_depth=2, n_estimators=800; total time=   2.5s\n",
      "[CV] END gamma=1.25, learning_rate=0.1, max_depth=2, n_estimators=800; total time=   2.1s\n",
      "[CV] END gamma=1.25, learning_rate=0.1, max_depth=2, n_estimators=800; total time=   1.9s\n",
      "[CV] END gamma=1.25, learning_rate=0.1, max_depth=2, n_estimators=800; total time=   2.1s\n",
      "[CV] END gamma=1.25, learning_rate=0.1, max_depth=2, n_estimators=800; total time=   3.6s\n",
      "[CV] END gamma=0.25, learning_rate=1.1, max_depth=2, n_estimators=800; total time=   2.8s\n",
      "[CV] END gamma=0.25, learning_rate=1.1, max_depth=2, n_estimators=800; total time=   2.1s\n",
      "[CV] END gamma=0.25, learning_rate=1.1, max_depth=2, n_estimators=800; total time=   1.8s\n",
      "[CV] END gamma=0.25, learning_rate=1.1, max_depth=2, n_estimators=800; total time=   2.2s\n",
      "[CV] END gamma=0.25, learning_rate=1.1, max_depth=2, n_estimators=800; total time=   2.3s\n",
      "[CV] END gamma=4.75, learning_rate=0.30000000000000004, max_depth=2, n_estimators=400; total time=   1.2s\n",
      "[CV] END gamma=4.75, learning_rate=0.30000000000000004, max_depth=2, n_estimators=400; total time=   1.2s\n",
      "[CV] END gamma=4.75, learning_rate=0.30000000000000004, max_depth=2, n_estimators=400; total time=   1.2s\n",
      "[CV] END gamma=4.75, learning_rate=0.30000000000000004, max_depth=2, n_estimators=400; total time=   2.2s\n",
      "[CV] END gamma=4.75, learning_rate=0.30000000000000004, max_depth=2, n_estimators=400; total time=   1.9s\n",
      "[CV] END gamma=4.25, learning_rate=1.3000000000000003, max_depth=1, n_estimators=750; total time=   1.7s\n",
      "[CV] END gamma=4.25, learning_rate=1.3000000000000003, max_depth=1, n_estimators=750; total time=   1.9s\n",
      "[CV] END gamma=4.25, learning_rate=1.3000000000000003, max_depth=1, n_estimators=750; total time=   2.8s\n",
      "[CV] END gamma=4.25, learning_rate=1.3000000000000003, max_depth=1, n_estimators=750; total time=   2.3s\n",
      "[CV] END gamma=4.25, learning_rate=1.3000000000000003, max_depth=1, n_estimators=750; total time=   2.3s\n",
      "[CV] END gamma=1.5, learning_rate=0.6, max_depth=1, n_estimators=350; total time=   1.2s\n",
      "[CV] END gamma=1.5, learning_rate=0.6, max_depth=1, n_estimators=350; total time=   1.4s\n",
      "[CV] END gamma=1.5, learning_rate=0.6, max_depth=1, n_estimators=350; total time=   1.3s\n",
      "[CV] END gamma=1.5, learning_rate=0.6, max_depth=1, n_estimators=350; total time=   1.2s\n",
      "[CV] END gamma=1.5, learning_rate=0.6, max_depth=1, n_estimators=350; total time=   1.7s\n",
      "[CV] END gamma=3.25, learning_rate=0.30000000000000004, max_depth=1, n_estimators=550; total time=   1.5s\n",
      "[CV] END gamma=3.25, learning_rate=0.30000000000000004, max_depth=1, n_estimators=550; total time=   1.7s\n",
      "[CV] END gamma=3.25, learning_rate=0.30000000000000004, max_depth=1, n_estimators=550; total time=   1.6s\n",
      "[CV] END gamma=3.25, learning_rate=0.30000000000000004, max_depth=1, n_estimators=550; total time=   1.6s\n",
      "[CV] END gamma=3.25, learning_rate=0.30000000000000004, max_depth=1, n_estimators=550; total time=   2.3s\n",
      "[CV] END gamma=3.75, learning_rate=1.6, max_depth=1, n_estimators=200; total time=   1.1s\n",
      "[CV] END gamma=3.75, learning_rate=1.6, max_depth=1, n_estimators=200; total time=   0.9s\n",
      "[CV] END gamma=3.75, learning_rate=1.6, max_depth=1, n_estimators=200; total time=   1.0s\n",
      "[CV] END gamma=3.75, learning_rate=1.6, max_depth=1, n_estimators=200; total time=   0.9s\n",
      "[CV] END gamma=3.75, learning_rate=1.6, max_depth=1, n_estimators=200; total time=   0.8s\n",
      "[CV] END gamma=2.75, learning_rate=0.5, max_depth=2, n_estimators=800; total time=   2.0s\n",
      "[CV] END gamma=2.75, learning_rate=0.5, max_depth=2, n_estimators=800; total time=   2.0s\n",
      "[CV] END gamma=2.75, learning_rate=0.5, max_depth=2, n_estimators=800; total time=   1.8s\n",
      "[CV] END gamma=2.75, learning_rate=0.5, max_depth=2, n_estimators=800; total time=   2.6s\n",
      "[CV] END gamma=2.75, learning_rate=0.5, max_depth=2, n_estimators=800; total time=   1.9s\n",
      "[CV] END gamma=2.25, learning_rate=0.6, max_depth=1, n_estimators=750; total time=   2.6s\n",
      "[CV] END gamma=2.25, learning_rate=0.6, max_depth=1, n_estimators=750; total time=   2.5s\n",
      "[CV] END gamma=2.25, learning_rate=0.6, max_depth=1, n_estimators=750; total time=   2.8s\n",
      "[CV] END gamma=2.25, learning_rate=0.6, max_depth=1, n_estimators=750; total time=   3.0s\n",
      "[CV] END gamma=2.25, learning_rate=0.6, max_depth=1, n_estimators=750; total time=   2.0s\n",
      "[CV] END gamma=0.0, learning_rate=0.5, max_depth=1, n_estimators=550; total time=   3.3s\n",
      "[CV] END gamma=0.0, learning_rate=0.5, max_depth=1, n_estimators=550; total time=   4.4s\n",
      "[CV] END gamma=0.0, learning_rate=0.5, max_depth=1, n_estimators=550; total time=   2.2s\n",
      "[CV] END gamma=0.0, learning_rate=0.5, max_depth=1, n_estimators=550; total time=   1.6s\n",
      "[CV] END gamma=0.0, learning_rate=0.5, max_depth=1, n_estimators=550; total time=   1.7s\n",
      "[CV] END gamma=1.75, learning_rate=0.2, max_depth=1, n_estimators=250; total time=   1.2s\n",
      "[CV] END gamma=1.75, learning_rate=0.2, max_depth=1, n_estimators=250; total time=   1.2s\n",
      "[CV] END gamma=1.75, learning_rate=0.2, max_depth=1, n_estimators=250; total time=   0.9s\n",
      "[CV] END gamma=1.75, learning_rate=0.2, max_depth=1, n_estimators=250; total time=   0.9s\n",
      "[CV] END gamma=1.75, learning_rate=0.2, max_depth=1, n_estimators=250; total time=   0.9s\n",
      "[CV] END gamma=4.0, learning_rate=1.2000000000000002, max_depth=2, n_estimators=500; total time=   1.3s\n",
      "[CV] END gamma=4.0, learning_rate=1.2000000000000002, max_depth=2, n_estimators=500; total time=   1.3s\n",
      "[CV] END gamma=4.0, learning_rate=1.2000000000000002, max_depth=2, n_estimators=500; total time=   1.3s\n",
      "[CV] END gamma=4.0, learning_rate=1.2000000000000002, max_depth=2, n_estimators=500; total time=   1.5s\n",
      "[CV] END gamma=4.0, learning_rate=1.2000000000000002, max_depth=2, n_estimators=500; total time=   1.6s\n"
     ]
    },
    {
     "name": "stdout",
     "output_type": "stream",
     "text": [
      "[CV] END gamma=0.25, learning_rate=1.1, max_depth=1, n_estimators=450; total time=   1.7s\n",
      "[CV] END gamma=0.25, learning_rate=1.1, max_depth=1, n_estimators=450; total time=   1.6s\n",
      "[CV] END gamma=0.25, learning_rate=1.1, max_depth=1, n_estimators=450; total time=   1.6s\n",
      "[CV] END gamma=0.25, learning_rate=1.1, max_depth=1, n_estimators=450; total time=   1.5s\n",
      "[CV] END gamma=0.25, learning_rate=1.1, max_depth=1, n_estimators=450; total time=   2.9s\n",
      "[CV] END gamma=4.5, learning_rate=1.6, max_depth=2, n_estimators=150; total time=   1.2s\n",
      "[CV] END gamma=4.5, learning_rate=1.6, max_depth=2, n_estimators=150; total time=   0.8s\n",
      "[CV] END gamma=4.5, learning_rate=1.6, max_depth=2, n_estimators=150; total time=   0.8s\n",
      "[CV] END gamma=4.5, learning_rate=1.6, max_depth=2, n_estimators=150; total time=   0.8s\n",
      "[CV] END gamma=4.5, learning_rate=1.6, max_depth=2, n_estimators=150; total time=   0.8s\n",
      "[CV] END gamma=5.0, learning_rate=1.6, max_depth=1, n_estimators=750; total time=   1.7s\n",
      "[CV] END gamma=5.0, learning_rate=1.6, max_depth=1, n_estimators=750; total time=   1.9s\n",
      "[CV] END gamma=5.0, learning_rate=1.6, max_depth=1, n_estimators=750; total time=   2.2s\n",
      "[CV] END gamma=5.0, learning_rate=1.6, max_depth=1, n_estimators=750; total time=   2.8s\n",
      "[CV] END gamma=5.0, learning_rate=1.6, max_depth=1, n_estimators=750; total time=   1.8s\n",
      "[CV] END gamma=3.0, learning_rate=0.9, max_depth=2, n_estimators=600; total time=   1.5s\n",
      "[CV] END gamma=3.0, learning_rate=0.9, max_depth=2, n_estimators=600; total time=   1.6s\n",
      "[CV] END gamma=3.0, learning_rate=0.9, max_depth=2, n_estimators=600; total time=   1.6s\n",
      "[CV] END gamma=3.0, learning_rate=0.9, max_depth=2, n_estimators=600; total time=   1.5s\n",
      "[CV] END gamma=3.0, learning_rate=0.9, max_depth=2, n_estimators=600; total time=   1.6s\n",
      "[CV] END gamma=4.75, learning_rate=1.2000000000000002, max_depth=2, n_estimators=150; total time=   0.7s\n",
      "[CV] END gamma=4.75, learning_rate=1.2000000000000002, max_depth=2, n_estimators=150; total time=   0.7s\n",
      "[CV] END gamma=4.75, learning_rate=1.2000000000000002, max_depth=2, n_estimators=150; total time=   0.7s\n",
      "[CV] END gamma=4.75, learning_rate=1.2000000000000002, max_depth=2, n_estimators=150; total time=   0.7s\n",
      "[CV] END gamma=4.75, learning_rate=1.2000000000000002, max_depth=2, n_estimators=150; total time=   0.8s\n",
      "[CV] END gamma=3.75, learning_rate=1.0, max_depth=1, n_estimators=350; total time=   1.1s\n",
      "[CV] END gamma=3.75, learning_rate=1.0, max_depth=1, n_estimators=350; total time=   1.3s\n",
      "[CV] END gamma=3.75, learning_rate=1.0, max_depth=1, n_estimators=350; total time=   1.6s\n",
      "[CV] END gamma=3.75, learning_rate=1.0, max_depth=1, n_estimators=350; total time=   1.9s\n",
      "[CV] END gamma=3.75, learning_rate=1.0, max_depth=1, n_estimators=350; total time=   1.2s\n",
      "[CV] END gamma=0.25, learning_rate=1.1, max_depth=2, n_estimators=550; total time=   1.9s\n",
      "[CV] END gamma=0.25, learning_rate=1.1, max_depth=2, n_estimators=550; total time=   1.8s\n",
      "[CV] END gamma=0.25, learning_rate=1.1, max_depth=2, n_estimators=550; total time=   1.9s\n",
      "[CV] END gamma=0.25, learning_rate=1.1, max_depth=2, n_estimators=550; total time=   1.6s\n",
      "[CV] END gamma=0.25, learning_rate=1.1, max_depth=2, n_estimators=550; total time=   1.8s\n",
      "[CV] END gamma=3.0, learning_rate=1.6, max_depth=1, n_estimators=250; total time=   1.7s\n",
      "[CV] END gamma=3.0, learning_rate=1.6, max_depth=1, n_estimators=250; total time=   1.4s\n",
      "[CV] END gamma=3.0, learning_rate=1.6, max_depth=1, n_estimators=250; total time=   0.9s\n",
      "[CV] END gamma=3.0, learning_rate=1.6, max_depth=1, n_estimators=250; total time=   0.8s\n",
      "[CV] END gamma=3.0, learning_rate=1.6, max_depth=1, n_estimators=250; total time=   0.9s\n",
      "[CV] END gamma=2.5, learning_rate=1.0, max_depth=1, n_estimators=950; total time=   2.4s\n",
      "[CV] END gamma=2.5, learning_rate=1.0, max_depth=1, n_estimators=950; total time=   2.7s\n",
      "[CV] END gamma=2.5, learning_rate=1.0, max_depth=1, n_estimators=950; total time=   2.6s\n",
      "[CV] END gamma=2.5, learning_rate=1.0, max_depth=1, n_estimators=950; total time=   2.6s\n",
      "[CV] END gamma=2.5, learning_rate=1.0, max_depth=1, n_estimators=950; total time=   2.7s\n",
      "[CV] END gamma=3.0, learning_rate=1.6, max_depth=2, n_estimators=450; total time=   2.4s\n",
      "[CV] END gamma=3.0, learning_rate=1.6, max_depth=2, n_estimators=450; total time=   1.9s\n",
      "[CV] END gamma=3.0, learning_rate=1.6, max_depth=2, n_estimators=450; total time=   2.0s\n",
      "[CV] END gamma=3.0, learning_rate=1.6, max_depth=2, n_estimators=450; total time=   1.7s\n",
      "[CV] END gamma=3.0, learning_rate=1.6, max_depth=2, n_estimators=450; total time=   2.6s\n",
      "[CV] END gamma=2.75, learning_rate=0.5, max_depth=2, n_estimators=300; total time=   1.3s\n",
      "[CV] END gamma=2.75, learning_rate=0.5, max_depth=2, n_estimators=300; total time=   1.5s\n",
      "[CV] END gamma=2.75, learning_rate=0.5, max_depth=2, n_estimators=300; total time=   2.2s\n",
      "[CV] END gamma=2.75, learning_rate=0.5, max_depth=2, n_estimators=300; total time=   1.2s\n",
      "[CV] END gamma=2.75, learning_rate=0.5, max_depth=2, n_estimators=300; total time=   2.3s\n",
      "[CV] END gamma=3.25, learning_rate=0.1, max_depth=1, n_estimators=700; total time=   3.0s\n",
      "[CV] END gamma=3.25, learning_rate=0.1, max_depth=1, n_estimators=700; total time=   2.7s\n",
      "[CV] END gamma=3.25, learning_rate=0.1, max_depth=1, n_estimators=700; total time=   3.3s\n",
      "[CV] END gamma=3.25, learning_rate=0.1, max_depth=1, n_estimators=700; total time=   3.3s\n",
      "[CV] END gamma=3.25, learning_rate=0.1, max_depth=1, n_estimators=700; total time=   4.6s\n",
      "[CV] END gamma=3.5, learning_rate=0.1, max_depth=1, n_estimators=950; total time=   2.9s\n",
      "[CV] END gamma=3.5, learning_rate=0.1, max_depth=1, n_estimators=950; total time=   2.2s\n",
      "[CV] END gamma=3.5, learning_rate=0.1, max_depth=1, n_estimators=950; total time=   2.1s\n",
      "[CV] END gamma=3.5, learning_rate=0.1, max_depth=1, n_estimators=950; total time=   2.1s\n",
      "[CV] END gamma=3.5, learning_rate=0.1, max_depth=1, n_estimators=950; total time=   2.2s\n",
      "Best parameters: {'n_estimators': 600, 'max_depth': 1, 'learning_rate': 1.3000000000000003, 'gamma': 0.0}\n",
      "Best ROC AUC score: 0.9283645638037074\n"
     ]
    }
   ],
   "source": [
    "import xgboost as xgb\n",
    "from sklearn.model_selection import RandomizedSearchCV\n",
    "import numpy as np\n",
    "\n",
    "# Initialize the XGBoost classifier\n",
    "xgb_classifier = xgb.XGBClassifier(objective='binary:logistic', eval_metric='logloss', use_label_encoder=False, random_state=42)\n",
    "\n",
    "# Define the parameter grid\n",
    "param_grid = {\n",
    "    'n_estimators': np.arange(100, 1050, 50),\n",
    "    'learning_rate': np.arange(0.1, 1.7, 0.1),\n",
    "    'max_depth': [1, 2],\n",
    "    'gamma': np.arange(0, 5.25, 0.25)\n",
    "}\n",
    "\n",
    "# Initialize RandomizedSearchCV with the XGBoost classifier, parameter grid, and necessary settings\n",
    "random_search = RandomizedSearchCV(xgb_classifier, param_distributions=param_grid, n_iter=100, cv=5, scoring='roc_auc', verbose=2, random_state=42)\n",
    "random_search.fit(X_train, y_train)\n",
    "\n",
    "# Output the best parameters and the best score\n",
    "print(\"Best parameters:\", random_search.best_params_)\n",
    "print(\"Best ROC AUC score:\", random_search.best_score_)\n",
    "\n",
    "# Get the best estimator\n",
    "best_xgb = random_search.best_estimator_\n"
   ]
  },
  {
   "cell_type": "code",
   "execution_count": 32,
   "id": "5566084f",
   "metadata": {},
   "outputs": [
    {
     "name": "stdout",
     "output_type": "stream",
     "text": [
      "Confusion Matrix:\n",
      " [[7024  431]\n",
      " [ 823 1491]]\n",
      "Classification Report:\n",
      "               precision    recall  f1-score   support\n",
      "\n",
      "           0       0.90      0.94      0.92      7455\n",
      "           1       0.78      0.64      0.70      2314\n",
      "\n",
      "    accuracy                           0.87      9769\n",
      "   macro avg       0.84      0.79      0.81      9769\n",
      "weighted avg       0.87      0.87      0.87      9769\n",
      "\n"
     ]
    }
   ],
   "source": [
    "# b) Predict on test data using the best estimator\n",
    "# Predict the classes and probabilities for the test data\n",
    "y_pred_xgb = best_xgb.predict(X_test)\n",
    "y_proba_xgb = best_xgb.predict_proba(X_test)[:, 1]\n",
    "\n",
    "# c) Calculate the confusion matrix and classification report\n",
    "from sklearn.metrics import confusion_matrix, classification_report\n",
    "\n",
    "# Calculate the confusion matrix and print it\n",
    "conf_matrix_xgb = confusion_matrix(y_test, y_pred_xgb)\n",
    "print(\"Confusion Matrix:\\n\", conf_matrix_xgb)\n",
    "\n",
    "# Calculate and print the classification report\n",
    "class_report_xgb = classification_report(y_test, y_pred_xgb)\n",
    "print(\"Classification Report:\\n\", class_report_xgb)\n"
   ]
  },
  {
   "cell_type": "code",
   "execution_count": 34,
   "id": "d732c563",
   "metadata": {},
   "outputs": [
    {
     "name": "stdout",
     "output_type": "stream",
     "text": [
      "AUC Score: 0.925862782572705\n"
     ]
    },
    {
     "data": {
      "image/png": "[encoded data removed]",
      "text/plain": [
       "<Figure size 1000x600 with 1 Axes>"
      ]
     },
     "metadata": {},
     "output_type": "display_data"
    },
    {
     "name": "stdout",
     "output_type": "stream",
     "text": [
      "Top 5 Features:\n",
      "capital_gain: 0.3300\n",
      "capital_loss: 0.2900\n",
      "age: 0.1075\n",
      "hours_per_week: 0.0575\n",
      "education_num: 0.0100\n"
     ]
    }
   ],
   "source": [
    "# d) Calculate the AUC score\n",
    "from sklearn.metrics import roc_auc_score\n",
    "\n",
    "# Calculate the AUC score\n",
    "auc_score_xgb = roc_auc_score(y_test, y_proba_xgb)\n",
    "print(\"AUC Score:\", auc_score_xgb)\n",
    "\n",
    "# e) Identify the top 5 features\n",
    "# Get feature importances and sort them\n",
    "feature_importances_xgb = best_xgb.feature_importances_\n",
    "\n",
    "# Get the indices of the top 5 features\n",
    "indices = np.argsort(feature_importances)[-5:][::-1]  # Reverse to make the plot more intuitive\n",
    "\n",
    "# Create a plot of feature importances\n",
    "plt.figure(figsize=(10, 6))\n",
    "plt.title('Top 5 Feature Importances')\n",
    "plt.barh(np.arange(len(indices)), feature_importances[indices], color='b', align='center')\n",
    "plt.yticks(np.arange(len(indices)), [X_encoded.columns[i] for i in indices])\n",
    "plt.xlabel('Relative Importance')\n",
    "plt.gca().invert_yaxis()  # Invert axis to have the highest importance on top\n",
    "plt.show()\n",
    "\n",
    "# Alternatively, print them as a list\n",
    "print(\"Top 5 Features:\")\n",
    "for i in indices:\n",
    "    print(f\"{X_encoded.columns[i]}: {feature_importances[i]:.4f}\")\n"
   ]
  },
  {
   "cell_type": "code",
   "execution_count": 35,
   "id": "f96d307b",
   "metadata": {},
   "outputs": [
    {
     "name": "stdout",
     "output_type": "stream",
     "text": [
      "Classification Report for Training Data:\n",
      "               precision    recall  f1-score   support\n",
      "\n",
      "           0       0.90      0.94      0.92     17265\n",
      "           1       0.79      0.66      0.72      5527\n",
      "\n",
      "    accuracy                           0.87     22792\n",
      "   macro avg       0.84      0.80      0.82     22792\n",
      "weighted avg       0.87      0.87      0.87     22792\n",
      "\n"
     ]
    }
   ],
   "source": [
    "# f) Predict for the train data and check for overfitting\n",
    "# Predict the classes for the training data\n",
    "y_train_pred_xgb = best_xgb.predict(X_train)\n",
    "\n",
    "# Calculate and print the classification report for the training data\n",
    "train_class_report_xgb = classification_report(y_train, y_train_pred_xgb)\n",
    "print(\"Classification Report for Training Data:\\n\", train_class_report_xgb)\n",
    "\n"
   ]
  },
  {
   "cell_type": "markdown",
   "id": "430d007d",
   "metadata": {},
   "source": [
    "# 6. Moving into Conceptual Problems:\n",
    "\n",
    "## a) The lecture notes describe the Gini Index which is the default criterion used for splitting in sklearn's version of RandomForestClassifier. How does the Gini Index work? (i.e. How is it used to build a top-performing model?). \n",
    "\n",
    "The Gini Index calculates impurity as \\(1 - \\sum (p_i^2)\\), aiming to maximize the purity of nodes, leading to models that efficiently categorize the data by minimizing misclassification. By choosing splits that minimize the Gini index, RandomForest aims to create highly pure nodes, thus enhancing the overall predictive accuracy and robustness of the model by effectively managing the classification of the data.\n",
    "\n",
    "## b) Describe how Random Forest is different from bagging & why this difference can yield improved results.\n",
    "\n",
    "Bagging is combination od Bootstrap+ aggregation – general purpose procedure for reducing the variance of a model. This works by fitting multiple models to bootstrapped samples from training data set.It is bettern than tree models in that boostrapped training sets and **average the resulting predictions**.Random Forest is a specialized type of bagging that primarily uses decision trees as its base models and introduces additional randomness into the model-building process, improving over traditional bagging in two significant ways:\n",
    "\n",
    "De-correlating Trees: Whereas standard bagging uses the same set of features to split nodes in each tree, Random Forest randomly selects a subset of features at each split.\n",
    "Reduction in Variance Without Increasing Bias: By de-correlating the trees, Random Forest can reduce the variance more effectively than standard bagging without a corresponding increase in bias. \n",
    "\n",
    "\n",
    "## c) Describe the importance of the max_depth parameter in Random Forest. Do not just provide a definition, rather think through how bias-variance tradeoff might be impacted by the max_depth parameter.\n",
    "\n",
    "max_depth parameter in Random Forest plays a crucial role in controlling the complexity of the model.\n",
    "high max_depth:can improve the model's ability to capture complex patterns in the data, potentially leading to lower bias. However, if the trees fit too closely to noise and anomalies in the training data, overfitting might happen\n",
    "lower max_depth :limits the growth of the trees, simplifying the model, which can increase bias but generally leads to better generalization and lower variance, making the model more robust to new, unseen data.\n",
    "\n",
    "\n",
    "\n",
    "## d)What does the alpha parameter represent in AdaBoost? Please refer to chapter 7 of the Hands-On ML book if you are struggling.\n",
    "\n",
    "alpha parameter is weight of a given weak classifier in the final decision of the ensemble model. For example, classifiers with lower error rates are assigned higher alpha values. This can adjust the contribution of each weak learner, ensuring that better-performing models have a greater impact on the ensemble's predictions\n",
    "\n",
    "## e) In AdaBoost explain how the final predicted class is determined. Be sure to reference the alpha term in your explanation.\n",
    "\n",
    "In AdaBoost, the final predicted class is determined through a weighted majority voting process where each weak classifier's vote is weighted by its corresponding alpha value, which reflects the classifier's accuracy. Alpha is calculated such that classifiers with lower error rates have higher alpha values, giving them more influence on the final decision. The overall prediction is the sign of the sum of these weighted votes, ensuring that more accurate classifiers have a greater impact on the outcome.\n",
    "\n",
    "## f) In Gradient Boosting, what is the role of the max_depth parameter? Why is it important to tune on this parameter?\n",
    "\n",
    "In Gradient Boosting, the `max_depth` parameter determines the depth of the trees and is crucial for controlling model complexity and preventing overfitting. Setting an optimal `max_depth` helps balance bias and variance, ensuring trees are complex enough to model relevant interactions but not so detailed that they capture noise and fail to generalize. Tuning this parameter is essential for achieving the best performance on unseen data, as it directly affects the model's ability to learn generalized patterns rather than overfitting to the training data.\n",
    "\n",
    "## g) In Part (e) of Steps 2-5 you determined the top 5 predictors across each model. Do any predictors show up in the top 5 predictors for all three models? If so, comment on if this predictor makes sense given what you are attempting to predict. (Note: If you don't have any predictors showing up across all 3 predictors, explain one that shows up in 2 of them).\n",
    "\n",
    "Yes. ['age, 'capital_gain'] are the top 5 predictors for all three models. since salary goes up wirh again anf capticsl gain, the result makes more sense\n",
    "\n",
    "\n",
    "## h) From the models run in steps 2-5, which performs the best based on the Classification Report? Support your reasoning with evidence from your test data and be sure to share the optimal hyperparameters found from your grid search.\n",
    "\n",
    "Gradiet boosting outperformed with AUC Score: 0.92 from that gradient technique is more robust to nisy dat and outliers, as well as being less prone to overfitting die to the use of msx depth paramaters.\n",
    "\n",
    "## i) For your best performing model, plot out a ROC curve using your test data. Feel free to use sklearn, matplotlib or any other method in python. Describe what the x-axis & y-axis of the ROC curve tell us about a classifier.\n",
    "\n"
   ]
  },
  {
   "cell_type": "code",
   "execution_count": 37,
   "id": "0518a297",
   "metadata": {},
   "outputs": [
    {
     "data": {
      "image/png": "[encoded data removed]",
      "text/plain": [
       "<Figure size 800x600 with 1 Axes>"
      ]
     },
     "metadata": {},
     "output_type": "display_data"
    }
   ],
   "source": [
    "import matplotlib.pyplot as plt\n",
    "from sklearn.metrics import roc_curve, auc\n",
    "\n",
    "# Compute the False Positive Rate (FPR), True Positive Rate (TPR), and threshold values\n",
    "fpr, tpr, thresholds = roc_curve(y_test, y_proba_gbc)\n",
    "\n",
    "# Calculate the AUC (Area Under the Curve) from the FPR and TPR\n",
    "roc_auc = auc(fpr, tpr)\n",
    "\n",
    "# Plot the ROC Curve\n",
    "plt.figure(figsize=(8, 6))\n",
    "plt.plot(fpr, tpr, color='darkorange', lw=2, label='ROC curve (area = %0.2f)' % roc_auc)\n",
    "plt.plot([0, 1], [0, 1], color='navy', linestyle='--')\n",
    "plt.xlim([0.0, 1.0])\n",
    "plt.ylim([0.0, 1.05])\n",
    "plt.xlabel('False Positive Rate (FPR)')\n",
    "plt.ylabel('True Positive Rate (TPR)')\n",
    "plt.title('Receiver Operating Characteristic (ROC) Curve')\n",
    "plt.legend(loc=\"lower right\")\n",
    "plt.grid(True)\n",
    "plt.show()\n"
   ]
  }
 ],
 "metadata": {
  "kernelspec": {
   "display_name": "Python 3 (ipykernel)",
   "language": "python",
   "name": "python3"
  },
  "language_info": {
   "codemirror_mode": {
    "name": "ipython",
    "version": 3
   },
   "file_extension": ".py",
   "mimetype": "text/x-python",
   "name": "python",
   "nbconvert_exporter": "python",
   "pygments_lexer": "ipython3",
   "version": "3.11.5"
  }
 },
 "nbformat": 4,
 "nbformat_minor": 5
}
